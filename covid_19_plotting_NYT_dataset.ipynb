{
 "cells": [
  {
<<<<<<< HEAD
   "cell_type": "code",
   "execution_count": 1,
=======
   "cell_type": "markdown",
   "metadata": {},
   "source": [
    "# Covid-19 Data\n",
    "\n",
    "The New York Times has started releasing daily updates of US coronavirus cases by county and state:\n",
    "https://www.nytimes.com/interactive/2020/us/coronavirus-us-cases.html\n",
    "\n",
    "This notebook uses that dataset to practice/explore some basic plotting in plotly (an interactive\n",
    "plotting package). \n"
   ]
  },
  {
   "cell_type": "code",
   "execution_count": null,
>>>>>>> temp-branch
   "metadata": {},
   "outputs": [],
   "source": [
    "import matplotlib.pyplot as plt\n",
    "import pandas as pd\n",
    "import xarray as xr"
   ]
  },
  {
   "cell_type": "markdown",
   "metadata": {},
   "source": [
    "## SideNote: the javascript below lets you export the interactive figures to an html page"
   ]
  },
  {
   "cell_type": "code",
   "execution_count": 135,
   "metadata": {},
   "outputs": [
    {
     "data": {
      "application/javascript": [
       "//hack to fix export\n",
       "require.config({\n",
       "  paths: {\n",
       "    d3: 'https://cdnjs.cloudflare.com/ajax/libs/d3/5.9.2/d3',\n",
       "    jquery: 'https://code.jquery.com/jquery-3.4.1.min',\n",
       "    plotly: 'https://cdn.plot.ly/plotly-latest.min'\n",
       "  },\n",
       "\n",
       "  shim: {\n",
       "    plotly: {\n",
       "      deps: ['d3', 'jquery'],\n",
       "      exports: 'plotly'\n",
       "    }\n",
       "  }\n",
       "});\n"
      ],
      "text/plain": [
       "<IPython.core.display.Javascript object>"
      ]
     },
     "metadata": {},
     "output_type": "display_data"
    }
   ],
   "source": [
    "%%javascript\n",
    "//hack to fix export\n",
    "require.config({\n",
    "  paths: {\n",
    "    d3: 'https://cdnjs.cloudflare.com/ajax/libs/d3/5.9.2/d3',\n",
    "    jquery: 'https://code.jquery.com/jquery-3.4.1.min',\n",
    "    plotly: 'https://cdn.plot.ly/plotly-latest.min'\n",
    "  },\n",
    "\n",
    "  shim: {\n",
    "    plotly: {\n",
    "      deps: ['d3', 'jquery'],\n",
    "      exports: 'plotly'\n",
    "    }\n",
    "  }\n",
    "});"
   ]
  },
  {
<<<<<<< HEAD
   "cell_type": "code",
   "execution_count": 147,
=======
   "cell_type": "markdown",
   "metadata": {},
   "source": [
    "## Get the data\n",
    "- The cell below downloads the latest case counts in each county and reads it using pandas"
   ]
  },
  {
   "cell_type": "code",
   "execution_count": 225,
>>>>>>> temp-branch
   "metadata": {},
   "outputs": [
    {
     "data": {
      "text/html": [
       "<div>\n",
       "<style scoped>\n",
       "    .dataframe tbody tr th:only-of-type {\n",
       "        vertical-align: middle;\n",
       "    }\n",
       "\n",
       "    .dataframe tbody tr th {\n",
       "        vertical-align: top;\n",
       "    }\n",
       "\n",
       "    .dataframe thead th {\n",
       "        text-align: right;\n",
       "    }\n",
       "</style>\n",
       "<table border=\"1\" class=\"dataframe\">\n",
       "  <thead>\n",
       "    <tr style=\"text-align: right;\">\n",
       "      <th></th>\n",
       "      <th>date</th>\n",
       "      <th>county</th>\n",
       "      <th>state</th>\n",
       "      <th>fips</th>\n",
       "      <th>cases</th>\n",
       "      <th>deaths</th>\n",
       "    </tr>\n",
       "  </thead>\n",
       "  <tbody>\n",
       "    <tr>\n",
       "      <td>0</td>\n",
       "      <td>2020-01-21</td>\n",
       "      <td>Snohomish</td>\n",
       "      <td>Washington</td>\n",
       "      <td>53061.0</td>\n",
       "      <td>1</td>\n",
       "      <td>0</td>\n",
       "    </tr>\n",
       "    <tr>\n",
       "      <td>1</td>\n",
       "      <td>2020-01-22</td>\n",
       "      <td>Snohomish</td>\n",
       "      <td>Washington</td>\n",
       "      <td>53061.0</td>\n",
       "      <td>1</td>\n",
       "      <td>0</td>\n",
       "    </tr>\n",
       "    <tr>\n",
       "      <td>2</td>\n",
       "      <td>2020-01-23</td>\n",
       "      <td>Snohomish</td>\n",
       "      <td>Washington</td>\n",
       "      <td>53061.0</td>\n",
       "      <td>1</td>\n",
       "      <td>0</td>\n",
       "    </tr>\n",
       "    <tr>\n",
       "      <td>3</td>\n",
       "      <td>2020-01-24</td>\n",
       "      <td>Cook</td>\n",
       "      <td>Illinois</td>\n",
       "      <td>17031.0</td>\n",
       "      <td>1</td>\n",
       "      <td>0</td>\n",
       "    </tr>\n",
       "    <tr>\n",
       "      <td>4</td>\n",
       "      <td>2020-01-24</td>\n",
       "      <td>Snohomish</td>\n",
       "      <td>Washington</td>\n",
       "      <td>53061.0</td>\n",
       "      <td>1</td>\n",
       "      <td>0</td>\n",
       "    </tr>\n",
       "  </tbody>\n",
       "</table>\n",
       "</div>"
      ],
      "text/plain": [
       "         date     county       state     fips  cases  deaths\n",
       "0  2020-01-21  Snohomish  Washington  53061.0      1       0\n",
       "1  2020-01-22  Snohomish  Washington  53061.0      1       0\n",
       "2  2020-01-23  Snohomish  Washington  53061.0      1       0\n",
       "3  2020-01-24       Cook    Illinois  17031.0      1       0\n",
       "4  2020-01-24  Snohomish  Washington  53061.0      1       0"
      ]
     },
<<<<<<< HEAD
     "execution_count": 147,
=======
     "execution_count": 225,
>>>>>>> temp-branch
     "metadata": {},
     "output_type": "execute_result"
    }
   ],
   "source": [
    "# load county level  \n",
    "# there is also a state level data but you can get the same values by adding up\n",
<<<<<<< HEAD
    "# counties so no need to double load files\n",
    "file = 'us-counties.csv'\n",
=======
    "# counties so no need to double load files - link is for regularly updated nyt file\n",
    "file = 'https://raw.githubusercontent.com/nytimes/covid-19-data/master/us-counties.csv'\n",
>>>>>>> temp-branch
    "counties = pd.read_csv(file)\n",
    "counties.head() # previews the dataframe"
   ]
  },
  {
<<<<<<< HEAD
   "cell_type": "code",
   "execution_count": 148,
=======
   "cell_type": "markdown",
   "metadata": {},
   "source": [
    "# Show a bar graph of state by state totals\n",
    "\n",
    "The first plot will be a bar graph showing the total cases by each state"
   ]
  },
  {
   "cell_type": "code",
   "execution_count": 226,
>>>>>>> temp-branch
   "metadata": {},
   "outputs": [
    {
     "data": {
      "text/html": [
       "<div>\n",
       "<style scoped>\n",
       "    .dataframe tbody tr th:only-of-type {\n",
       "        vertical-align: middle;\n",
       "    }\n",
       "\n",
       "    .dataframe tbody tr th {\n",
       "        vertical-align: top;\n",
       "    }\n",
       "\n",
       "    .dataframe thead th {\n",
       "        text-align: right;\n",
       "    }\n",
       "</style>\n",
       "<table border=\"1\" class=\"dataframe\">\n",
       "  <thead>\n",
       "    <tr style=\"text-align: right;\">\n",
       "      <th></th>\n",
       "      <th>fips</th>\n",
       "      <th>cases</th>\n",
       "      <th>deaths</th>\n",
       "    </tr>\n",
       "    <tr>\n",
       "      <th>state</th>\n",
       "      <th></th>\n",
       "      <th></th>\n",
       "      <th></th>\n",
       "    </tr>\n",
       "  </thead>\n",
       "  <tbody>\n",
       "    <tr>\n",
       "      <td>Alabama</td>\n",
       "      <td>63115.0</td>\n",
<<<<<<< HEAD
       "      <td>947</td>\n",
       "      <td>11</td>\n",
=======
       "      <td>999</td>\n",
       "      <td>13</td>\n",
>>>>>>> temp-branch
       "    </tr>\n",
       "    <tr>\n",
       "      <td>Alaska</td>\n",
       "      <td>12642.0</td>\n",
<<<<<<< HEAD
       "      <td>120</td>\n",
=======
       "      <td>133</td>\n",
>>>>>>> temp-branch
       "      <td>2</td>\n",
       "    </tr>\n",
       "    <tr>\n",
       "      <td>Arizona</td>\n",
       "      <td>60208.0</td>\n",
<<<<<<< HEAD
       "      <td>1169</td>\n",
       "      <td>14</td>\n",
       "    </tr>\n",
       "    <tr>\n",
       "      <td>Arkansas</td>\n",
       "      <td>258705.0</td>\n",
       "      <td>567</td>\n",
       "      <td>11</td>\n",
       "    </tr>\n",
       "    <tr>\n",
       "      <td>California</td>\n",
       "      <td>296827.0</td>\n",
       "      <td>7423</td>\n",
       "      <td>147</td>\n",
=======
       "      <td>1298</td>\n",
       "      <td>17</td>\n",
       "    </tr>\n",
       "    <tr>\n",
       "      <td>Arkansas</td>\n",
       "      <td>268923.0</td>\n",
       "      <td>620</td>\n",
       "      <td>12</td>\n",
       "    </tr>\n",
       "    <tr>\n",
       "      <td>California</td>\n",
       "      <td>302890.0</td>\n",
       "      <td>8585</td>\n",
       "      <td>186</td>\n",
>>>>>>> temp-branch
       "    </tr>\n",
       "  </tbody>\n",
       "</table>\n",
       "</div>"
      ],
      "text/plain": [
       "                fips  cases  deaths\n",
       "state                              \n",
<<<<<<< HEAD
       "Alabama      63115.0    947      11\n",
       "Alaska       12642.0    120       2\n",
       "Arizona      60208.0   1169      14\n",
       "Arkansas    258705.0    567      11\n",
       "California  296827.0   7423     147"
      ]
     },
     "execution_count": 148,
=======
       "Alabama      63115.0    999      13\n",
       "Alaska       12642.0    133       2\n",
       "Arizona      60208.0   1298      17\n",
       "Arkansas    268923.0    620      12\n",
       "California  302890.0   8585     186"
      ]
     },
     "execution_count": 226,
>>>>>>> temp-branch
     "metadata": {},
     "output_type": "execute_result"
    }
   ],
   "source": [
<<<<<<< HEAD
    "# show a bar graph of state by state totals\n",
    "\n",
    "# first step - get state totals\n",
    "\n",
    "# the data is set as total cases each day so the latest total is the latest date\n",
=======
    "# first step - get state totals\n",
    "\n",
    "# the data is set is total cases each day so the latest total is the latest date\n",
>>>>>>> temp-branch
    "countiesLatest = counties.loc[counties.date == counties.date.max()]\n",
    "\n",
    "# group by state and get the sums\n",
    "stateTotLatest = countiesLatest.groupby('state').sum()\n",
    "stateTotLatest.head() # previews the dataframe"
   ]
  },
  {
   "cell_type": "markdown",
   "metadata": {},
   "source": []
  },
  {
   "cell_type": "code",
<<<<<<< HEAD
   "execution_count": 149,
=======
   "execution_count": 227,
>>>>>>> temp-branch
   "metadata": {},
   "outputs": [],
   "source": [
    "# use plotly to make some interactive charts:\n",
    "import plotly.graph_objects as go"
   ]
  },
  {
   "cell_type": "code",
<<<<<<< HEAD
   "execution_count": 150,
=======
   "execution_count": 413,
>>>>>>> temp-branch
   "metadata": {},
   "outputs": [
    {
     "data": {
      "application/vnd.plotly.v1+json": {
       "config": {
        "plotlyServerURL": "https://plot.ly"
       },
       "data": [
        {
         "hovertemplate": "%{x}: %{y} <extra></extra>",
         "marker": {
          "color": "red"
         },
         "text": [
<<<<<<< HEAD
          947,
          120,
          1169,
          567,
          7423,
          2656,
          2571,
          264,
          495,
          5696,
          3032,
          60,
          199,
          415,
          5125,
          1788,
          424,
          374,
          484,
          4025,
          275,
          1415,
          5752,
          6509,
          577,
          848,
          1051,
          177,
          185,
          1044,
          314,
          16636,
          282,
          67216,
          1305,
          110,
          2,
          1933,
          481,
          607,
          4156,
          174,
          415,
          925,
          102,
          1729,
          3046,
          806,
          277,
          30,
          1021,
          4932,
          145,
          1269,
          96
=======
          999,
          133,
          1298,
          620,
          8585,
          2990,
          3128,
          319,
          495,
          6744,
          4126,
          139,
          224,
          526,
          6046,
          2168,
          498,
          435,
          599,
          5237,
          303,
          1662,
          6620,
          7630,
          630,
          941,
          1351,
          198,
          201,
          1113,
          367,
          18696,
          315,
          75832,
          1529,
          126,
          2,
          2199,
          566,
          690,
          4997,
          239,
          595,
          1083,
          108,
          1899,
          3594,
          887,
          305,
          30,
          1250,
          5061,
          162,
          1351,
          121
>>>>>>> temp-branch
         ],
         "type": "bar",
         "x": [
          "Alabama",
          "Alaska",
          "Arizona",
          "Arkansas",
          "California",
          "Colorado",
          "Connecticut",
          "Delaware",
          "District of Columbia",
          "Florida",
          "Georgia",
          "Guam",
          "Hawaii",
          "Idaho",
          "Illinois",
          "Indiana",
          "Iowa",
          "Kansas",
          "Kentucky",
          "Louisiana",
          "Maine",
          "Maryland",
          "Massachusetts",
          "Michigan",
          "Minnesota",
          "Mississippi",
          "Missouri",
          "Montana",
          "Nebraska",
          "Nevada",
          "New Hampshire",
          "New Jersey",
          "New Mexico",
          "New York",
          "North Carolina",
          "North Dakota",
          "Northern Mariana Islands",
          "Ohio",
          "Oklahoma",
          "Oregon",
          "Pennsylvania",
          "Puerto Rico",
          "Rhode Island",
          "South Carolina",
          "South Dakota",
          "Tennessee",
          "Texas",
          "Utah",
          "Vermont",
          "Virgin Islands",
          "Virginia",
          "Washington",
          "West Virginia",
          "Wisconsin",
          "Wyoming"
         ],
         "y": [
<<<<<<< HEAD
          947,
          120,
          1169,
          567,
          7423,
          2656,
          2571,
          264,
          495,
          5696,
          3032,
          60,
          199,
          415,
          5125,
          1788,
          424,
          374,
          484,
          4025,
          275,
          1415,
          5752,
          6509,
          577,
          848,
          1051,
          177,
          185,
          1044,
          314,
          16636,
          282,
          67216,
          1305,
          110,
          2,
          1933,
          481,
          607,
          4156,
          174,
          415,
          925,
          102,
          1729,
          3046,
          806,
          277,
          30,
          1021,
          4932,
          145,
          1269,
          96
=======
          999,
          133,
          1298,
          620,
          8585,
          2990,
          3128,
          319,
          495,
          6744,
          4126,
          139,
          224,
          526,
          6046,
          2168,
          498,
          435,
          599,
          5237,
          303,
          1662,
          6620,
          7630,
          630,
          941,
          1351,
          198,
          201,
          1113,
          367,
          18696,
          315,
          75832,
          1529,
          126,
          2,
          2199,
          566,
          690,
          4997,
          239,
          595,
          1083,
          108,
          1899,
          3594,
          887,
          305,
          30,
          1250,
          5061,
          162,
          1351,
          121
>>>>>>> temp-branch
         ]
        }
       ],
       "layout": {
        "height": 600,
        "template": {
         "data": {
          "bar": [
           {
            "error_x": {
             "color": "#2a3f5f"
            },
            "error_y": {
             "color": "#2a3f5f"
            },
            "marker": {
             "line": {
              "color": "#E5ECF6",
              "width": 0.5
             }
            },
            "type": "bar"
           }
          ],
          "barpolar": [
           {
            "marker": {
             "line": {
              "color": "#E5ECF6",
              "width": 0.5
             }
            },
            "type": "barpolar"
           }
          ],
          "carpet": [
           {
            "aaxis": {
             "endlinecolor": "#2a3f5f",
             "gridcolor": "white",
             "linecolor": "white",
             "minorgridcolor": "white",
             "startlinecolor": "#2a3f5f"
            },
            "baxis": {
             "endlinecolor": "#2a3f5f",
             "gridcolor": "white",
             "linecolor": "white",
             "minorgridcolor": "white",
             "startlinecolor": "#2a3f5f"
            },
            "type": "carpet"
           }
          ],
          "choropleth": [
           {
            "colorbar": {
             "outlinewidth": 0,
             "ticks": ""
            },
            "type": "choropleth"
           }
          ],
          "contour": [
           {
            "colorbar": {
             "outlinewidth": 0,
             "ticks": ""
            },
            "colorscale": [
             [
              0,
              "#0d0887"
             ],
             [
              0.1111111111111111,
              "#46039f"
             ],
             [
              0.2222222222222222,
              "#7201a8"
             ],
             [
              0.3333333333333333,
              "#9c179e"
             ],
             [
              0.4444444444444444,
              "#bd3786"
             ],
             [
              0.5555555555555556,
              "#d8576b"
             ],
             [
              0.6666666666666666,
              "#ed7953"
             ],
             [
              0.7777777777777778,
              "#fb9f3a"
             ],
             [
              0.8888888888888888,
              "#fdca26"
             ],
             [
              1,
              "#f0f921"
             ]
            ],
            "type": "contour"
           }
          ],
          "contourcarpet": [
           {
            "colorbar": {
             "outlinewidth": 0,
             "ticks": ""
            },
            "type": "contourcarpet"
           }
          ],
          "heatmap": [
           {
            "colorbar": {
             "outlinewidth": 0,
             "ticks": ""
            },
            "colorscale": [
             [
              0,
              "#0d0887"
             ],
             [
              0.1111111111111111,
              "#46039f"
             ],
             [
              0.2222222222222222,
              "#7201a8"
             ],
             [
              0.3333333333333333,
              "#9c179e"
             ],
             [
              0.4444444444444444,
              "#bd3786"
             ],
             [
              0.5555555555555556,
              "#d8576b"
             ],
             [
              0.6666666666666666,
              "#ed7953"
             ],
             [
              0.7777777777777778,
              "#fb9f3a"
             ],
             [
              0.8888888888888888,
              "#fdca26"
             ],
             [
              1,
              "#f0f921"
             ]
            ],
            "type": "heatmap"
           }
          ],
          "heatmapgl": [
           {
            "colorbar": {
             "outlinewidth": 0,
             "ticks": ""
            },
            "colorscale": [
             [
              0,
              "#0d0887"
             ],
             [
              0.1111111111111111,
              "#46039f"
             ],
             [
              0.2222222222222222,
              "#7201a8"
             ],
             [
              0.3333333333333333,
              "#9c179e"
             ],
             [
              0.4444444444444444,
              "#bd3786"
             ],
             [
              0.5555555555555556,
              "#d8576b"
             ],
             [
              0.6666666666666666,
              "#ed7953"
             ],
             [
              0.7777777777777778,
              "#fb9f3a"
             ],
             [
              0.8888888888888888,
              "#fdca26"
             ],
             [
              1,
              "#f0f921"
             ]
            ],
            "type": "heatmapgl"
           }
          ],
          "histogram": [
           {
            "marker": {
             "colorbar": {
              "outlinewidth": 0,
              "ticks": ""
             }
            },
            "type": "histogram"
           }
          ],
          "histogram2d": [
           {
            "colorbar": {
             "outlinewidth": 0,
             "ticks": ""
            },
            "colorscale": [
             [
              0,
              "#0d0887"
             ],
             [
              0.1111111111111111,
              "#46039f"
             ],
             [
              0.2222222222222222,
              "#7201a8"
             ],
             [
              0.3333333333333333,
              "#9c179e"
             ],
             [
              0.4444444444444444,
              "#bd3786"
             ],
             [
              0.5555555555555556,
              "#d8576b"
             ],
             [
              0.6666666666666666,
              "#ed7953"
             ],
             [
              0.7777777777777778,
              "#fb9f3a"
             ],
             [
              0.8888888888888888,
              "#fdca26"
             ],
             [
              1,
              "#f0f921"
             ]
            ],
            "type": "histogram2d"
           }
          ],
          "histogram2dcontour": [
           {
            "colorbar": {
             "outlinewidth": 0,
             "ticks": ""
            },
            "colorscale": [
             [
              0,
              "#0d0887"
             ],
             [
              0.1111111111111111,
              "#46039f"
             ],
             [
              0.2222222222222222,
              "#7201a8"
             ],
             [
              0.3333333333333333,
              "#9c179e"
             ],
             [
              0.4444444444444444,
              "#bd3786"
             ],
             [
              0.5555555555555556,
              "#d8576b"
             ],
             [
              0.6666666666666666,
              "#ed7953"
             ],
             [
              0.7777777777777778,
              "#fb9f3a"
             ],
             [
              0.8888888888888888,
              "#fdca26"
             ],
             [
              1,
              "#f0f921"
             ]
            ],
            "type": "histogram2dcontour"
           }
          ],
          "mesh3d": [
           {
            "colorbar": {
             "outlinewidth": 0,
             "ticks": ""
            },
            "type": "mesh3d"
           }
          ],
          "parcoords": [
           {
            "line": {
             "colorbar": {
              "outlinewidth": 0,
              "ticks": ""
             }
            },
            "type": "parcoords"
           }
          ],
          "pie": [
           {
            "automargin": true,
            "type": "pie"
           }
          ],
          "scatter": [
           {
            "marker": {
             "colorbar": {
              "outlinewidth": 0,
              "ticks": ""
             }
            },
            "type": "scatter"
           }
          ],
          "scatter3d": [
           {
            "line": {
             "colorbar": {
              "outlinewidth": 0,
              "ticks": ""
             }
            },
            "marker": {
             "colorbar": {
              "outlinewidth": 0,
              "ticks": ""
             }
            },
            "type": "scatter3d"
           }
          ],
          "scattercarpet": [
           {
            "marker": {
             "colorbar": {
              "outlinewidth": 0,
              "ticks": ""
             }
            },
            "type": "scattercarpet"
           }
          ],
          "scattergeo": [
           {
            "marker": {
             "colorbar": {
              "outlinewidth": 0,
              "ticks": ""
             }
            },
            "type": "scattergeo"
           }
          ],
          "scattergl": [
           {
            "marker": {
             "colorbar": {
              "outlinewidth": 0,
              "ticks": ""
             }
            },
            "type": "scattergl"
           }
          ],
          "scattermapbox": [
           {
            "marker": {
             "colorbar": {
              "outlinewidth": 0,
              "ticks": ""
             }
            },
            "type": "scattermapbox"
           }
          ],
          "scatterpolar": [
           {
            "marker": {
             "colorbar": {
              "outlinewidth": 0,
              "ticks": ""
             }
            },
            "type": "scatterpolar"
           }
          ],
          "scatterpolargl": [
           {
            "marker": {
             "colorbar": {
              "outlinewidth": 0,
              "ticks": ""
             }
            },
            "type": "scatterpolargl"
           }
          ],
          "scatterternary": [
           {
            "marker": {
             "colorbar": {
              "outlinewidth": 0,
              "ticks": ""
             }
            },
            "type": "scatterternary"
           }
          ],
          "surface": [
           {
            "colorbar": {
             "outlinewidth": 0,
             "ticks": ""
            },
            "colorscale": [
             [
              0,
              "#0d0887"
             ],
             [
              0.1111111111111111,
              "#46039f"
             ],
             [
              0.2222222222222222,
              "#7201a8"
             ],
             [
              0.3333333333333333,
              "#9c179e"
             ],
             [
              0.4444444444444444,
              "#bd3786"
             ],
             [
              0.5555555555555556,
              "#d8576b"
             ],
             [
              0.6666666666666666,
              "#ed7953"
             ],
             [
              0.7777777777777778,
              "#fb9f3a"
             ],
             [
              0.8888888888888888,
              "#fdca26"
             ],
             [
              1,
              "#f0f921"
             ]
            ],
            "type": "surface"
           }
          ],
          "table": [
           {
            "cells": {
             "fill": {
              "color": "#EBF0F8"
             },
             "line": {
              "color": "white"
             }
            },
            "header": {
             "fill": {
              "color": "#C8D4E3"
             },
             "line": {
              "color": "white"
             }
            },
            "type": "table"
           }
          ]
         },
         "layout": {
          "annotationdefaults": {
           "arrowcolor": "#2a3f5f",
           "arrowhead": 0,
           "arrowwidth": 1
          },
          "coloraxis": {
           "colorbar": {
            "outlinewidth": 0,
            "ticks": ""
           }
          },
          "colorscale": {
           "diverging": [
            [
             0,
             "#8e0152"
            ],
            [
             0.1,
             "#c51b7d"
            ],
            [
             0.2,
             "#de77ae"
            ],
            [
             0.3,
             "#f1b6da"
            ],
            [
             0.4,
             "#fde0ef"
            ],
            [
             0.5,
             "#f7f7f7"
            ],
            [
             0.6,
             "#e6f5d0"
            ],
            [
             0.7,
             "#b8e186"
            ],
            [
             0.8,
             "#7fbc41"
            ],
            [
             0.9,
             "#4d9221"
            ],
            [
             1,
             "#276419"
            ]
           ],
           "sequential": [
            [
             0,
             "#0d0887"
            ],
            [
             0.1111111111111111,
             "#46039f"
            ],
            [
             0.2222222222222222,
             "#7201a8"
            ],
            [
             0.3333333333333333,
             "#9c179e"
            ],
            [
             0.4444444444444444,
             "#bd3786"
            ],
            [
             0.5555555555555556,
             "#d8576b"
            ],
            [
             0.6666666666666666,
             "#ed7953"
            ],
            [
             0.7777777777777778,
             "#fb9f3a"
            ],
            [
             0.8888888888888888,
             "#fdca26"
            ],
            [
             1,
             "#f0f921"
            ]
           ],
           "sequentialminus": [
            [
             0,
             "#0d0887"
            ],
            [
             0.1111111111111111,
             "#46039f"
            ],
            [
             0.2222222222222222,
             "#7201a8"
            ],
            [
             0.3333333333333333,
             "#9c179e"
            ],
            [
             0.4444444444444444,
             "#bd3786"
            ],
            [
             0.5555555555555556,
             "#d8576b"
            ],
            [
             0.6666666666666666,
             "#ed7953"
            ],
            [
             0.7777777777777778,
             "#fb9f3a"
            ],
            [
             0.8888888888888888,
             "#fdca26"
            ],
            [
             1,
             "#f0f921"
            ]
           ]
          },
          "colorway": [
           "#636efa",
           "#EF553B",
           "#00cc96",
           "#ab63fa",
           "#FFA15A",
           "#19d3f3",
           "#FF6692",
           "#B6E880",
           "#FF97FF",
           "#FECB52"
          ],
          "font": {
           "color": "#2a3f5f"
          },
          "geo": {
           "bgcolor": "white",
           "lakecolor": "white",
           "landcolor": "#E5ECF6",
           "showlakes": true,
           "showland": true,
           "subunitcolor": "white"
          },
          "hoverlabel": {
           "align": "left"
          },
          "hovermode": "closest",
          "mapbox": {
           "style": "light"
          },
          "paper_bgcolor": "white",
          "plot_bgcolor": "#E5ECF6",
          "polar": {
           "angularaxis": {
            "gridcolor": "white",
            "linecolor": "white",
            "ticks": ""
           },
           "bgcolor": "#E5ECF6",
           "radialaxis": {
            "gridcolor": "white",
            "linecolor": "white",
            "ticks": ""
           }
          },
          "scene": {
           "xaxis": {
            "backgroundcolor": "#E5ECF6",
            "gridcolor": "white",
            "gridwidth": 2,
            "linecolor": "white",
            "showbackground": true,
            "ticks": "",
            "zerolinecolor": "white"
           },
           "yaxis": {
            "backgroundcolor": "#E5ECF6",
            "gridcolor": "white",
            "gridwidth": 2,
            "linecolor": "white",
            "showbackground": true,
            "ticks": "",
            "zerolinecolor": "white"
           },
           "zaxis": {
            "backgroundcolor": "#E5ECF6",
            "gridcolor": "white",
            "gridwidth": 2,
            "linecolor": "white",
            "showbackground": true,
            "ticks": "",
            "zerolinecolor": "white"
           }
          },
          "shapedefaults": {
           "line": {
            "color": "#2a3f5f"
           }
          },
          "ternary": {
           "aaxis": {
            "gridcolor": "white",
            "linecolor": "white",
            "ticks": ""
           },
           "baxis": {
            "gridcolor": "white",
            "linecolor": "white",
            "ticks": ""
           },
           "bgcolor": "#E5ECF6",
           "caxis": {
            "gridcolor": "white",
            "linecolor": "white",
            "ticks": ""
           }
          },
          "title": {
           "x": 0.05
          },
          "xaxis": {
           "automargin": true,
           "gridcolor": "white",
           "linecolor": "white",
           "ticks": "",
           "title": {
            "standoff": 15
           },
           "zerolinecolor": "white",
           "zerolinewidth": 2
          },
          "yaxis": {
           "automargin": true,
           "gridcolor": "white",
           "linecolor": "white",
           "ticks": "",
           "title": {
            "standoff": 15
           },
           "zerolinecolor": "white",
           "zerolinewidth": 2
          }
         }
        },
        "width": 1000,
        "xaxis": {
         "autorange": true,
         "range": [
          -0.5,
          54.5
         ],
         "type": "category"
        },
        "yaxis": {
         "autorange": true,
         "range": [
          0,
<<<<<<< HEAD
          70753.68421052632
=======
          79823.15789473684
>>>>>>> temp-branch
         ],
         "type": "linear"
        }
       }
      },
<<<<<<< HEAD
      "image/png": "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",
=======
      "image/png": "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",
>>>>>>> temp-branch
      "text/html": [
       "<div>\n",
       "        \n",
       "        \n",
<<<<<<< HEAD
       "            <div id=\"2dee9371-c253-41f2-8646-5db20144960a\" class=\"plotly-graph-div\" style=\"height:600px; width:1000px;\"></div>\n",
=======
       "            <div id=\"b7b3b4bc-2fad-4f9d-922f-3d25753da21e\" class=\"plotly-graph-div\" style=\"height:600px; width:1000px;\"></div>\n",
>>>>>>> temp-branch
       "            <script type=\"text/javascript\">\n",
       "                require([\"plotly\"], function(Plotly) {\n",
       "                    window.PLOTLYENV=window.PLOTLYENV || {};\n",
       "                    \n",
<<<<<<< HEAD
       "                if (document.getElementById(\"2dee9371-c253-41f2-8646-5db20144960a\")) {\n",
       "                    Plotly.newPlot(\n",
       "                        '2dee9371-c253-41f2-8646-5db20144960a',\n",
       "                        [{\"hovertemplate\": \"%{x}: %{y} <extra></extra>\", \"marker\": {\"color\": \"red\"}, \"text\": [947.0, 120.0, 1169.0, 567.0, 7423.0, 2656.0, 2571.0, 264.0, 495.0, 5696.0, 3032.0, 60.0, 199.0, 415.0, 5125.0, 1788.0, 424.0, 374.0, 484.0, 4025.0, 275.0, 1415.0, 5752.0, 6509.0, 577.0, 848.0, 1051.0, 177.0, 185.0, 1044.0, 314.0, 16636.0, 282.0, 67216.0, 1305.0, 110.0, 2.0, 1933.0, 481.0, 607.0, 4156.0, 174.0, 415.0, 925.0, 102.0, 1729.0, 3046.0, 806.0, 277.0, 30.0, 1021.0, 4932.0, 145.0, 1269.0, 96.0], \"type\": \"bar\", \"x\": [\"Alabama\", \"Alaska\", \"Arizona\", \"Arkansas\", \"California\", \"Colorado\", \"Connecticut\", \"Delaware\", \"District of Columbia\", \"Florida\", \"Georgia\", \"Guam\", \"Hawaii\", \"Idaho\", \"Illinois\", \"Indiana\", \"Iowa\", \"Kansas\", \"Kentucky\", \"Louisiana\", \"Maine\", \"Maryland\", \"Massachusetts\", \"Michigan\", \"Minnesota\", \"Mississippi\", \"Missouri\", \"Montana\", \"Nebraska\", \"Nevada\", \"New Hampshire\", \"New Jersey\", \"New Mexico\", \"New York\", \"North Carolina\", \"North Dakota\", \"Northern Mariana Islands\", \"Ohio\", \"Oklahoma\", \"Oregon\", \"Pennsylvania\", \"Puerto Rico\", \"Rhode Island\", \"South Carolina\", \"South Dakota\", \"Tennessee\", \"Texas\", \"Utah\", \"Vermont\", \"Virgin Islands\", \"Virginia\", \"Washington\", \"West Virginia\", \"Wisconsin\", \"Wyoming\"], \"y\": [947, 120, 1169, 567, 7423, 2656, 2571, 264, 495, 5696, 3032, 60, 199, 415, 5125, 1788, 424, 374, 484, 4025, 275, 1415, 5752, 6509, 577, 848, 1051, 177, 185, 1044, 314, 16636, 282, 67216, 1305, 110, 2, 1933, 481, 607, 4156, 174, 415, 925, 102, 1729, 3046, 806, 277, 30, 1021, 4932, 145, 1269, 96]}],\n",
=======
       "                if (document.getElementById(\"b7b3b4bc-2fad-4f9d-922f-3d25753da21e\")) {\n",
       "                    Plotly.newPlot(\n",
       "                        'b7b3b4bc-2fad-4f9d-922f-3d25753da21e',\n",
       "                        [{\"hovertemplate\": \"%{x}: %{y} <extra></extra>\", \"marker\": {\"color\": \"red\"}, \"text\": [999.0, 133.0, 1298.0, 620.0, 8585.0, 2990.0, 3128.0, 319.0, 495.0, 6744.0, 4126.0, 139.0, 224.0, 526.0, 6046.0, 2168.0, 498.0, 435.0, 599.0, 5237.0, 303.0, 1662.0, 6620.0, 7630.0, 630.0, 941.0, 1351.0, 198.0, 201.0, 1113.0, 367.0, 18696.0, 315.0, 75832.0, 1529.0, 126.0, 2.0, 2199.0, 566.0, 690.0, 4997.0, 239.0, 595.0, 1083.0, 108.0, 1899.0, 3594.0, 887.0, 305.0, 30.0, 1250.0, 5061.0, 162.0, 1351.0, 121.0], \"type\": \"bar\", \"x\": [\"Alabama\", \"Alaska\", \"Arizona\", \"Arkansas\", \"California\", \"Colorado\", \"Connecticut\", \"Delaware\", \"District of Columbia\", \"Florida\", \"Georgia\", \"Guam\", \"Hawaii\", \"Idaho\", \"Illinois\", \"Indiana\", \"Iowa\", \"Kansas\", \"Kentucky\", \"Louisiana\", \"Maine\", \"Maryland\", \"Massachusetts\", \"Michigan\", \"Minnesota\", \"Mississippi\", \"Missouri\", \"Montana\", \"Nebraska\", \"Nevada\", \"New Hampshire\", \"New Jersey\", \"New Mexico\", \"New York\", \"North Carolina\", \"North Dakota\", \"Northern Mariana Islands\", \"Ohio\", \"Oklahoma\", \"Oregon\", \"Pennsylvania\", \"Puerto Rico\", \"Rhode Island\", \"South Carolina\", \"South Dakota\", \"Tennessee\", \"Texas\", \"Utah\", \"Vermont\", \"Virgin Islands\", \"Virginia\", \"Washington\", \"West Virginia\", \"Wisconsin\", \"Wyoming\"], \"y\": [999, 133, 1298, 620, 8585, 2990, 3128, 319, 495, 6744, 4126, 139, 224, 526, 6046, 2168, 498, 435, 599, 5237, 303, 1662, 6620, 7630, 630, 941, 1351, 198, 201, 1113, 367, 18696, 315, 75832, 1529, 126, 2, 2199, 566, 690, 4997, 239, 595, 1083, 108, 1899, 3594, 887, 305, 30, 1250, 5061, 162, 1351, 121]}],\n",
>>>>>>> temp-branch
       "                        {\"height\": 600, \"template\": {\"data\": {\"bar\": [{\"error_x\": {\"color\": \"#2a3f5f\"}, \"error_y\": {\"color\": \"#2a3f5f\"}, \"marker\": {\"line\": {\"color\": \"#E5ECF6\", \"width\": 0.5}}, \"type\": \"bar\"}], \"barpolar\": [{\"marker\": {\"line\": {\"color\": \"#E5ECF6\", \"width\": 0.5}}, \"type\": \"barpolar\"}], \"carpet\": [{\"aaxis\": {\"endlinecolor\": \"#2a3f5f\", \"gridcolor\": \"white\", \"linecolor\": \"white\", \"minorgridcolor\": \"white\", \"startlinecolor\": \"#2a3f5f\"}, \"baxis\": {\"endlinecolor\": \"#2a3f5f\", \"gridcolor\": \"white\", \"linecolor\": \"white\", \"minorgridcolor\": \"white\", \"startlinecolor\": \"#2a3f5f\"}, \"type\": \"carpet\"}], \"choropleth\": [{\"colorbar\": {\"outlinewidth\": 0, \"ticks\": \"\"}, \"type\": \"choropleth\"}], \"contour\": [{\"colorbar\": {\"outlinewidth\": 0, \"ticks\": \"\"}, \"colorscale\": [[0.0, \"#0d0887\"], [0.1111111111111111, \"#46039f\"], [0.2222222222222222, \"#7201a8\"], [0.3333333333333333, \"#9c179e\"], [0.4444444444444444, \"#bd3786\"], [0.5555555555555556, \"#d8576b\"], [0.6666666666666666, \"#ed7953\"], [0.7777777777777778, \"#fb9f3a\"], [0.8888888888888888, \"#fdca26\"], [1.0, \"#f0f921\"]], \"type\": \"contour\"}], \"contourcarpet\": [{\"colorbar\": {\"outlinewidth\": 0, \"ticks\": \"\"}, \"type\": \"contourcarpet\"}], \"heatmap\": [{\"colorbar\": {\"outlinewidth\": 0, \"ticks\": \"\"}, \"colorscale\": [[0.0, \"#0d0887\"], [0.1111111111111111, \"#46039f\"], [0.2222222222222222, \"#7201a8\"], [0.3333333333333333, \"#9c179e\"], [0.4444444444444444, \"#bd3786\"], [0.5555555555555556, \"#d8576b\"], [0.6666666666666666, \"#ed7953\"], [0.7777777777777778, \"#fb9f3a\"], [0.8888888888888888, \"#fdca26\"], [1.0, \"#f0f921\"]], \"type\": \"heatmap\"}], \"heatmapgl\": [{\"colorbar\": {\"outlinewidth\": 0, \"ticks\": \"\"}, \"colorscale\": [[0.0, \"#0d0887\"], [0.1111111111111111, \"#46039f\"], [0.2222222222222222, \"#7201a8\"], [0.3333333333333333, \"#9c179e\"], [0.4444444444444444, \"#bd3786\"], [0.5555555555555556, \"#d8576b\"], [0.6666666666666666, \"#ed7953\"], [0.7777777777777778, \"#fb9f3a\"], [0.8888888888888888, \"#fdca26\"], [1.0, \"#f0f921\"]], \"type\": \"heatmapgl\"}], \"histogram\": [{\"marker\": {\"colorbar\": {\"outlinewidth\": 0, \"ticks\": \"\"}}, \"type\": \"histogram\"}], \"histogram2d\": [{\"colorbar\": {\"outlinewidth\": 0, \"ticks\": \"\"}, \"colorscale\": [[0.0, \"#0d0887\"], [0.1111111111111111, \"#46039f\"], [0.2222222222222222, \"#7201a8\"], [0.3333333333333333, \"#9c179e\"], [0.4444444444444444, \"#bd3786\"], [0.5555555555555556, \"#d8576b\"], [0.6666666666666666, \"#ed7953\"], [0.7777777777777778, \"#fb9f3a\"], [0.8888888888888888, \"#fdca26\"], [1.0, \"#f0f921\"]], \"type\": \"histogram2d\"}], \"histogram2dcontour\": [{\"colorbar\": {\"outlinewidth\": 0, \"ticks\": \"\"}, \"colorscale\": [[0.0, \"#0d0887\"], [0.1111111111111111, \"#46039f\"], [0.2222222222222222, \"#7201a8\"], [0.3333333333333333, \"#9c179e\"], [0.4444444444444444, \"#bd3786\"], [0.5555555555555556, \"#d8576b\"], [0.6666666666666666, \"#ed7953\"], [0.7777777777777778, \"#fb9f3a\"], [0.8888888888888888, \"#fdca26\"], [1.0, \"#f0f921\"]], \"type\": \"histogram2dcontour\"}], \"mesh3d\": [{\"colorbar\": {\"outlinewidth\": 0, \"ticks\": \"\"}, \"type\": \"mesh3d\"}], \"parcoords\": [{\"line\": {\"colorbar\": {\"outlinewidth\": 0, \"ticks\": \"\"}}, \"type\": \"parcoords\"}], \"pie\": [{\"automargin\": true, \"type\": \"pie\"}], \"scatter\": [{\"marker\": {\"colorbar\": {\"outlinewidth\": 0, \"ticks\": \"\"}}, \"type\": \"scatter\"}], \"scatter3d\": [{\"line\": {\"colorbar\": {\"outlinewidth\": 0, \"ticks\": \"\"}}, \"marker\": {\"colorbar\": {\"outlinewidth\": 0, \"ticks\": \"\"}}, \"type\": \"scatter3d\"}], \"scattercarpet\": [{\"marker\": {\"colorbar\": {\"outlinewidth\": 0, \"ticks\": \"\"}}, \"type\": \"scattercarpet\"}], \"scattergeo\": [{\"marker\": {\"colorbar\": {\"outlinewidth\": 0, \"ticks\": \"\"}}, \"type\": \"scattergeo\"}], \"scattergl\": [{\"marker\": {\"colorbar\": {\"outlinewidth\": 0, \"ticks\": \"\"}}, \"type\": \"scattergl\"}], \"scattermapbox\": [{\"marker\": {\"colorbar\": {\"outlinewidth\": 0, \"ticks\": \"\"}}, \"type\": \"scattermapbox\"}], \"scatterpolar\": [{\"marker\": {\"colorbar\": {\"outlinewidth\": 0, \"ticks\": \"\"}}, \"type\": \"scatterpolar\"}], \"scatterpolargl\": [{\"marker\": {\"colorbar\": {\"outlinewidth\": 0, \"ticks\": \"\"}}, \"type\": \"scatterpolargl\"}], \"scatterternary\": [{\"marker\": {\"colorbar\": {\"outlinewidth\": 0, \"ticks\": \"\"}}, \"type\": \"scatterternary\"}], \"surface\": [{\"colorbar\": {\"outlinewidth\": 0, \"ticks\": \"\"}, \"colorscale\": [[0.0, \"#0d0887\"], [0.1111111111111111, \"#46039f\"], [0.2222222222222222, \"#7201a8\"], [0.3333333333333333, \"#9c179e\"], [0.4444444444444444, \"#bd3786\"], [0.5555555555555556, \"#d8576b\"], [0.6666666666666666, \"#ed7953\"], [0.7777777777777778, \"#fb9f3a\"], [0.8888888888888888, \"#fdca26\"], [1.0, \"#f0f921\"]], \"type\": \"surface\"}], \"table\": [{\"cells\": {\"fill\": {\"color\": \"#EBF0F8\"}, \"line\": {\"color\": \"white\"}}, \"header\": {\"fill\": {\"color\": \"#C8D4E3\"}, \"line\": {\"color\": \"white\"}}, \"type\": \"table\"}]}, \"layout\": {\"annotationdefaults\": {\"arrowcolor\": \"#2a3f5f\", \"arrowhead\": 0, \"arrowwidth\": 1}, \"coloraxis\": {\"colorbar\": {\"outlinewidth\": 0, \"ticks\": \"\"}}, \"colorscale\": {\"diverging\": [[0, \"#8e0152\"], [0.1, \"#c51b7d\"], [0.2, \"#de77ae\"], [0.3, \"#f1b6da\"], [0.4, \"#fde0ef\"], [0.5, \"#f7f7f7\"], [0.6, \"#e6f5d0\"], [0.7, \"#b8e186\"], [0.8, \"#7fbc41\"], [0.9, \"#4d9221\"], [1, \"#276419\"]], \"sequential\": [[0.0, \"#0d0887\"], [0.1111111111111111, \"#46039f\"], [0.2222222222222222, \"#7201a8\"], [0.3333333333333333, \"#9c179e\"], [0.4444444444444444, \"#bd3786\"], [0.5555555555555556, \"#d8576b\"], [0.6666666666666666, \"#ed7953\"], [0.7777777777777778, \"#fb9f3a\"], [0.8888888888888888, \"#fdca26\"], [1.0, \"#f0f921\"]], \"sequentialminus\": [[0.0, \"#0d0887\"], [0.1111111111111111, \"#46039f\"], [0.2222222222222222, \"#7201a8\"], [0.3333333333333333, \"#9c179e\"], [0.4444444444444444, \"#bd3786\"], [0.5555555555555556, \"#d8576b\"], [0.6666666666666666, \"#ed7953\"], [0.7777777777777778, \"#fb9f3a\"], [0.8888888888888888, \"#fdca26\"], [1.0, \"#f0f921\"]]}, \"colorway\": [\"#636efa\", \"#EF553B\", \"#00cc96\", \"#ab63fa\", \"#FFA15A\", \"#19d3f3\", \"#FF6692\", \"#B6E880\", \"#FF97FF\", \"#FECB52\"], \"font\": {\"color\": \"#2a3f5f\"}, \"geo\": {\"bgcolor\": \"white\", \"lakecolor\": \"white\", \"landcolor\": \"#E5ECF6\", \"showlakes\": true, \"showland\": true, \"subunitcolor\": \"white\"}, \"hoverlabel\": {\"align\": \"left\"}, \"hovermode\": \"closest\", \"mapbox\": {\"style\": \"light\"}, \"paper_bgcolor\": \"white\", \"plot_bgcolor\": \"#E5ECF6\", \"polar\": {\"angularaxis\": {\"gridcolor\": \"white\", \"linecolor\": \"white\", \"ticks\": \"\"}, \"bgcolor\": \"#E5ECF6\", \"radialaxis\": {\"gridcolor\": \"white\", \"linecolor\": \"white\", \"ticks\": \"\"}}, \"scene\": {\"xaxis\": {\"backgroundcolor\": \"#E5ECF6\", \"gridcolor\": \"white\", \"gridwidth\": 2, \"linecolor\": \"white\", \"showbackground\": true, \"ticks\": \"\", \"zerolinecolor\": \"white\"}, \"yaxis\": {\"backgroundcolor\": \"#E5ECF6\", \"gridcolor\": \"white\", \"gridwidth\": 2, \"linecolor\": \"white\", \"showbackground\": true, \"ticks\": \"\", \"zerolinecolor\": \"white\"}, \"zaxis\": {\"backgroundcolor\": \"#E5ECF6\", \"gridcolor\": \"white\", \"gridwidth\": 2, \"linecolor\": \"white\", \"showbackground\": true, \"ticks\": \"\", \"zerolinecolor\": \"white\"}}, \"shapedefaults\": {\"line\": {\"color\": \"#2a3f5f\"}}, \"ternary\": {\"aaxis\": {\"gridcolor\": \"white\", \"linecolor\": \"white\", \"ticks\": \"\"}, \"baxis\": {\"gridcolor\": \"white\", \"linecolor\": \"white\", \"ticks\": \"\"}, \"bgcolor\": \"#E5ECF6\", \"caxis\": {\"gridcolor\": \"white\", \"linecolor\": \"white\", \"ticks\": \"\"}}, \"title\": {\"x\": 0.05}, \"xaxis\": {\"automargin\": true, \"gridcolor\": \"white\", \"linecolor\": \"white\", \"ticks\": \"\", \"title\": {\"standoff\": 15}, \"zerolinecolor\": \"white\", \"zerolinewidth\": 2}, \"yaxis\": {\"automargin\": true, \"gridcolor\": \"white\", \"linecolor\": \"white\", \"ticks\": \"\", \"title\": {\"standoff\": 15}, \"zerolinecolor\": \"white\", \"zerolinewidth\": 2}}}, \"width\": 1000},\n",
       "                        {\"responsive\": true}\n",
       "                    ).then(function(){\n",
       "                            \n",
<<<<<<< HEAD
       "var gd = document.getElementById('2dee9371-c253-41f2-8646-5db20144960a');\n",
=======
       "var gd = document.getElementById('b7b3b4bc-2fad-4f9d-922f-3d25753da21e');\n",
>>>>>>> temp-branch
       "var x = new MutationObserver(function (mutations, observer) {{\n",
       "        var display = window.getComputedStyle(gd).display;\n",
       "        if (!display || display === 'none') {{\n",
       "            console.log([gd, 'removed!']);\n",
       "            Plotly.purge(gd);\n",
       "            observer.disconnect();\n",
       "        }}\n",
       "}});\n",
       "\n",
       "// Listen for the removal of the full notebook cells\n",
       "var notebookContainer = gd.closest('#notebook-container');\n",
       "if (notebookContainer) {{\n",
       "    x.observe(notebookContainer, {childList: true});\n",
       "}}\n",
       "\n",
       "// Listen for the clearing of the current output cell\n",
       "var outputEl = gd.closest('.output');\n",
       "if (outputEl) {{\n",
       "    x.observe(outputEl, {childList: true});\n",
       "}}\n",
       "\n",
       "                        })\n",
       "                };\n",
       "                });\n",
       "            </script>\n",
       "        </div>"
      ]
     },
     "metadata": {},
     "output_type": "display_data"
    }
   ],
   "source": [
    "# graph 1: interactive bar chart with state totals \n",
    "\n",
    "fig = go.Figure(go.Bar(\n",
    "    x=stateTotLatest.index,\n",
    "    y=stateTotLatest.cases,\n",
    "    text=stateTotLatest.cases,\n",
<<<<<<< HEAD
    "    hovertemplate='%{x}: %{y} <extra></extra>',\n",
=======
    "    hovertemplate='%{x}: %{y} <extra></extra>', # sets up what you see when you hover over the figure\n",
>>>>>>> temp-branch
    "    marker_color='red'\n",
    "),\n",
    "                layout=\n",
    "                    {'width':1000, 'height':600} \n",
    "                \n",
    "               )\n",
    "\n",
    "# have to call figure show\n",
    "fig.show()"
   ]
  },
  {
<<<<<<< HEAD
   "cell_type": "code",
   "execution_count": 183,
=======
   "cell_type": "markdown",
   "metadata": {},
   "source": [
    "## Now lets make a graph to show change over time in each state\n",
    "\n",
    "The goal of this section is to make chart that looks at the evolution of cases in each state over \n",
    "time. The interactive features and tools built into plotly make it very useful for this"
   ]
  },
  {
   "cell_type": "code",
   "execution_count": 416,
>>>>>>> temp-branch
   "metadata": {},
   "outputs": [
    {
     "data": {
      "text/html": [
       "<div>\n",
       "<style scoped>\n",
       "    .dataframe tbody tr th:only-of-type {\n",
       "        vertical-align: middle;\n",
       "    }\n",
       "\n",
       "    .dataframe tbody tr th {\n",
       "        vertical-align: top;\n",
       "    }\n",
       "\n",
       "    .dataframe thead th {\n",
       "        text-align: right;\n",
       "    }\n",
       "</style>\n",
       "<table border=\"1\" class=\"dataframe\">\n",
       "  <thead>\n",
       "    <tr style=\"text-align: right;\">\n",
       "      <th></th>\n",
       "      <th>date</th>\n",
       "      <th>state</th>\n",
       "      <th>fips</th>\n",
       "      <th>cases</th>\n",
       "      <th>deaths</th>\n",
       "    </tr>\n",
       "  </thead>\n",
       "  <tbody>\n",
       "    <tr>\n",
       "      <td>0</td>\n",
       "      <td>2020-01-21</td>\n",
       "      <td>Washington</td>\n",
       "      <td>53061.0</td>\n",
       "      <td>1</td>\n",
       "      <td>0</td>\n",
       "    </tr>\n",
       "    <tr>\n",
       "      <td>1</td>\n",
       "      <td>2020-01-22</td>\n",
       "      <td>Washington</td>\n",
       "      <td>53061.0</td>\n",
       "      <td>1</td>\n",
       "      <td>0</td>\n",
       "    </tr>\n",
       "    <tr>\n",
       "      <td>2</td>\n",
       "      <td>2020-01-23</td>\n",
       "      <td>Washington</td>\n",
       "      <td>53061.0</td>\n",
       "      <td>1</td>\n",
       "      <td>0</td>\n",
       "    </tr>\n",
       "    <tr>\n",
       "      <td>3</td>\n",
       "      <td>2020-01-24</td>\n",
       "      <td>Illinois</td>\n",
       "      <td>17031.0</td>\n",
       "      <td>1</td>\n",
       "      <td>0</td>\n",
       "    </tr>\n",
       "    <tr>\n",
       "      <td>4</td>\n",
       "      <td>2020-01-24</td>\n",
       "      <td>Washington</td>\n",
       "      <td>53061.0</td>\n",
       "      <td>1</td>\n",
       "      <td>0</td>\n",
       "    </tr>\n",
       "  </tbody>\n",
       "</table>\n",
       "</div>"
      ],
      "text/plain": [
       "         date       state     fips  cases  deaths\n",
       "0  2020-01-21  Washington  53061.0      1       0\n",
       "1  2020-01-22  Washington  53061.0      1       0\n",
       "2  2020-01-23  Washington  53061.0      1       0\n",
       "3  2020-01-24    Illinois  17031.0      1       0\n",
       "4  2020-01-24  Washington  53061.0      1       0"
      ]
     },
<<<<<<< HEAD
     "execution_count": 183,
=======
     "execution_count": 416,
>>>>>>> temp-branch
     "metadata": {},
     "output_type": "execute_result"
    }
   ],
   "source": [
<<<<<<< HEAD
    "# now lets make a graph to show change over time in each state\n",
    "\n",
    "# calculate the totals in each state for each day\n",
    "stateTot = counties.groupby(['date', 'state']).sum()\n",
    "stateTot = stateTot.reset_index(level=[0,1]) # this resets the indexing \n",
    "stateTot.head()\n"
   ]
  },
  {
   "cell_type": "code",
   "execution_count": 185,
   "metadata": {},
   "outputs": [
    {
     "data": {
      "text/html": [
       "<div>\n",
       "<style scoped>\n",
       "    .dataframe tbody tr th:only-of-type {\n",
       "        vertical-align: middle;\n",
       "    }\n",
       "\n",
       "    .dataframe tbody tr th {\n",
       "        vertical-align: top;\n",
       "    }\n",
       "\n",
       "    .dataframe thead th {\n",
       "        text-align: right;\n",
       "    }\n",
       "</style>\n",
       "<table border=\"1\" class=\"dataframe\">\n",
       "  <thead>\n",
       "    <tr style=\"text-align: right;\">\n",
       "      <th></th>\n",
       "      <th>date</th>\n",
       "      <th>state</th>\n",
       "      <th>fips</th>\n",
       "      <th>cases</th>\n",
       "      <th>deaths</th>\n",
       "    </tr>\n",
       "  </thead>\n",
       "  <tbody>\n",
       "    <tr>\n",
       "      <td>246</td>\n",
       "      <td>2020-03-01</td>\n",
       "      <td>New York</td>\n",
       "      <td>0.0</td>\n",
       "      <td>1</td>\n",
       "      <td>0</td>\n",
       "    </tr>\n",
       "    <tr>\n",
       "      <td>261</td>\n",
       "      <td>2020-03-02</td>\n",
       "      <td>New York</td>\n",
       "      <td>0.0</td>\n",
       "      <td>1</td>\n",
       "      <td>0</td>\n",
       "    </tr>\n",
       "    <tr>\n",
       "      <td>276</td>\n",
       "      <td>2020-03-03</td>\n",
       "      <td>New York</td>\n",
       "      <td>0.0</td>\n",
       "      <td>2</td>\n",
       "      <td>0</td>\n",
       "    </tr>\n",
       "    <tr>\n",
       "      <td>293</td>\n",
       "      <td>2020-03-04</td>\n",
       "      <td>New York</td>\n",
       "      <td>36119.0</td>\n",
       "      <td>11</td>\n",
       "      <td>0</td>\n",
       "    </tr>\n",
       "    <tr>\n",
       "      <td>313</td>\n",
       "      <td>2020-03-05</td>\n",
       "      <td>New York</td>\n",
       "      <td>72178.0</td>\n",
       "      <td>22</td>\n",
       "      <td>0</td>\n",
       "    </tr>\n",
       "  </tbody>\n",
       "</table>\n",
       "</div>"
      ],
      "text/plain": [
       "           date     state     fips  cases  deaths\n",
       "246  2020-03-01  New York      0.0      1       0\n",
       "261  2020-03-02  New York      0.0      1       0\n",
       "276  2020-03-03  New York      0.0      2       0\n",
       "293  2020-03-04  New York  36119.0     11       0\n",
       "313  2020-03-05  New York  72178.0     22       0"
      ]
     },
     "execution_count": 185,
     "metadata": {},
     "output_type": "execute_result"
    }
   ],
   "source": [
    "# testing\n",
    "statein = stateTot.loc[stateTot.state =='New York']\n",
    "statein.head()"
=======
    "# calculate the totals in each state for each day\n",
    "stateTot = counties.groupby(['date', 'state']).sum() # using groupby but indexing two features at once\n",
    "stateTot = stateTot.reset_index(level=[0,1]) # this resets the indexing - necessary beacuase groupby makes multiindex which i find annoying\n",
    "stateTot.head()"
>>>>>>> temp-branch
   ]
  },
  {
   "cell_type": "code",
<<<<<<< HEAD
   "execution_count": 213,
   "metadata": {},
   "outputs": [],
   "source": [
    "data = []\n",
    "for name, group in stateTot.groupby('state'):\n",
    "    data.append(go.Scatter(\n",
    "        x=group.date,\n",
    "        y=group.cases,\n",
    "        name=name\n",
    "    \n",
    "    )\n",
    "    \n",
    "    )"
=======
   "execution_count": 325,
   "metadata": {},
   "outputs": [],
   "source": [
    "# Unlike matplotlib for ploty you can create \"traces\" and then add them to the figure as an object\n",
    "# this first loop makes a list of traces (i.e. one for each state's time series)\n",
    "\n",
    "data = [] # where the traces are stores\n",
    "names = [] # list of the state names -comes in lates\n",
    "\n",
    "# using group by state we can iterate over each states data as one group\n",
    "for name, group in stateTot.groupby('state'):\n",
    "    data.append(go.Scatter(\n",
    "        x=group.date, # set x and y data\n",
    "        y=group.cases,\n",
    "        name=name, # like the legend label in matlotlib\n",
    "        visible=True,\n",
    "        hovertemplate=name + ': %{x} - %{y} <extra></extra>' # sets what you see when you hover over the line\n",
    "\n",
    "    ))\n",
    "        \n",
    "    names.append(name) # store state name \n",
    "    \n",
    "names = np.array(names) # convert name to numpy array\n",
    "\n",
    "# make a dictionary for the buttons that will let us mess with the plot interactively\n",
    "# in this case we are making a dropdown menu with each state\n",
    "buttons = []\n",
    "\n",
    "# just like the traces buttons get added as objects (dicts in this case)\n",
    "\n",
    "# the first button is out of the loop becuase it is for showing all states\n",
    "buttons.append(dict(\n",
    "        label='All States',\n",
    "        method='update',\n",
    "        args=[\n",
    "            {'visible': list(names==names)},\n",
    "            {'title': 'All States'}\n",
    "             ]\n",
    "        \n",
    "    ))\n",
    "\n",
    "\n",
    "# make a buttton for each state \n",
    "for name, group in stateTot.groupby('state'):\n",
    "    button = dict(\n",
    "        label=name,\n",
    "        method='update',\n",
    "        args=[\n",
    "            {'visible': list(names==name)},\n",
    "            {'title': name}\n",
    "             ]\n",
    "        \n",
    "    )\n",
    "    \n",
    "    buttons.append(button)\n",
    "    \n",
    "\n",
    "    "
>>>>>>> temp-branch
   ]
  },
  {
   "cell_type": "code",
<<<<<<< HEAD
   "execution_count": 217,
=======
   "execution_count": 417,
>>>>>>> temp-branch
   "metadata": {},
   "outputs": [
    {
     "data": {
      "application/vnd.plotly.v1+json": {
       "config": {
        "plotlyServerURL": "https://plot.ly"
       },
       "data": [
        {
<<<<<<< HEAD
         "name": "Alabama",
         "type": "scatter",
=======
         "hovertemplate": "Alabama: %{x} - %{y} <extra></extra>",
         "name": "Alabama",
         "type": "scatter",
         "visible": true,
>>>>>>> temp-branch
         "x": [
          "2020-03-13",
          "2020-03-14",
          "2020-03-15",
          "2020-03-16",
          "2020-03-17",
          "2020-03-18",
          "2020-03-19",
          "2020-03-20",
          "2020-03-21",
          "2020-03-22",
          "2020-03-23",
          "2020-03-24",
          "2020-03-25",
          "2020-03-26",
          "2020-03-27",
          "2020-03-28",
          "2020-03-29",
<<<<<<< HEAD
          "2020-03-30"
=======
          "2020-03-30",
          "2020-03-31"
>>>>>>> temp-branch
         ],
         "y": [
          6,
          12,
          23,
          29,
          39,
          51,
          78,
          106,
          131,
          157,
          196,
          242,
          386,
          538,
          639,
          720,
          830,
<<<<<<< HEAD
          947
         ]
        },
        {
         "name": "Alaska",
         "type": "scatter",
=======
          947,
          999
         ]
        },
        {
         "hovertemplate": "Alaska: %{x} - %{y} <extra></extra>",
         "name": "Alaska",
         "type": "scatter",
         "visible": true,
>>>>>>> temp-branch
         "x": [
          "2020-03-12",
          "2020-03-13",
          "2020-03-14",
          "2020-03-15",
          "2020-03-16",
          "2020-03-17",
          "2020-03-18",
          "2020-03-19",
          "2020-03-20",
          "2020-03-21",
          "2020-03-22",
          "2020-03-23",
          "2020-03-24",
          "2020-03-25",
          "2020-03-26",
          "2020-03-27",
          "2020-03-28",
          "2020-03-29",
<<<<<<< HEAD
          "2020-03-30"
=======
          "2020-03-30",
          "2020-03-31"
>>>>>>> temp-branch
         ],
         "y": [
          1,
          1,
          1,
          1,
          3,
          6,
          9,
          12,
          14,
          21,
          22,
          36,
          42,
          59,
          69,
          85,
          102,
          114,
<<<<<<< HEAD
          120
         ]
        },
        {
         "name": "Arizona",
         "type": "scatter",
=======
          120,
          133
         ]
        },
        {
         "hovertemplate": "Arizona: %{x} - %{y} <extra></extra>",
         "name": "Arizona",
         "type": "scatter",
         "visible": true,
>>>>>>> temp-branch
         "x": [
          "2020-01-26",
          "2020-01-27",
          "2020-01-28",
          "2020-01-29",
          "2020-01-30",
          "2020-01-31",
          "2020-02-01",
          "2020-02-02",
          "2020-02-03",
          "2020-02-04",
          "2020-02-05",
          "2020-02-06",
          "2020-02-07",
          "2020-02-08",
          "2020-02-09",
          "2020-02-10",
          "2020-02-11",
          "2020-02-12",
          "2020-02-13",
          "2020-02-14",
          "2020-02-15",
          "2020-02-16",
          "2020-02-17",
          "2020-02-18",
          "2020-02-19",
          "2020-02-20",
          "2020-02-21",
          "2020-02-22",
          "2020-02-23",
          "2020-02-24",
          "2020-02-25",
          "2020-02-26",
          "2020-02-27",
          "2020-02-28",
          "2020-02-29",
          "2020-03-01",
          "2020-03-02",
          "2020-03-03",
          "2020-03-04",
          "2020-03-05",
          "2020-03-06",
          "2020-03-07",
          "2020-03-08",
          "2020-03-09",
          "2020-03-10",
          "2020-03-11",
          "2020-03-12",
          "2020-03-13",
          "2020-03-14",
          "2020-03-15",
          "2020-03-16",
          "2020-03-17",
          "2020-03-18",
          "2020-03-19",
          "2020-03-20",
          "2020-03-21",
          "2020-03-22",
          "2020-03-23",
          "2020-03-24",
          "2020-03-25",
          "2020-03-26",
          "2020-03-27",
          "2020-03-28",
          "2020-03-29",
<<<<<<< HEAD
          "2020-03-30"
=======
          "2020-03-30",
          "2020-03-31"
>>>>>>> temp-branch
         ],
         "y": [
          1,
          1,
          1,
          1,
          1,
          1,
          1,
          1,
          1,
          1,
          1,
          1,
          1,
          1,
          1,
          1,
          1,
          1,
          1,
          1,
          1,
          1,
          1,
          1,
          1,
          1,
          1,
          1,
          1,
          1,
          1,
          1,
          1,
          1,
          1,
          1,
          1,
          2,
          2,
          2,
          3,
          5,
          5,
          6,
          6,
          9,
          9,
          9,
          12,
          13,
          18,
          20,
          28,
          47,
          70,
          104,
          153,
          234,
          326,
          402,
          508,
          665,
          773,
          930,
<<<<<<< HEAD
          1169
         ]
        },
        {
         "name": "Arkansas",
         "type": "scatter",
=======
          1169,
          1298
         ]
        },
        {
         "hovertemplate": "Arkansas: %{x} - %{y} <extra></extra>",
         "name": "Arkansas",
         "type": "scatter",
         "visible": true,
>>>>>>> temp-branch
         "x": [
          "2020-03-11",
          "2020-03-12",
          "2020-03-13",
          "2020-03-14",
          "2020-03-15",
          "2020-03-16",
          "2020-03-17",
          "2020-03-18",
          "2020-03-19",
          "2020-03-20",
          "2020-03-21",
          "2020-03-22",
          "2020-03-23",
          "2020-03-24",
          "2020-03-25",
          "2020-03-26",
          "2020-03-27",
          "2020-03-28",
          "2020-03-29",
<<<<<<< HEAD
          "2020-03-30"
=======
          "2020-03-30",
          "2020-03-31"
>>>>>>> temp-branch
         ],
         "y": [
          1,
          6,
          7,
          9,
          16,
          22,
          22,
          33,
          62,
          100,
          118,
          165,
          201,
          291,
          367,
          410,
          442,
          463,
          505,
<<<<<<< HEAD
          567
         ]
        },
        {
         "name": "California",
         "type": "scatter",
=======
          567,
          620
         ]
        },
        {
         "hovertemplate": "California: %{x} - %{y} <extra></extra>",
         "name": "California",
         "type": "scatter",
         "visible": true,
>>>>>>> temp-branch
         "x": [
          "2020-01-25",
          "2020-01-26",
          "2020-01-27",
          "2020-01-28",
          "2020-01-29",
          "2020-01-30",
          "2020-01-31",
          "2020-02-01",
          "2020-02-02",
          "2020-02-03",
          "2020-02-04",
          "2020-02-05",
          "2020-02-06",
          "2020-02-07",
          "2020-02-08",
          "2020-02-09",
          "2020-02-10",
          "2020-02-11",
          "2020-02-12",
          "2020-02-13",
          "2020-02-14",
          "2020-02-15",
          "2020-02-16",
          "2020-02-17",
          "2020-02-18",
          "2020-02-19",
          "2020-02-20",
          "2020-02-21",
          "2020-02-22",
          "2020-02-23",
          "2020-02-24",
          "2020-02-25",
          "2020-02-26",
          "2020-02-27",
          "2020-02-28",
          "2020-02-29",
          "2020-03-01",
          "2020-03-02",
          "2020-03-03",
          "2020-03-04",
          "2020-03-05",
          "2020-03-06",
          "2020-03-07",
          "2020-03-08",
          "2020-03-09",
          "2020-03-10",
          "2020-03-11",
          "2020-03-12",
          "2020-03-13",
          "2020-03-14",
          "2020-03-15",
          "2020-03-16",
          "2020-03-17",
          "2020-03-18",
          "2020-03-19",
          "2020-03-20",
          "2020-03-21",
          "2020-03-22",
          "2020-03-23",
          "2020-03-24",
          "2020-03-25",
          "2020-03-26",
          "2020-03-27",
          "2020-03-28",
          "2020-03-29",
<<<<<<< HEAD
          "2020-03-30"
=======
          "2020-03-30",
          "2020-03-31"
>>>>>>> temp-branch
         ],
         "y": [
          1,
          2,
          2,
          2,
          2,
          2,
          3,
          3,
          6,
          6,
          6,
          6,
          6,
          6,
          6,
          6,
          7,
          7,
          7,
          7,
          7,
          7,
          7,
          7,
          7,
          7,
          8,
          9,
          9,
          9,
          11,
          11,
          26,
          26,
          27,
          28,
          33,
          38,
          45,
          55,
          67,
          81,
          100,
          112,
          172,
          179,
          202,
          252,
          320,
          381,
          478,
          588,
          732,
          893,
          1067,
          1283,
          1544,
          1851,
          2240,
          2646,
          3185,
          4062,
          4917,
          5568,
          6323,
<<<<<<< HEAD
          7423
         ]
        },
        {
         "name": "Colorado",
         "type": "scatter",
=======
          7423,
          8585
         ]
        },
        {
         "hovertemplate": "Colorado: %{x} - %{y} <extra></extra>",
         "name": "Colorado",
         "type": "scatter",
         "visible": true,
>>>>>>> temp-branch
         "x": [
          "2020-03-05",
          "2020-03-06",
          "2020-03-07",
          "2020-03-08",
          "2020-03-09",
          "2020-03-10",
          "2020-03-11",
          "2020-03-12",
          "2020-03-13",
          "2020-03-14",
          "2020-03-15",
          "2020-03-16",
          "2020-03-17",
          "2020-03-18",
          "2020-03-19",
          "2020-03-20",
          "2020-03-21",
          "2020-03-22",
          "2020-03-23",
          "2020-03-24",
          "2020-03-25",
          "2020-03-26",
          "2020-03-27",
          "2020-03-28",
          "2020-03-29",
<<<<<<< HEAD
          "2020-03-30"
=======
          "2020-03-30",
          "2020-03-31"
>>>>>>> temp-branch
         ],
         "y": [
          2,
          8,
          8,
          8,
          12,
          17,
          34,
          49,
          78,
          103,
          136,
          161,
          183,
          216,
          278,
          364,
          475,
          591,
          721,
          912,
          1086,
          1432,
          1735,
          2063,
          2315,
<<<<<<< HEAD
          2656
         ]
        },
        {
         "name": "Connecticut",
         "type": "scatter",
=======
          2656,
          2990
         ]
        },
        {
         "hovertemplate": "Connecticut: %{x} - %{y} <extra></extra>",
         "name": "Connecticut",
         "type": "scatter",
         "visible": true,
>>>>>>> temp-branch
         "x": [
          "2020-03-08",
          "2020-03-09",
          "2020-03-10",
          "2020-03-11",
          "2020-03-12",
          "2020-03-13",
          "2020-03-14",
          "2020-03-15",
          "2020-03-16",
          "2020-03-17",
          "2020-03-18",
          "2020-03-19",
          "2020-03-20",
          "2020-03-21",
          "2020-03-22",
          "2020-03-23",
          "2020-03-24",
          "2020-03-25",
          "2020-03-26",
          "2020-03-27",
          "2020-03-28",
          "2020-03-29",
<<<<<<< HEAD
          "2020-03-30"
=======
          "2020-03-30",
          "2020-03-31"
>>>>>>> temp-branch
         ],
         "y": [
          1,
          2,
          2,
          3,
          6,
          11,
          20,
          26,
          41,
          68,
          96,
          159,
          194,
          223,
          327,
          415,
          618,
          875,
          1012,
          1291,
          1524,
          1993,
<<<<<<< HEAD
          2571
         ]
        },
        {
         "name": "Delaware",
         "type": "scatter",
=======
          2571,
          3128
         ]
        },
        {
         "hovertemplate": "Delaware: %{x} - %{y} <extra></extra>",
         "name": "Delaware",
         "type": "scatter",
         "visible": true,
>>>>>>> temp-branch
         "x": [
          "2020-03-11",
          "2020-03-12",
          "2020-03-13",
          "2020-03-14",
          "2020-03-15",
          "2020-03-16",
          "2020-03-17",
          "2020-03-18",
          "2020-03-19",
          "2020-03-20",
          "2020-03-21",
          "2020-03-22",
          "2020-03-23",
          "2020-03-24",
          "2020-03-25",
          "2020-03-26",
          "2020-03-27",
          "2020-03-28",
          "2020-03-29",
<<<<<<< HEAD
          "2020-03-30"
=======
          "2020-03-30",
          "2020-03-31"
>>>>>>> temp-branch
         ],
         "y": [
          1,
          4,
          4,
          4,
          7,
          8,
          16,
          26,
          30,
          39,
          45,
          56,
          87,
          104,
          119,
          143,
          165,
          214,
          232,
<<<<<<< HEAD
          264
         ]
        },
        {
         "name": "District of Columbia",
         "type": "scatter",
=======
          264,
          319
         ]
        },
        {
         "hovertemplate": "District of Columbia: %{x} - %{y} <extra></extra>",
         "name": "District of Columbia",
         "type": "scatter",
         "visible": true,
>>>>>>> temp-branch
         "x": [
          "2020-03-07",
          "2020-03-08",
          "2020-03-09",
          "2020-03-10",
          "2020-03-11",
          "2020-03-12",
          "2020-03-13",
          "2020-03-14",
          "2020-03-15",
          "2020-03-16",
          "2020-03-17",
          "2020-03-18",
          "2020-03-19",
          "2020-03-20",
          "2020-03-21",
          "2020-03-22",
          "2020-03-23",
          "2020-03-24",
          "2020-03-25",
          "2020-03-26",
          "2020-03-27",
          "2020-03-28",
          "2020-03-29",
<<<<<<< HEAD
          "2020-03-30"
=======
          "2020-03-30",
          "2020-03-31"
>>>>>>> temp-branch
         ],
         "y": [
          1,
          1,
          4,
          4,
          10,
          10,
          10,
          16,
          17,
          22,
          31,
          36,
          68,
          77,
          98,
          116,
          138,
          183,
          231,
          267,
          304,
          342,
          342,
<<<<<<< HEAD
=======
          495,
>>>>>>> temp-branch
          495
         ]
        },
        {
<<<<<<< HEAD
         "name": "Florida",
         "type": "scatter",
=======
         "hovertemplate": "Florida: %{x} - %{y} <extra></extra>",
         "name": "Florida",
         "type": "scatter",
         "visible": true,
>>>>>>> temp-branch
         "x": [
          "2020-03-01",
          "2020-03-02",
          "2020-03-03",
          "2020-03-04",
          "2020-03-05",
          "2020-03-06",
          "2020-03-07",
          "2020-03-08",
          "2020-03-09",
          "2020-03-10",
          "2020-03-11",
          "2020-03-12",
          "2020-03-13",
          "2020-03-14",
          "2020-03-15",
          "2020-03-16",
          "2020-03-17",
          "2020-03-18",
          "2020-03-19",
          "2020-03-20",
          "2020-03-21",
          "2020-03-22",
          "2020-03-23",
          "2020-03-24",
          "2020-03-25",
          "2020-03-26",
          "2020-03-27",
          "2020-03-28",
          "2020-03-29",
<<<<<<< HEAD
          "2020-03-30"
=======
          "2020-03-30",
          "2020-03-31"
>>>>>>> temp-branch
         ],
         "y": [
          2,
          2,
          3,
          3,
          4,
          7,
          12,
          13,
          14,
          23,
          26,
          46,
          70,
          70,
          109,
          141,
          210,
          326,
          434,
          564,
          764,
          1000,
          1222,
          1458,
          1971,
          2479,
          3199,
          4039,
          4944,
<<<<<<< HEAD
          5696
         ]
        },
        {
         "name": "Georgia",
         "type": "scatter",
=======
          5696,
          6744
         ]
        },
        {
         "hovertemplate": "Georgia: %{x} - %{y} <extra></extra>",
         "name": "Georgia",
         "type": "scatter",
         "visible": true,
>>>>>>> temp-branch
         "x": [
          "2020-03-02",
          "2020-03-03",
          "2020-03-04",
          "2020-03-05",
          "2020-03-06",
          "2020-03-07",
          "2020-03-08",
          "2020-03-09",
          "2020-03-10",
          "2020-03-11",
          "2020-03-12",
          "2020-03-13",
          "2020-03-14",
          "2020-03-15",
          "2020-03-16",
          "2020-03-17",
          "2020-03-18",
          "2020-03-19",
          "2020-03-20",
          "2020-03-21",
          "2020-03-22",
          "2020-03-23",
          "2020-03-24",
          "2020-03-25",
          "2020-03-26",
          "2020-03-27",
          "2020-03-28",
          "2020-03-29",
<<<<<<< HEAD
          "2020-03-30"
=======
          "2020-03-30",
          "2020-03-31"
>>>>>>> temp-branch
         ],
         "y": [
          2,
          2,
          2,
          2,
          3,
          7,
          11,
          17,
          22,
          31,
          31,
          41,
          65,
          97,
          118,
          142,
          193,
          282,
          482,
          552,
          620,
          800,
          1098,
          1393,
          1649,
          2211,
          2448,
          2687,
<<<<<<< HEAD
          3032
         ]
        },
        {
         "name": "Guam",
         "type": "scatter",
=======
          3032,
          4126
         ]
        },
        {
         "hovertemplate": "Guam: %{x} - %{y} <extra></extra>",
         "name": "Guam",
         "type": "scatter",
         "visible": true,
>>>>>>> temp-branch
         "x": [
          "2020-03-15",
          "2020-03-16",
          "2020-03-17",
          "2020-03-18",
          "2020-03-19",
          "2020-03-20",
          "2020-03-21",
          "2020-03-22",
          "2020-03-23",
          "2020-03-24",
          "2020-03-25",
          "2020-03-26",
          "2020-03-27",
          "2020-03-28",
          "2020-03-29",
<<<<<<< HEAD
          "2020-03-30"
=======
          "2020-03-30",
          "2020-03-31"
>>>>>>> temp-branch
         ],
         "y": [
          3,
          3,
          3,
          8,
          12,
          14,
          15,
          27,
          29,
          32,
          32,
          49,
          53,
          57,
          58,
<<<<<<< HEAD
          60
         ]
        },
        {
         "name": "Hawaii",
         "type": "scatter",
=======
          60,
          139
         ]
        },
        {
         "hovertemplate": "Hawaii: %{x} - %{y} <extra></extra>",
         "name": "Hawaii",
         "type": "scatter",
         "visible": true,
>>>>>>> temp-branch
         "x": [
          "2020-03-06",
          "2020-03-07",
          "2020-03-08",
          "2020-03-09",
          "2020-03-10",
          "2020-03-11",
          "2020-03-12",
          "2020-03-13",
          "2020-03-14",
          "2020-03-15",
          "2020-03-16",
          "2020-03-17",
          "2020-03-18",
          "2020-03-19",
          "2020-03-20",
          "2020-03-21",
          "2020-03-22",
          "2020-03-23",
          "2020-03-24",
          "2020-03-25",
          "2020-03-26",
          "2020-03-27",
          "2020-03-28",
          "2020-03-29",
<<<<<<< HEAD
          "2020-03-30"
=======
          "2020-03-30",
          "2020-03-31"
>>>>>>> temp-branch
         ],
         "y": [
          1,
          1,
          2,
          2,
          2,
          2,
          2,
          2,
          4,
          7,
          10,
          14,
          16,
          26,
          37,
          48,
          56,
          77,
          97,
          96,
          106,
          120,
          150,
          173,
<<<<<<< HEAD
          199
         ]
        },
        {
         "name": "Idaho",
         "type": "scatter",
=======
          199,
          224
         ]
        },
        {
         "hovertemplate": "Idaho: %{x} - %{y} <extra></extra>",
         "name": "Idaho",
         "type": "scatter",
         "visible": true,
>>>>>>> temp-branch
         "x": [
          "2020-03-13",
          "2020-03-14",
          "2020-03-15",
          "2020-03-16",
          "2020-03-17",
          "2020-03-18",
          "2020-03-19",
          "2020-03-20",
          "2020-03-21",
          "2020-03-22",
          "2020-03-23",
          "2020-03-24",
          "2020-03-25",
          "2020-03-26",
          "2020-03-27",
          "2020-03-28",
          "2020-03-29",
<<<<<<< HEAD
          "2020-03-30"
=======
          "2020-03-30",
          "2020-03-31"
>>>>>>> temp-branch
         ],
         "y": [
          1,
          5,
          5,
          5,
          9,
          11,
          23,
          31,
          42,
          47,
          50,
          73,
          123,
          189,
          233,
          262,
          310,
<<<<<<< HEAD
          415
         ]
        },
        {
         "name": "Illinois",
         "type": "scatter",
=======
          415,
          526
         ]
        },
        {
         "hovertemplate": "Illinois: %{x} - %{y} <extra></extra>",
         "name": "Illinois",
         "type": "scatter",
         "visible": true,
>>>>>>> temp-branch
         "x": [
          "2020-01-24",
          "2020-01-25",
          "2020-01-26",
          "2020-01-27",
          "2020-01-28",
          "2020-01-29",
          "2020-01-30",
          "2020-01-31",
          "2020-02-01",
          "2020-02-02",
          "2020-02-03",
          "2020-02-04",
          "2020-02-05",
          "2020-02-06",
          "2020-02-07",
          "2020-02-08",
          "2020-02-09",
          "2020-02-10",
          "2020-02-11",
          "2020-02-12",
          "2020-02-13",
          "2020-02-14",
          "2020-02-15",
          "2020-02-16",
          "2020-02-17",
          "2020-02-18",
          "2020-02-19",
          "2020-02-20",
          "2020-02-21",
          "2020-02-22",
          "2020-02-23",
          "2020-02-24",
          "2020-02-25",
          "2020-02-26",
          "2020-02-27",
          "2020-02-28",
          "2020-02-29",
          "2020-03-01",
          "2020-03-02",
          "2020-03-03",
          "2020-03-04",
          "2020-03-05",
          "2020-03-06",
          "2020-03-07",
          "2020-03-08",
          "2020-03-09",
          "2020-03-10",
          "2020-03-11",
          "2020-03-12",
          "2020-03-13",
          "2020-03-14",
          "2020-03-15",
          "2020-03-16",
          "2020-03-17",
          "2020-03-18",
          "2020-03-19",
          "2020-03-20",
          "2020-03-21",
          "2020-03-22",
          "2020-03-23",
          "2020-03-24",
          "2020-03-25",
          "2020-03-26",
          "2020-03-27",
          "2020-03-28",
          "2020-03-29",
<<<<<<< HEAD
          "2020-03-30"
=======
          "2020-03-30",
          "2020-03-31"
>>>>>>> temp-branch
         ],
         "y": [
          1,
          1,
          1,
          1,
          1,
          1,
          2,
          2,
          2,
          2,
          2,
          2,
          2,
          2,
          2,
          2,
          2,
          2,
          2,
          2,
          2,
          2,
          2,
          2,
          2,
          2,
          2,
          2,
          2,
          2,
          2,
          2,
          2,
          2,
          2,
          2,
          3,
          3,
          4,
          4,
          4,
          5,
          6,
          6,
          7,
          11,
          19,
          25,
          32,
          46,
          66,
          94,
          104,
          159,
          286,
          420,
          583,
          751,
          1047,
          1285,
          1591,
          1933,
          2596,
          3087,
          3602,
          4673,
<<<<<<< HEAD
          5125
         ]
        },
        {
         "name": "Indiana",
         "type": "scatter",
=======
          5125,
          6046
         ]
        },
        {
         "hovertemplate": "Indiana: %{x} - %{y} <extra></extra>",
         "name": "Indiana",
         "type": "scatter",
         "visible": true,
>>>>>>> temp-branch
         "x": [
          "2020-03-06",
          "2020-03-07",
          "2020-03-08",
          "2020-03-09",
          "2020-03-10",
          "2020-03-11",
          "2020-03-12",
          "2020-03-13",
          "2020-03-14",
          "2020-03-15",
          "2020-03-16",
          "2020-03-17",
          "2020-03-18",
          "2020-03-19",
          "2020-03-20",
          "2020-03-21",
          "2020-03-22",
          "2020-03-23",
          "2020-03-24",
          "2020-03-25",
          "2020-03-26",
          "2020-03-27",
          "2020-03-28",
          "2020-03-29",
<<<<<<< HEAD
          "2020-03-30"
=======
          "2020-03-30",
          "2020-03-31"
>>>>>>> temp-branch
         ],
         "y": [
          1,
          1,
          2,
          4,
          6,
          11,
          12,
          12,
          15,
          19,
          24,
          30,
          39,
          56,
          79,
          126,
          201,
          259,
          366,
          479,
          656,
          986,
          1232,
          1514,
<<<<<<< HEAD
          1788
         ]
        },
        {
         "name": "Iowa",
         "type": "scatter",
=======
          1788,
          2168
         ]
        },
        {
         "hovertemplate": "Iowa: %{x} - %{y} <extra></extra>",
         "name": "Iowa",
         "type": "scatter",
         "visible": true,
>>>>>>> temp-branch
         "x": [
          "2020-03-08",
          "2020-03-09",
          "2020-03-10",
          "2020-03-11",
          "2020-03-12",
          "2020-03-13",
          "2020-03-14",
          "2020-03-15",
          "2020-03-16",
          "2020-03-17",
          "2020-03-18",
          "2020-03-19",
          "2020-03-20",
          "2020-03-21",
          "2020-03-22",
          "2020-03-23",
          "2020-03-24",
          "2020-03-25",
          "2020-03-26",
          "2020-03-27",
          "2020-03-28",
          "2020-03-29",
<<<<<<< HEAD
          "2020-03-30"
=======
          "2020-03-30",
          "2020-03-31"
>>>>>>> temp-branch
         ],
         "y": [
          3,
          8,
          13,
          14,
          16,
          17,
          18,
          22,
          22,
          29,
          38,
          44,
          45,
          68,
          90,
          105,
          124,
          147,
          179,
          236,
          298,
          336,
<<<<<<< HEAD
          424
         ]
        },
        {
         "name": "Kansas",
         "type": "scatter",
=======
          424,
          498
         ]
        },
        {
         "hovertemplate": "Kansas: %{x} - %{y} <extra></extra>",
         "name": "Kansas",
         "type": "scatter",
         "visible": true,
>>>>>>> temp-branch
         "x": [
          "2020-03-07",
          "2020-03-08",
          "2020-03-09",
          "2020-03-10",
          "2020-03-11",
          "2020-03-12",
          "2020-03-13",
          "2020-03-14",
          "2020-03-15",
          "2020-03-16",
          "2020-03-17",
          "2020-03-18",
          "2020-03-19",
          "2020-03-20",
          "2020-03-21",
          "2020-03-22",
          "2020-03-23",
          "2020-03-24",
          "2020-03-25",
          "2020-03-26",
          "2020-03-27",
          "2020-03-28",
          "2020-03-29",
<<<<<<< HEAD
          "2020-03-30"
=======
          "2020-03-30",
          "2020-03-31"
>>>>>>> temp-branch
         ],
         "y": [
          1,
          1,
          1,
          1,
          1,
          5,
          6,
          8,
          9,
          11,
          17,
          22,
          35,
          49,
          57,
          66,
          82,
          102,
          134,
          173,
          213,
          272,
          333,
<<<<<<< HEAD
          374
         ]
        },
        {
         "name": "Kentucky",
         "type": "scatter",
=======
          374,
          435
         ]
        },
        {
         "hovertemplate": "Kentucky: %{x} - %{y} <extra></extra>",
         "name": "Kentucky",
         "type": "scatter",
         "visible": true,
>>>>>>> temp-branch
         "x": [
          "2020-03-06",
          "2020-03-07",
          "2020-03-08",
          "2020-03-09",
          "2020-03-10",
          "2020-03-11",
          "2020-03-12",
          "2020-03-13",
          "2020-03-14",
          "2020-03-15",
          "2020-03-16",
          "2020-03-17",
          "2020-03-18",
          "2020-03-19",
          "2020-03-20",
          "2020-03-21",
          "2020-03-22",
          "2020-03-23",
          "2020-03-24",
          "2020-03-25",
          "2020-03-26",
          "2020-03-27",
          "2020-03-28",
          "2020-03-29",
<<<<<<< HEAD
          "2020-03-30"
=======
          "2020-03-30",
          "2020-03-31"
>>>>>>> temp-branch
         ],
         "y": [
          1,
          1,
          4,
          5,
          7,
          7,
          11,
          11,
          18,
          21,
          22,
          26,
          35,
          47,
          63,
          84,
          103,
          124,
          162,
          203,
          252,
          306,
          398,
          443,
<<<<<<< HEAD
          484
         ]
        },
        {
         "name": "Louisiana",
         "type": "scatter",
=======
          484,
          599
         ]
        },
        {
         "hovertemplate": "Louisiana: %{x} - %{y} <extra></extra>",
         "name": "Louisiana",
         "type": "scatter",
         "visible": true,
>>>>>>> temp-branch
         "x": [
          "2020-03-09",
          "2020-03-10",
          "2020-03-11",
          "2020-03-12",
          "2020-03-13",
          "2020-03-14",
          "2020-03-15",
          "2020-03-16",
          "2020-03-17",
          "2020-03-18",
          "2020-03-19",
          "2020-03-20",
          "2020-03-21",
          "2020-03-22",
          "2020-03-23",
          "2020-03-24",
          "2020-03-25",
          "2020-03-26",
          "2020-03-27",
          "2020-03-28",
          "2020-03-29",
<<<<<<< HEAD
          "2020-03-30"
=======
          "2020-03-30",
          "2020-03-31"
>>>>>>> temp-branch
         ],
         "y": [
          1,
          6,
          13,
          14,
          36,
          77,
          103,
          137,
          196,
          280,
          392,
          537,
          763,
          837,
          1172,
          1390,
          1798,
          2306,
          2746,
          3318,
          3544,
<<<<<<< HEAD
          4025
         ]
        },
        {
         "name": "Maine",
         "type": "scatter",
=======
          4025,
          5237
         ]
        },
        {
         "hovertemplate": "Maine: %{x} - %{y} <extra></extra>",
         "name": "Maine",
         "type": "scatter",
         "visible": true,
>>>>>>> temp-branch
         "x": [
          "2020-03-12",
          "2020-03-13",
          "2020-03-14",
          "2020-03-15",
          "2020-03-16",
          "2020-03-17",
          "2020-03-18",
          "2020-03-19",
          "2020-03-20",
          "2020-03-21",
          "2020-03-22",
          "2020-03-23",
          "2020-03-24",
          "2020-03-25",
          "2020-03-26",
          "2020-03-27",
          "2020-03-28",
          "2020-03-29",
<<<<<<< HEAD
          "2020-03-30"
=======
          "2020-03-30",
          "2020-03-31"
>>>>>>> temp-branch
         ],
         "y": [
          1,
          2,
          3,
          12,
          17,
          32,
          43,
          52,
          57,
          70,
          89,
          107,
          123,
          145,
          159,
          170,
          213,
          253,
<<<<<<< HEAD
          275
         ]
        },
        {
         "name": "Maryland",
         "type": "scatter",
=======
          275,
          303
         ]
        },
        {
         "hovertemplate": "Maryland: %{x} - %{y} <extra></extra>",
         "name": "Maryland",
         "type": "scatter",
         "visible": true,
>>>>>>> temp-branch
         "x": [
          "2020-03-05",
          "2020-03-06",
          "2020-03-07",
          "2020-03-08",
          "2020-03-09",
          "2020-03-10",
          "2020-03-11",
          "2020-03-12",
          "2020-03-13",
          "2020-03-14",
          "2020-03-15",
          "2020-03-16",
          "2020-03-17",
          "2020-03-18",
          "2020-03-19",
          "2020-03-20",
          "2020-03-21",
          "2020-03-22",
          "2020-03-23",
          "2020-03-24",
          "2020-03-25",
          "2020-03-26",
          "2020-03-27",
          "2020-03-28",
          "2020-03-29",
<<<<<<< HEAD
          "2020-03-30"
=======
          "2020-03-30",
          "2020-03-31"
>>>>>>> temp-branch
         ],
         "y": [
          3,
          3,
          3,
          5,
          6,
          9,
          13,
          13,
          18,
          27,
          32,
          39,
          57,
          85,
          108,
          150,
          195,
          245,
          290,
          349,
          423,
          581,
          790,
          1066,
          1244,
<<<<<<< HEAD
          1415
         ]
        },
        {
         "name": "Massachusetts",
         "type": "scatter",
=======
          1415,
          1662
         ]
        },
        {
         "hovertemplate": "Massachusetts: %{x} - %{y} <extra></extra>",
         "name": "Massachusetts",
         "type": "scatter",
         "visible": true,
>>>>>>> temp-branch
         "x": [
          "2020-02-01",
          "2020-02-02",
          "2020-02-03",
          "2020-02-04",
          "2020-02-05",
          "2020-02-06",
          "2020-02-07",
          "2020-02-08",
          "2020-02-09",
          "2020-02-10",
          "2020-02-11",
          "2020-02-12",
          "2020-02-13",
          "2020-02-14",
          "2020-02-15",
          "2020-02-16",
          "2020-02-17",
          "2020-02-18",
          "2020-02-19",
          "2020-02-20",
          "2020-02-21",
          "2020-02-22",
          "2020-02-23",
          "2020-02-24",
          "2020-02-25",
          "2020-02-26",
          "2020-02-27",
          "2020-02-28",
          "2020-02-29",
          "2020-03-01",
          "2020-03-02",
          "2020-03-03",
          "2020-03-04",
          "2020-03-05",
          "2020-03-06",
          "2020-03-07",
          "2020-03-08",
          "2020-03-09",
          "2020-03-10",
          "2020-03-11",
          "2020-03-12",
          "2020-03-13",
          "2020-03-14",
          "2020-03-15",
          "2020-03-16",
          "2020-03-17",
          "2020-03-18",
          "2020-03-19",
          "2020-03-20",
          "2020-03-21",
          "2020-03-22",
          "2020-03-23",
          "2020-03-24",
          "2020-03-25",
          "2020-03-26",
          "2020-03-27",
          "2020-03-28",
          "2020-03-29",
<<<<<<< HEAD
          "2020-03-30"
=======
          "2020-03-30",
          "2020-03-31"
>>>>>>> temp-branch
         ],
         "y": [
          1,
          1,
          1,
          1,
          1,
          1,
          1,
          1,
          1,
          1,
          1,
          1,
          1,
          1,
          1,
          1,
          1,
          1,
          1,
          1,
          1,
          1,
          1,
          1,
          1,
          1,
          1,
          1,
          1,
          1,
          2,
          2,
          2,
          3,
          8,
          13,
          28,
          41,
          92,
          95,
          108,
          123,
          138,
          164,
          197,
          218,
          256,
          328,
          413,
          525,
          646,
          777,
          1159,
          1838,
          2417,
          3240,
          4257,
          4955,
<<<<<<< HEAD
          5752
         ]
        },
        {
         "name": "Michigan",
         "type": "scatter",
=======
          5752,
          6620
         ]
        },
        {
         "hovertemplate": "Michigan: %{x} - %{y} <extra></extra>",
         "name": "Michigan",
         "type": "scatter",
         "visible": true,
>>>>>>> temp-branch
         "x": [
          "2020-03-10",
          "2020-03-11",
          "2020-03-12",
          "2020-03-13",
          "2020-03-14",
          "2020-03-15",
          "2020-03-16",
          "2020-03-17",
          "2020-03-18",
          "2020-03-19",
          "2020-03-20",
          "2020-03-21",
          "2020-03-22",
          "2020-03-23",
          "2020-03-24",
          "2020-03-25",
          "2020-03-26",
          "2020-03-27",
          "2020-03-28",
          "2020-03-29",
<<<<<<< HEAD
          "2020-03-30"
=======
          "2020-03-30",
          "2020-03-31"
>>>>>>> temp-branch
         ],
         "y": [
          2,
          2,
          12,
          25,
          33,
          53,
          54,
          65,
          80,
          334,
          548,
          787,
          1033,
          1324,
          1783,
          2286,
          2878,
          3652,
          4637,
          5473,
<<<<<<< HEAD
          6509
         ]
        },
        {
         "name": "Minnesota",
         "type": "scatter",
=======
          6509,
          7630
         ]
        },
        {
         "hovertemplate": "Minnesota: %{x} - %{y} <extra></extra>",
         "name": "Minnesota",
         "type": "scatter",
         "visible": true,
>>>>>>> temp-branch
         "x": [
          "2020-03-06",
          "2020-03-07",
          "2020-03-08",
          "2020-03-09",
          "2020-03-10",
          "2020-03-11",
          "2020-03-12",
          "2020-03-13",
          "2020-03-14",
          "2020-03-15",
          "2020-03-16",
          "2020-03-17",
          "2020-03-18",
          "2020-03-19",
          "2020-03-20",
          "2020-03-21",
          "2020-03-22",
          "2020-03-23",
          "2020-03-24",
          "2020-03-25",
          "2020-03-26",
          "2020-03-27",
          "2020-03-28",
          "2020-03-29",
<<<<<<< HEAD
          "2020-03-30"
=======
          "2020-03-30",
          "2020-03-31"
>>>>>>> temp-branch
         ],
         "y": [
          1,
          1,
          2,
          2,
          3,
          5,
          9,
          14,
          21,
          35,
          54,
          60,
          77,
          89,
          115,
          138,
          171,
          235,
          264,
          289,
          346,
          398,
          444,
          505,
<<<<<<< HEAD
          577
         ]
        },
        {
         "name": "Mississippi",
         "type": "scatter",
=======
          577,
          630
         ]
        },
        {
         "hovertemplate": "Mississippi: %{x} - %{y} <extra></extra>",
         "name": "Mississippi",
         "type": "scatter",
         "visible": true,
>>>>>>> temp-branch
         "x": [
          "2020-03-11",
          "2020-03-12",
          "2020-03-13",
          "2020-03-14",
          "2020-03-15",
          "2020-03-16",
          "2020-03-17",
          "2020-03-18",
          "2020-03-19",
          "2020-03-20",
          "2020-03-21",
          "2020-03-22",
          "2020-03-23",
          "2020-03-24",
          "2020-03-25",
          "2020-03-26",
          "2020-03-27",
          "2020-03-28",
          "2020-03-29",
<<<<<<< HEAD
          "2020-03-30"
=======
          "2020-03-30",
          "2020-03-31"
>>>>>>> temp-branch
         ],
         "y": [
          1,
          1,
          6,
          6,
          10,
          12,
          21,
          34,
          50,
          80,
          140,
          207,
          249,
          320,
          377,
          487,
          582,
          669,
          759,
<<<<<<< HEAD
          848
         ]
        },
        {
         "name": "Missouri",
         "type": "scatter",
=======
          848,
          941
         ]
        },
        {
         "hovertemplate": "Missouri: %{x} - %{y} <extra></extra>",
         "name": "Missouri",
         "type": "scatter",
         "visible": true,
>>>>>>> temp-branch
         "x": [
          "2020-03-07",
          "2020-03-08",
          "2020-03-09",
          "2020-03-10",
          "2020-03-11",
          "2020-03-12",
          "2020-03-13",
          "2020-03-14",
          "2020-03-15",
          "2020-03-16",
          "2020-03-17",
          "2020-03-18",
          "2020-03-19",
          "2020-03-20",
          "2020-03-21",
          "2020-03-22",
          "2020-03-23",
          "2020-03-24",
          "2020-03-25",
          "2020-03-26",
          "2020-03-27",
          "2020-03-28",
          "2020-03-29",
<<<<<<< HEAD
          "2020-03-30"
=======
          "2020-03-30",
          "2020-03-31"
>>>>>>> temp-branch
         ],
         "y": [
          1,
          1,
          1,
          1,
          1,
          2,
          4,
          5,
          5,
          9,
          16,
          21,
          35,
          73,
          93,
          130,
          183,
<<<<<<< HEAD
          257,
          383,
=======
          287,
          384,
>>>>>>> temp-branch
          518,
          673,
          840,
          905,
<<<<<<< HEAD
          1051
         ]
        },
        {
         "name": "Montana",
         "type": "scatter",
=======
          1051,
          1351
         ]
        },
        {
         "hovertemplate": "Montana: %{x} - %{y} <extra></extra>",
         "name": "Montana",
         "type": "scatter",
         "visible": true,
>>>>>>> temp-branch
         "x": [
          "2020-03-13",
          "2020-03-14",
          "2020-03-15",
          "2020-03-16",
          "2020-03-17",
          "2020-03-18",
          "2020-03-19",
          "2020-03-20",
          "2020-03-21",
          "2020-03-22",
          "2020-03-23",
          "2020-03-24",
          "2020-03-25",
          "2020-03-26",
          "2020-03-27",
          "2020-03-28",
          "2020-03-29",
<<<<<<< HEAD
          "2020-03-30"
=======
          "2020-03-30",
          "2020-03-31"
>>>>>>> temp-branch
         ],
         "y": [
          4,
          6,
          6,
          8,
          8,
          12,
          19,
          19,
          29,
          34,
          45,
          51,
          65,
          90,
          121,
          147,
          161,
<<<<<<< HEAD
          177
         ]
        },
        {
         "name": "Nebraska",
         "type": "scatter",
=======
          177,
          198
         ]
        },
        {
         "hovertemplate": "Nebraska: %{x} - %{y} <extra></extra>",
         "name": "Nebraska",
         "type": "scatter",
         "visible": true,
>>>>>>> temp-branch
         "x": [
          "2020-02-17",
          "2020-02-18",
          "2020-02-19",
          "2020-02-20",
          "2020-02-21",
          "2020-02-22",
          "2020-02-23",
          "2020-02-24",
          "2020-02-25",
          "2020-02-26",
          "2020-02-27",
          "2020-02-28",
          "2020-02-29",
          "2020-03-01",
          "2020-03-02",
          "2020-03-03",
          "2020-03-04",
          "2020-03-05",
          "2020-03-06",
          "2020-03-07",
          "2020-03-08",
          "2020-03-09",
          "2020-03-10",
          "2020-03-11",
          "2020-03-12",
          "2020-03-13",
          "2020-03-14",
          "2020-03-15",
          "2020-03-16",
          "2020-03-17",
          "2020-03-18",
          "2020-03-19",
          "2020-03-20",
          "2020-03-21",
          "2020-03-22",
          "2020-03-23",
          "2020-03-24",
          "2020-03-25",
          "2020-03-26",
          "2020-03-27",
          "2020-03-28",
          "2020-03-29",
<<<<<<< HEAD
          "2020-03-30"
=======
          "2020-03-30",
          "2020-03-31"
>>>>>>> temp-branch
         ],
         "y": [
          10,
          10,
          10,
          11,
          11,
          11,
          11,
          12,
          13,
          13,
          13,
          13,
          13,
          13,
          13,
          13,
          13,
          13,
          14,
          14,
          16,
          16,
          17,
          23,
          24,
          27,
          29,
          31,
          33,
          36,
          43,
          47,
          53,
          61,
          62,
          73,
          77,
          84,
          92,
          103,
          123,
          141,
<<<<<<< HEAD
          185
         ]
        },
        {
         "name": "Nevada",
         "type": "scatter",
=======
          185,
          201
         ]
        },
        {
         "hovertemplate": "Nevada: %{x} - %{y} <extra></extra>",
         "name": "Nevada",
         "type": "scatter",
         "visible": true,
>>>>>>> temp-branch
         "x": [
          "2020-03-05",
          "2020-03-06",
          "2020-03-07",
          "2020-03-08",
          "2020-03-09",
          "2020-03-10",
          "2020-03-11",
          "2020-03-12",
          "2020-03-13",
          "2020-03-14",
          "2020-03-15",
          "2020-03-16",
          "2020-03-17",
          "2020-03-18",
          "2020-03-19",
          "2020-03-20",
          "2020-03-21",
          "2020-03-22",
          "2020-03-23",
          "2020-03-24",
          "2020-03-25",
          "2020-03-26",
          "2020-03-27",
          "2020-03-28",
          "2020-03-29",
<<<<<<< HEAD
          "2020-03-30"
=======
          "2020-03-30",
          "2020-03-31"
>>>>>>> temp-branch
         ],
         "y": [
          2,
          2,
          2,
          4,
          4,
          4,
          7,
          11,
          19,
          21,
          26,
          45,
          55,
          82,
          99,
          165,
          165,
          190,
          265,
          383,
          406,
          535,
          621,
          738,
          920,
<<<<<<< HEAD
          1044
         ]
        },
        {
         "name": "New Hampshire",
         "type": "scatter",
=======
          1044,
          1113
         ]
        },
        {
         "hovertemplate": "New Hampshire: %{x} - %{y} <extra></extra>",
         "name": "New Hampshire",
         "type": "scatter",
         "visible": true,
>>>>>>> temp-branch
         "x": [
          "2020-03-02",
          "2020-03-03",
          "2020-03-04",
          "2020-03-05",
          "2020-03-06",
          "2020-03-07",
          "2020-03-08",
          "2020-03-09",
          "2020-03-10",
          "2020-03-11",
          "2020-03-12",
          "2020-03-13",
          "2020-03-14",
          "2020-03-15",
          "2020-03-16",
          "2020-03-17",
          "2020-03-18",
          "2020-03-19",
          "2020-03-20",
          "2020-03-21",
          "2020-03-22",
          "2020-03-23",
          "2020-03-24",
          "2020-03-25",
          "2020-03-26",
          "2020-03-27",
          "2020-03-28",
          "2020-03-29",
<<<<<<< HEAD
          "2020-03-30"
=======
          "2020-03-30",
          "2020-03-31"
>>>>>>> temp-branch
         ],
         "y": [
          1,
          2,
          2,
          2,
          2,
          4,
          4,
          4,
          5,
          5,
          6,
          7,
          7,
          13,
          17,
          26,
          39,
          44,
          55,
          65,
          78,
          101,
          108,
          137,
          158,
          187,
          214,
          258,
<<<<<<< HEAD
          314
         ]
        },
        {
         "name": "New Jersey",
         "type": "scatter",
=======
          314,
          367
         ]
        },
        {
         "hovertemplate": "New Jersey: %{x} - %{y} <extra></extra>",
         "name": "New Jersey",
         "type": "scatter",
         "visible": true,
>>>>>>> temp-branch
         "x": [
          "2020-03-04",
          "2020-03-05",
          "2020-03-06",
          "2020-03-07",
          "2020-03-08",
          "2020-03-09",
          "2020-03-10",
          "2020-03-11",
          "2020-03-12",
          "2020-03-13",
          "2020-03-14",
          "2020-03-15",
          "2020-03-16",
          "2020-03-17",
          "2020-03-18",
          "2020-03-19",
          "2020-03-20",
          "2020-03-21",
          "2020-03-22",
          "2020-03-23",
          "2020-03-24",
          "2020-03-25",
          "2020-03-26",
          "2020-03-27",
          "2020-03-28",
          "2020-03-29",
<<<<<<< HEAD
          "2020-03-30"
=======
          "2020-03-30",
          "2020-03-31"
>>>>>>> temp-branch
         ],
         "y": [
          1,
          2,
          4,
          4,
          6,
          11,
          15,
          23,
          29,
          50,
          75,
          98,
          176,
          268,
          427,
          735,
          896,
          1336,
          1914,
          2844,
          3675,
          4402,
          6876,
          8825,
          11124,
          13386,
<<<<<<< HEAD
          16636
         ]
        },
        {
         "name": "New Mexico",
         "type": "scatter",
=======
          16636,
          18696
         ]
        },
        {
         "hovertemplate": "New Mexico: %{x} - %{y} <extra></extra>",
         "name": "New Mexico",
         "type": "scatter",
         "visible": true,
>>>>>>> temp-branch
         "x": [
          "2020-03-11",
          "2020-03-12",
          "2020-03-13",
          "2020-03-14",
          "2020-03-15",
          "2020-03-16",
          "2020-03-17",
          "2020-03-18",
          "2020-03-19",
          "2020-03-20",
          "2020-03-21",
          "2020-03-22",
          "2020-03-23",
          "2020-03-24",
          "2020-03-25",
          "2020-03-26",
          "2020-03-27",
          "2020-03-28",
          "2020-03-29",
<<<<<<< HEAD
          "2020-03-30"
=======
          "2020-03-30",
          "2020-03-31"
>>>>>>> temp-branch
         ],
         "y": [
          4,
          6,
          10,
          13,
          17,
          21,
          23,
          28,
          35,
          43,
          57,
          65,
          83,
          100,
          113,
          136,
          191,
          210,
          237,
<<<<<<< HEAD
          282
         ]
        },
        {
         "name": "New York",
         "type": "scatter",
=======
          282,
          315
         ]
        },
        {
         "hovertemplate": "New York: %{x} - %{y} <extra></extra>",
         "name": "New York",
         "type": "scatter",
         "visible": true,
>>>>>>> temp-branch
         "x": [
          "2020-03-01",
          "2020-03-02",
          "2020-03-03",
          "2020-03-04",
          "2020-03-05",
          "2020-03-06",
          "2020-03-07",
          "2020-03-08",
          "2020-03-09",
          "2020-03-10",
          "2020-03-11",
          "2020-03-12",
          "2020-03-13",
          "2020-03-14",
          "2020-03-15",
          "2020-03-16",
          "2020-03-17",
          "2020-03-18",
          "2020-03-19",
          "2020-03-20",
          "2020-03-21",
          "2020-03-22",
          "2020-03-23",
          "2020-03-24",
          "2020-03-25",
          "2020-03-26",
          "2020-03-27",
          "2020-03-28",
          "2020-03-29",
<<<<<<< HEAD
          "2020-03-30"
=======
          "2020-03-30",
          "2020-03-31"
>>>>>>> temp-branch
         ],
         "y": [
          1,
          1,
          2,
          11,
          22,
          44,
          89,
          106,
          142,
          173,
          217,
          326,
          421,
          610,
          732,
          950,
          1374,
          2382,
          4152,
          7102,
          10356,
          15168,
          20875,
          25666,
          33067,
          38988,
          44636,
          53364,
          59568,
<<<<<<< HEAD
          67216
         ]
        },
        {
         "name": "North Carolina",
         "type": "scatter",
=======
          67216,
          75832
         ]
        },
        {
         "hovertemplate": "North Carolina: %{x} - %{y} <extra></extra>",
         "name": "North Carolina",
         "type": "scatter",
         "visible": true,
>>>>>>> temp-branch
         "x": [
          "2020-03-03",
          "2020-03-04",
          "2020-03-05",
          "2020-03-06",
          "2020-03-07",
          "2020-03-08",
          "2020-03-09",
          "2020-03-10",
          "2020-03-11",
          "2020-03-12",
          "2020-03-13",
          "2020-03-14",
          "2020-03-15",
          "2020-03-16",
          "2020-03-17",
          "2020-03-18",
          "2020-03-19",
          "2020-03-20",
          "2020-03-21",
          "2020-03-22",
          "2020-03-23",
          "2020-03-24",
          "2020-03-25",
          "2020-03-26",
          "2020-03-27",
          "2020-03-28",
          "2020-03-29",
<<<<<<< HEAD
          "2020-03-30"
=======
          "2020-03-30",
          "2020-03-31"
>>>>>>> temp-branch
         ],
         "y": [
          1,
          1,
          1,
          2,
          2,
          2,
          7,
          7,
          8,
          16,
          18,
          25,
          32,
          34,
          42,
          66,
          104,
          144,
          184,
          269,
          303,
          399,
          564,
          640,
          785,
          973,
          1169,
<<<<<<< HEAD
          1305
         ]
        },
        {
         "name": "North Dakota",
         "type": "scatter",
=======
          1305,
          1529
         ]
        },
        {
         "hovertemplate": "North Dakota: %{x} - %{y} <extra></extra>",
         "name": "North Dakota",
         "type": "scatter",
         "visible": true,
>>>>>>> temp-branch
         "x": [
          "2020-03-11",
          "2020-03-12",
          "2020-03-13",
          "2020-03-14",
          "2020-03-15",
          "2020-03-16",
          "2020-03-17",
          "2020-03-18",
          "2020-03-19",
          "2020-03-20",
          "2020-03-21",
          "2020-03-22",
          "2020-03-23",
          "2020-03-24",
          "2020-03-25",
          "2020-03-26",
          "2020-03-27",
          "2020-03-28",
          "2020-03-29",
<<<<<<< HEAD
          "2020-03-30"
=======
          "2020-03-30",
          "2020-03-31"
>>>>>>> temp-branch
         ],
         "y": [
          1,
          1,
          1,
          1,
          1,
          1,
          5,
          7,
          19,
          27,
          28,
          30,
          32,
          37,
          45,
          58,
          68,
          94,
          98,
<<<<<<< HEAD
          110
         ]
        },
        {
         "name": "Northern Mariana Islands",
         "type": "scatter",
         "x": [
          "2020-03-28",
          "2020-03-29",
          "2020-03-30"
=======
          110,
          126
         ]
        },
        {
         "hovertemplate": "Northern Mariana Islands: %{x} - %{y} <extra></extra>",
         "name": "Northern Mariana Islands",
         "type": "scatter",
         "visible": true,
         "x": [
          "2020-03-28",
          "2020-03-29",
          "2020-03-30",
          "2020-03-31"
>>>>>>> temp-branch
         ],
         "y": [
          2,
          2,
<<<<<<< HEAD
=======
          2,
>>>>>>> temp-branch
          2
         ]
        },
        {
<<<<<<< HEAD
         "name": "Ohio",
         "type": "scatter",
=======
         "hovertemplate": "Ohio: %{x} - %{y} <extra></extra>",
         "name": "Ohio",
         "type": "scatter",
         "visible": true,
>>>>>>> temp-branch
         "x": [
          "2020-03-09",
          "2020-03-10",
          "2020-03-11",
          "2020-03-12",
          "2020-03-13",
          "2020-03-14",
          "2020-03-15",
          "2020-03-16",
          "2020-03-17",
          "2020-03-18",
          "2020-03-19",
          "2020-03-20",
          "2020-03-21",
          "2020-03-22",
          "2020-03-23",
          "2020-03-24",
          "2020-03-25",
          "2020-03-26",
          "2020-03-27",
          "2020-03-28",
          "2020-03-29",
<<<<<<< HEAD
          "2020-03-30"
=======
          "2020-03-30",
          "2020-03-31"
>>>>>>> temp-branch
         ],
         "y": [
          3,
          3,
          4,
          5,
          13,
          26,
          37,
          50,
          67,
          90,
          120,
          169,
          247,
          351,
          444,
          564,
          707,
          868,
          1144,
          1406,
          1665,
<<<<<<< HEAD
          1933
         ]
        },
        {
         "name": "Oklahoma",
         "type": "scatter",
=======
          1933,
          2199
         ]
        },
        {
         "hovertemplate": "Oklahoma: %{x} - %{y} <extra></extra>",
         "name": "Oklahoma",
         "type": "scatter",
         "visible": true,
>>>>>>> temp-branch
         "x": [
          "2020-03-06",
          "2020-03-07",
          "2020-03-08",
          "2020-03-09",
          "2020-03-10",
          "2020-03-11",
          "2020-03-12",
          "2020-03-13",
          "2020-03-14",
          "2020-03-15",
          "2020-03-16",
          "2020-03-17",
          "2020-03-18",
          "2020-03-19",
          "2020-03-20",
          "2020-03-21",
          "2020-03-22",
          "2020-03-23",
          "2020-03-24",
          "2020-03-25",
          "2020-03-26",
          "2020-03-27",
          "2020-03-28",
          "2020-03-29",
<<<<<<< HEAD
          "2020-03-30"
=======
          "2020-03-30",
          "2020-03-31"
>>>>>>> temp-branch
         ],
         "y": [
          1,
          1,
          1,
          1,
          2,
          2,
          2,
          3,
          4,
          8,
          10,
          18,
          29,
          44,
          49,
          53,
          67,
          81,
          106,
          164,
          248,
          322,
          377,
          429,
<<<<<<< HEAD
          481
         ]
        },
        {
         "name": "Oregon",
         "type": "scatter",
=======
          481,
          566
         ]
        },
        {
         "hovertemplate": "Oregon: %{x} - %{y} <extra></extra>",
         "name": "Oregon",
         "type": "scatter",
         "visible": true,
>>>>>>> temp-branch
         "x": [
          "2020-02-28",
          "2020-02-29",
          "2020-03-01",
          "2020-03-02",
          "2020-03-03",
          "2020-03-04",
          "2020-03-05",
          "2020-03-06",
          "2020-03-07",
          "2020-03-08",
          "2020-03-09",
          "2020-03-10",
          "2020-03-11",
          "2020-03-12",
          "2020-03-13",
          "2020-03-14",
          "2020-03-15",
          "2020-03-16",
          "2020-03-17",
          "2020-03-18",
          "2020-03-19",
          "2020-03-20",
          "2020-03-21",
          "2020-03-22",
          "2020-03-23",
          "2020-03-24",
          "2020-03-25",
          "2020-03-26",
          "2020-03-27",
          "2020-03-28",
          "2020-03-29",
<<<<<<< HEAD
          "2020-03-30"
=======
          "2020-03-30",
          "2020-03-31"
>>>>>>> temp-branch
         ],
         "y": [
          1,
          1,
          2,
          2,
          2,
          2,
          2,
          2,
          6,
          13,
          13,
          14,
          20,
          30,
          30,
          36,
          39,
          46,
          66,
          74,
          87,
          114,
          137,
          161,
          191,
          209,
          266,
          316,
          415,
          480,
          549,
<<<<<<< HEAD
          607
         ]
        },
        {
         "name": "Pennsylvania",
         "type": "scatter",
=======
          607,
          690
         ]
        },
        {
         "hovertemplate": "Pennsylvania: %{x} - %{y} <extra></extra>",
         "name": "Pennsylvania",
         "type": "scatter",
         "visible": true,
>>>>>>> temp-branch
         "x": [
          "2020-03-06",
          "2020-03-07",
          "2020-03-08",
          "2020-03-09",
          "2020-03-10",
          "2020-03-11",
          "2020-03-12",
          "2020-03-13",
          "2020-03-14",
          "2020-03-15",
          "2020-03-16",
          "2020-03-17",
          "2020-03-18",
          "2020-03-19",
          "2020-03-20",
          "2020-03-21",
          "2020-03-22",
          "2020-03-23",
          "2020-03-24",
          "2020-03-25",
          "2020-03-26",
          "2020-03-27",
          "2020-03-28",
          "2020-03-29",
<<<<<<< HEAD
          "2020-03-30"
=======
          "2020-03-30",
          "2020-03-31"
>>>>>>> temp-branch
         ],
         "y": [
          2,
          4,
          6,
          10,
          12,
          16,
          22,
          41,
          47,
          68,
          81,
          101,
          139,
          187,
          269,
          388,
          504,
          644,
          851,
          1151,
          1690,
          2218,
          2815,
          3441,
<<<<<<< HEAD
          4156
         ]
        },
        {
         "name": "Puerto Rico",
         "type": "scatter",
=======
          4156,
          4997
         ]
        },
        {
         "hovertemplate": "Puerto Rico: %{x} - %{y} <extra></extra>",
         "name": "Puerto Rico",
         "type": "scatter",
         "visible": true,
>>>>>>> temp-branch
         "x": [
          "2020-03-13",
          "2020-03-14",
          "2020-03-15",
          "2020-03-16",
          "2020-03-17",
          "2020-03-18",
          "2020-03-19",
          "2020-03-20",
          "2020-03-21",
          "2020-03-22",
          "2020-03-23",
          "2020-03-24",
          "2020-03-25",
          "2020-03-26",
          "2020-03-27",
          "2020-03-28",
          "2020-03-29",
<<<<<<< HEAD
          "2020-03-30"
=======
          "2020-03-30",
          "2020-03-31"
>>>>>>> temp-branch
         ],
         "y": [
          3,
          4,
          5,
          5,
          5,
          5,
          6,
          14,
          21,
          23,
          31,
          39,
          51,
          64,
          79,
          100,
          127,
<<<<<<< HEAD
          174
         ]
        },
        {
         "name": "Rhode Island",
         "type": "scatter",
=======
          174,
          239
         ]
        },
        {
         "hovertemplate": "Rhode Island: %{x} - %{y} <extra></extra>",
         "name": "Rhode Island",
         "type": "scatter",
         "visible": true,
>>>>>>> temp-branch
         "x": [
          "2020-03-01",
          "2020-03-02",
          "2020-03-03",
          "2020-03-04",
          "2020-03-05",
          "2020-03-06",
          "2020-03-07",
          "2020-03-08",
          "2020-03-09",
          "2020-03-10",
          "2020-03-11",
          "2020-03-12",
          "2020-03-13",
          "2020-03-14",
          "2020-03-15",
          "2020-03-16",
          "2020-03-17",
          "2020-03-18",
          "2020-03-19",
          "2020-03-20",
          "2020-03-21",
          "2020-03-22",
          "2020-03-23",
          "2020-03-24",
          "2020-03-25",
          "2020-03-26",
          "2020-03-27",
          "2020-03-28",
          "2020-03-29",
<<<<<<< HEAD
          "2020-03-30"
=======
          "2020-03-30",
          "2020-03-31"
>>>>>>> temp-branch
         ],
         "y": [
          2,
          2,
          2,
          2,
          2,
          3,
          3,
          3,
          3,
          5,
          5,
          5,
          20,
          20,
          20,
          21,
          23,
          33,
          44,
          44,
          66,
          83,
          106,
          124,
          172,
          177,
          203,
          239,
          331,
<<<<<<< HEAD
          415
         ]
        },
        {
         "name": "South Carolina",
         "type": "scatter",
=======
          415,
          595
         ]
        },
        {
         "hovertemplate": "South Carolina: %{x} - %{y} <extra></extra>",
         "name": "South Carolina",
         "type": "scatter",
         "visible": true,
>>>>>>> temp-branch
         "x": [
          "2020-03-06",
          "2020-03-07",
          "2020-03-08",
          "2020-03-09",
          "2020-03-10",
          "2020-03-11",
          "2020-03-12",
          "2020-03-13",
          "2020-03-14",
          "2020-03-15",
          "2020-03-16",
          "2020-03-17",
          "2020-03-18",
          "2020-03-19",
          "2020-03-20",
          "2020-03-21",
          "2020-03-22",
          "2020-03-23",
          "2020-03-24",
          "2020-03-25",
          "2020-03-26",
          "2020-03-27",
          "2020-03-28",
          "2020-03-29",
<<<<<<< HEAD
          "2020-03-30"
=======
          "2020-03-30",
          "2020-03-31"
>>>>>>> temp-branch
         ],
         "y": [
          2,
          2,
          6,
          7,
          9,
          10,
          12,
          13,
          19,
          28,
          33,
          47,
          60,
          81,
          126,
          172,
          194,
          299,
          342,
          425,
          456,
          542,
          661,
          775,
<<<<<<< HEAD
          925
         ]
        },
        {
         "name": "South Dakota",
         "type": "scatter",
=======
          925,
          1083
         ]
        },
        {
         "hovertemplate": "South Dakota: %{x} - %{y} <extra></extra>",
         "name": "South Dakota",
         "type": "scatter",
         "visible": true,
>>>>>>> temp-branch
         "x": [
          "2020-03-10",
          "2020-03-11",
          "2020-03-12",
          "2020-03-13",
          "2020-03-14",
          "2020-03-15",
          "2020-03-16",
          "2020-03-17",
          "2020-03-18",
          "2020-03-19",
          "2020-03-20",
          "2020-03-21",
          "2020-03-22",
          "2020-03-23",
          "2020-03-24",
          "2020-03-25",
          "2020-03-26",
          "2020-03-27",
          "2020-03-28",
          "2020-03-29",
<<<<<<< HEAD
          "2020-03-30"
=======
          "2020-03-30",
          "2020-03-31"
>>>>>>> temp-branch
         ],
         "y": [
          5,
          8,
          8,
          9,
          9,
          9,
          10,
          11,
          11,
          14,
          14,
          14,
          21,
          28,
          30,
          41,
          46,
          58,
          68,
          90,
<<<<<<< HEAD
          102
         ]
        },
        {
         "name": "Tennessee",
         "type": "scatter",
=======
          102,
          108
         ]
        },
        {
         "hovertemplate": "Tennessee: %{x} - %{y} <extra></extra>",
         "name": "Tennessee",
         "type": "scatter",
         "visible": true,
>>>>>>> temp-branch
         "x": [
          "2020-03-05",
          "2020-03-06",
          "2020-03-07",
          "2020-03-08",
          "2020-03-09",
          "2020-03-10",
          "2020-03-11",
          "2020-03-12",
          "2020-03-13",
          "2020-03-14",
          "2020-03-15",
          "2020-03-16",
          "2020-03-17",
          "2020-03-18",
          "2020-03-19",
          "2020-03-20",
          "2020-03-21",
          "2020-03-22",
          "2020-03-23",
          "2020-03-24",
          "2020-03-25",
          "2020-03-26",
          "2020-03-27",
          "2020-03-28",
          "2020-03-29",
<<<<<<< HEAD
          "2020-03-30"
=======
          "2020-03-30",
          "2020-03-31"
>>>>>>> temp-branch
         ],
         "y": [
          1,
          1,
          1,
          3,
          4,
          7,
          8,
          18,
          26,
          32,
          39,
          52,
          73,
          98,
          155,
          237,
          312,
          424,
          522,
          754,
          837,
          983,
          1181,
          1364,
          1570,
<<<<<<< HEAD
          1729
         ]
        },
        {
         "name": "Texas",
         "type": "scatter",
=======
          1729,
          1899
         ]
        },
        {
         "hovertemplate": "Texas: %{x} - %{y} <extra></extra>",
         "name": "Texas",
         "type": "scatter",
         "visible": true,
>>>>>>> temp-branch
         "x": [
          "2020-02-12",
          "2020-02-13",
          "2020-02-14",
          "2020-02-15",
          "2020-02-16",
          "2020-02-17",
          "2020-02-18",
          "2020-02-19",
          "2020-02-20",
          "2020-02-21",
          "2020-02-22",
          "2020-02-23",
          "2020-02-24",
          "2020-02-25",
          "2020-02-26",
          "2020-02-27",
          "2020-02-28",
          "2020-02-29",
          "2020-03-01",
          "2020-03-02",
          "2020-03-03",
          "2020-03-04",
          "2020-03-05",
          "2020-03-06",
          "2020-03-07",
          "2020-03-08",
          "2020-03-09",
          "2020-03-10",
          "2020-03-11",
          "2020-03-12",
          "2020-03-13",
          "2020-03-14",
          "2020-03-15",
          "2020-03-16",
          "2020-03-17",
          "2020-03-18",
          "2020-03-19",
          "2020-03-20",
          "2020-03-21",
          "2020-03-22",
          "2020-03-23",
          "2020-03-24",
          "2020-03-25",
          "2020-03-26",
          "2020-03-27",
          "2020-03-28",
          "2020-03-29",
<<<<<<< HEAD
          "2020-03-30"
=======
          "2020-03-30",
          "2020-03-31"
>>>>>>> temp-branch
         ],
         "y": [
          1,
          2,
          2,
          2,
          2,
          2,
          2,
          2,
          2,
          4,
          4,
          4,
          10,
          10,
          10,
          10,
          11,
          11,
          11,
          11,
          11,
          12,
          16,
          19,
          19,
          23,
          24,
          31,
          33,
          41,
          58,
          69,
          80,
          87,
          106,
          166,
          248,
          377,
          547,
          632,
          728,
          857,
          1119,
          1543,
          1943,
          2374,
          2719,
<<<<<<< HEAD
          3046
         ]
        },
        {
         "name": "Utah",
         "type": "scatter",
=======
          3046,
          3594
         ]
        },
        {
         "hovertemplate": "Utah: %{x} - %{y} <extra></extra>",
         "name": "Utah",
         "type": "scatter",
         "visible": true,
>>>>>>> temp-branch
         "x": [
          "2020-02-25",
          "2020-02-26",
          "2020-02-27",
          "2020-02-28",
          "2020-02-29",
          "2020-03-01",
          "2020-03-02",
          "2020-03-03",
          "2020-03-04",
          "2020-03-05",
          "2020-03-06",
          "2020-03-07",
          "2020-03-08",
          "2020-03-09",
          "2020-03-10",
          "2020-03-11",
          "2020-03-12",
          "2020-03-13",
          "2020-03-14",
          "2020-03-15",
          "2020-03-16",
          "2020-03-17",
          "2020-03-18",
          "2020-03-19",
          "2020-03-20",
          "2020-03-21",
          "2020-03-22",
          "2020-03-23",
          "2020-03-24",
          "2020-03-25",
          "2020-03-26",
          "2020-03-27",
          "2020-03-28",
          "2020-03-29",
<<<<<<< HEAD
          "2020-03-30"
=======
          "2020-03-30",
          "2020-03-31"
>>>>>>> temp-branch
         ],
         "y": [
          1,
          1,
          1,
          1,
          1,
          1,
          1,
          1,
          1,
          1,
          3,
          3,
          3,
          3,
          4,
          5,
          7,
          7,
          21,
          29,
          40,
          51,
          65,
          80,
          112,
          138,
          182,
          257,
          299,
          336,
          402,
          480,
          608,
          719,
<<<<<<< HEAD
          806
         ]
        },
        {
         "name": "Vermont",
         "type": "scatter",
=======
          806,
          887
         ]
        },
        {
         "hovertemplate": "Vermont: %{x} - %{y} <extra></extra>",
         "name": "Vermont",
         "type": "scatter",
         "visible": true,
>>>>>>> temp-branch
         "x": [
          "2020-03-07",
          "2020-03-08",
          "2020-03-09",
          "2020-03-10",
          "2020-03-11",
          "2020-03-12",
          "2020-03-13",
          "2020-03-14",
          "2020-03-15",
          "2020-03-16",
          "2020-03-17",
          "2020-03-18",
          "2020-03-19",
          "2020-03-20",
          "2020-03-21",
          "2020-03-22",
          "2020-03-23",
          "2020-03-24",
          "2020-03-25",
          "2020-03-26",
          "2020-03-27",
          "2020-03-28",
          "2020-03-29",
<<<<<<< HEAD
          "2020-03-30"
=======
          "2020-03-30",
          "2020-03-31"
>>>>>>> temp-branch
         ],
         "y": [
          1,
          1,
          1,
          1,
          2,
          2,
          2,
          5,
          8,
          12,
          14,
          19,
          22,
          29,
          49,
          52,
          75,
          116,
          146,
          173,
          201,
          227,
          251,
<<<<<<< HEAD
          277
         ]
        },
        {
         "name": "Virgin Islands",
         "type": "scatter",
=======
          277,
          305
         ]
        },
        {
         "hovertemplate": "Virgin Islands: %{x} - %{y} <extra></extra>",
         "name": "Virgin Islands",
         "type": "scatter",
         "visible": true,
>>>>>>> temp-branch
         "x": [
          "2020-03-14",
          "2020-03-15",
          "2020-03-16",
          "2020-03-17",
          "2020-03-18",
          "2020-03-19",
          "2020-03-20",
          "2020-03-21",
          "2020-03-22",
          "2020-03-23",
          "2020-03-24",
          "2020-03-25",
          "2020-03-26",
          "2020-03-27",
          "2020-03-28",
          "2020-03-29",
<<<<<<< HEAD
          "2020-03-30"
=======
          "2020-03-30",
          "2020-03-31"
>>>>>>> temp-branch
         ],
         "y": [
          1,
          1,
          2,
          2,
          3,
          3,
          6,
          6,
          17,
          17,
          17,
          17,
          17,
          19,
          19,
          23,
<<<<<<< HEAD
=======
          30,
>>>>>>> temp-branch
          30
         ]
        },
        {
<<<<<<< HEAD
         "name": "Virginia",
         "type": "scatter",
=======
         "hovertemplate": "Virginia: %{x} - %{y} <extra></extra>",
         "name": "Virginia",
         "type": "scatter",
         "visible": true,
>>>>>>> temp-branch
         "x": [
          "2020-03-07",
          "2020-03-08",
          "2020-03-09",
          "2020-03-10",
          "2020-03-11",
          "2020-03-12",
          "2020-03-13",
          "2020-03-14",
          "2020-03-15",
          "2020-03-16",
          "2020-03-17",
          "2020-03-18",
          "2020-03-19",
          "2020-03-20",
          "2020-03-21",
          "2020-03-22",
          "2020-03-23",
          "2020-03-24",
          "2020-03-25",
          "2020-03-26",
          "2020-03-27",
          "2020-03-28",
          "2020-03-29",
<<<<<<< HEAD
          "2020-03-30"
=======
          "2020-03-30",
          "2020-03-31"
>>>>>>> temp-branch
         ],
         "y": [
          1,
          2,
          5,
          8,
          10,
          17,
          30,
          42,
          45,
          51,
          67,
          78,
          94,
          115,
          152,
          219,
          254,
          291,
          391,
          569,
          606,
          740,
          890,
<<<<<<< HEAD
          1021
         ]
        },
        {
         "name": "Washington",
         "type": "scatter",
=======
          1021,
          1250
         ]
        },
        {
         "hovertemplate": "Washington: %{x} - %{y} <extra></extra>",
         "name": "Washington",
         "type": "scatter",
         "visible": true,
>>>>>>> temp-branch
         "x": [
          "2020-01-21",
          "2020-01-22",
          "2020-01-23",
          "2020-01-24",
          "2020-01-25",
          "2020-01-26",
          "2020-01-27",
          "2020-01-28",
          "2020-01-29",
          "2020-01-30",
          "2020-01-31",
          "2020-02-01",
          "2020-02-02",
          "2020-02-03",
          "2020-02-04",
          "2020-02-05",
          "2020-02-06",
          "2020-02-07",
          "2020-02-08",
          "2020-02-09",
          "2020-02-10",
          "2020-02-11",
          "2020-02-12",
          "2020-02-13",
          "2020-02-14",
          "2020-02-15",
          "2020-02-16",
          "2020-02-17",
          "2020-02-18",
          "2020-02-19",
          "2020-02-20",
          "2020-02-21",
          "2020-02-22",
          "2020-02-23",
          "2020-02-24",
          "2020-02-25",
          "2020-02-26",
          "2020-02-27",
          "2020-02-28",
          "2020-02-29",
          "2020-03-01",
          "2020-03-02",
          "2020-03-03",
          "2020-03-04",
          "2020-03-05",
          "2020-03-06",
          "2020-03-07",
          "2020-03-08",
          "2020-03-09",
          "2020-03-10",
          "2020-03-11",
          "2020-03-12",
          "2020-03-13",
          "2020-03-14",
          "2020-03-15",
          "2020-03-16",
          "2020-03-17",
          "2020-03-18",
          "2020-03-19",
          "2020-03-20",
          "2020-03-21",
          "2020-03-22",
          "2020-03-23",
          "2020-03-24",
          "2020-03-25",
          "2020-03-26",
          "2020-03-27",
          "2020-03-28",
          "2020-03-29",
<<<<<<< HEAD
          "2020-03-30"
=======
          "2020-03-30",
          "2020-03-31"
>>>>>>> temp-branch
         ],
         "y": [
          1,
          1,
          1,
          1,
          1,
          1,
          1,
          1,
          1,
          1,
          1,
          1,
          1,
          1,
          1,
          1,
          1,
          1,
          1,
          1,
          1,
          1,
          1,
          1,
          1,
          1,
          1,
          1,
          1,
          1,
          1,
          1,
          1,
          1,
          5,
          5,
          5,
          5,
          7,
          10,
          17,
          23,
          32,
          47,
          75,
          86,
          110,
          141,
          179,
          279,
          338,
          419,
          511,
          609,
          675,
          794,
          908,
          1026,
          1228,
          1404,
          1655,
          1844,
          2101,
          2404,
          2585,
          3143,
          3727,
          4153,
          4634,
<<<<<<< HEAD
          4932
         ]
        },
        {
         "name": "West Virginia",
         "type": "scatter",
=======
          4936,
          5061
         ]
        },
        {
         "hovertemplate": "West Virginia: %{x} - %{y} <extra></extra>",
         "name": "West Virginia",
         "type": "scatter",
         "visible": true,
>>>>>>> temp-branch
         "x": [
          "2020-03-17",
          "2020-03-18",
          "2020-03-19",
          "2020-03-20",
          "2020-03-21",
          "2020-03-22",
          "2020-03-23",
          "2020-03-24",
          "2020-03-25",
          "2020-03-26",
          "2020-03-27",
          "2020-03-28",
          "2020-03-29",
<<<<<<< HEAD
          "2020-03-30"
=======
          "2020-03-30",
          "2020-03-31"
>>>>>>> temp-branch
         ],
         "y": [
          1,
          2,
          5,
          8,
          12,
          16,
          16,
          39,
          51,
          76,
          96,
          113,
          124,
<<<<<<< HEAD
          145
         ]
        },
        {
         "name": "Wisconsin",
         "type": "scatter",
=======
          145,
          162
         ]
        },
        {
         "hovertemplate": "Wisconsin: %{x} - %{y} <extra></extra>",
         "name": "Wisconsin",
         "type": "scatter",
         "visible": true,
>>>>>>> temp-branch
         "x": [
          "2020-02-05",
          "2020-02-06",
          "2020-02-07",
          "2020-02-08",
          "2020-02-09",
          "2020-02-10",
          "2020-02-11",
          "2020-02-12",
          "2020-02-13",
          "2020-02-14",
          "2020-02-15",
          "2020-02-16",
          "2020-02-17",
          "2020-02-18",
          "2020-02-19",
          "2020-02-20",
          "2020-02-21",
          "2020-02-22",
          "2020-02-23",
          "2020-02-24",
          "2020-02-25",
          "2020-02-26",
          "2020-02-27",
          "2020-02-28",
          "2020-02-29",
          "2020-03-01",
          "2020-03-02",
          "2020-03-03",
          "2020-03-04",
          "2020-03-05",
          "2020-03-06",
          "2020-03-07",
          "2020-03-08",
          "2020-03-09",
          "2020-03-10",
          "2020-03-11",
          "2020-03-12",
          "2020-03-13",
          "2020-03-14",
          "2020-03-15",
          "2020-03-16",
          "2020-03-17",
          "2020-03-18",
          "2020-03-19",
          "2020-03-20",
          "2020-03-21",
          "2020-03-22",
          "2020-03-23",
          "2020-03-24",
          "2020-03-25",
          "2020-03-26",
          "2020-03-27",
          "2020-03-28",
          "2020-03-29",
<<<<<<< HEAD
          "2020-03-30"
=======
          "2020-03-30",
          "2020-03-31"
>>>>>>> temp-branch
         ],
         "y": [
          1,
          1,
          1,
          1,
          1,
          1,
          1,
          1,
          1,
          1,
          1,
          1,
          1,
          1,
          1,
          1,
          1,
          1,
          1,
          1,
          1,
          1,
          1,
          1,
          1,
          1,
          1,
          1,
          1,
          1,
          1,
          1,
          1,
          2,
          3,
          6,
          8,
          19,
          27,
          33,
          47,
          72,
          106,
          155,
          216,
          281,
          382,
          418,
          481,
          623,
          754,
          930,
          1042,
          1120,
<<<<<<< HEAD
          1269
         ]
        },
        {
         "name": "Wyoming",
         "type": "scatter",
=======
          1269,
          1351
         ]
        },
        {
         "hovertemplate": "Wyoming: %{x} - %{y} <extra></extra>",
         "name": "Wyoming",
         "type": "scatter",
         "visible": true,
>>>>>>> temp-branch
         "x": [
          "2020-03-11",
          "2020-03-12",
          "2020-03-13",
          "2020-03-14",
          "2020-03-15",
          "2020-03-16",
          "2020-03-17",
          "2020-03-18",
          "2020-03-19",
          "2020-03-20",
          "2020-03-21",
          "2020-03-22",
          "2020-03-23",
          "2020-03-24",
          "2020-03-25",
          "2020-03-26",
          "2020-03-27",
          "2020-03-28",
          "2020-03-29",
<<<<<<< HEAD
          "2020-03-30"
=======
          "2020-03-30",
          "2020-03-31"
>>>>>>> temp-branch
         ],
         "y": [
          1,
          1,
          2,
          3,
          3,
          10,
          15,
          17,
          18,
          22,
          24,
          26,
          28,
          37,
          49,
          56,
          74,
          85,
          88,
<<<<<<< HEAD
          96
=======
          96,
          121
>>>>>>> temp-branch
         ]
        }
       ],
       "layout": {
<<<<<<< HEAD
        "height": 600,
=======
        "annotations": [
         {
          "align": "left",
          "showarrow": false,
          "text": "State",
          "x": 0,
          "xref": "paper",
          "y": 1.12,
          "yref": "paper"
         },
         {
          "align": "left",
          "showarrow": false,
          "text": "Y Scale",
          "x": 0.47,
          "xref": "paper",
          "y": 1.12,
          "yref": "paper"
         }
        ],
        "font": {
         "color": "#232121",
         "family": "Gravitas one, monospace",
         "size": 12
        },
        "height": 800,
>>>>>>> temp-branch
        "template": {
         "data": {
          "bar": [
           {
            "error_x": {
             "color": "#2a3f5f"
            },
            "error_y": {
             "color": "#2a3f5f"
            },
            "marker": {
             "line": {
              "color": "#E5ECF6",
              "width": 0.5
             }
            },
            "type": "bar"
           }
          ],
          "barpolar": [
           {
            "marker": {
             "line": {
              "color": "#E5ECF6",
              "width": 0.5
             }
            },
            "type": "barpolar"
           }
          ],
          "carpet": [
           {
            "aaxis": {
             "endlinecolor": "#2a3f5f",
             "gridcolor": "white",
             "linecolor": "white",
             "minorgridcolor": "white",
             "startlinecolor": "#2a3f5f"
            },
            "baxis": {
             "endlinecolor": "#2a3f5f",
             "gridcolor": "white",
             "linecolor": "white",
             "minorgridcolor": "white",
             "startlinecolor": "#2a3f5f"
            },
            "type": "carpet"
           }
          ],
          "choropleth": [
           {
            "colorbar": {
             "outlinewidth": 0,
             "ticks": ""
            },
            "type": "choropleth"
           }
          ],
          "contour": [
           {
            "colorbar": {
             "outlinewidth": 0,
             "ticks": ""
            },
            "colorscale": [
             [
              0,
              "#0d0887"
             ],
             [
              0.1111111111111111,
              "#46039f"
             ],
             [
              0.2222222222222222,
              "#7201a8"
             ],
             [
              0.3333333333333333,
              "#9c179e"
             ],
             [
              0.4444444444444444,
              "#bd3786"
             ],
             [
              0.5555555555555556,
              "#d8576b"
             ],
             [
              0.6666666666666666,
              "#ed7953"
             ],
             [
              0.7777777777777778,
              "#fb9f3a"
             ],
             [
              0.8888888888888888,
              "#fdca26"
             ],
             [
              1,
              "#f0f921"
             ]
            ],
            "type": "contour"
           }
          ],
          "contourcarpet": [
           {
            "colorbar": {
             "outlinewidth": 0,
             "ticks": ""
            },
            "type": "contourcarpet"
           }
          ],
          "heatmap": [
           {
            "colorbar": {
             "outlinewidth": 0,
             "ticks": ""
            },
            "colorscale": [
             [
              0,
              "#0d0887"
             ],
             [
              0.1111111111111111,
              "#46039f"
             ],
             [
              0.2222222222222222,
              "#7201a8"
             ],
             [
              0.3333333333333333,
              "#9c179e"
             ],
             [
              0.4444444444444444,
              "#bd3786"
             ],
             [
              0.5555555555555556,
              "#d8576b"
             ],
             [
              0.6666666666666666,
              "#ed7953"
             ],
             [
              0.7777777777777778,
              "#fb9f3a"
             ],
             [
              0.8888888888888888,
              "#fdca26"
             ],
             [
              1,
              "#f0f921"
             ]
            ],
            "type": "heatmap"
           }
          ],
          "heatmapgl": [
           {
            "colorbar": {
             "outlinewidth": 0,
             "ticks": ""
            },
            "colorscale": [
             [
              0,
              "#0d0887"
             ],
             [
              0.1111111111111111,
              "#46039f"
             ],
             [
              0.2222222222222222,
              "#7201a8"
             ],
             [
              0.3333333333333333,
              "#9c179e"
             ],
             [
              0.4444444444444444,
              "#bd3786"
             ],
             [
              0.5555555555555556,
              "#d8576b"
             ],
             [
              0.6666666666666666,
              "#ed7953"
             ],
             [
              0.7777777777777778,
              "#fb9f3a"
             ],
             [
              0.8888888888888888,
              "#fdca26"
             ],
             [
              1,
              "#f0f921"
             ]
            ],
            "type": "heatmapgl"
           }
          ],
          "histogram": [
           {
            "marker": {
             "colorbar": {
              "outlinewidth": 0,
              "ticks": ""
             }
            },
            "type": "histogram"
           }
          ],
          "histogram2d": [
           {
            "colorbar": {
             "outlinewidth": 0,
             "ticks": ""
            },
            "colorscale": [
             [
              0,
              "#0d0887"
             ],
             [
              0.1111111111111111,
              "#46039f"
             ],
             [
              0.2222222222222222,
              "#7201a8"
             ],
             [
              0.3333333333333333,
              "#9c179e"
             ],
             [
              0.4444444444444444,
              "#bd3786"
             ],
             [
              0.5555555555555556,
              "#d8576b"
             ],
             [
              0.6666666666666666,
              "#ed7953"
             ],
             [
              0.7777777777777778,
              "#fb9f3a"
             ],
             [
              0.8888888888888888,
              "#fdca26"
             ],
             [
              1,
              "#f0f921"
             ]
            ],
            "type": "histogram2d"
           }
          ],
          "histogram2dcontour": [
           {
            "colorbar": {
             "outlinewidth": 0,
             "ticks": ""
            },
            "colorscale": [
             [
              0,
              "#0d0887"
             ],
             [
              0.1111111111111111,
              "#46039f"
             ],
             [
              0.2222222222222222,
              "#7201a8"
             ],
             [
              0.3333333333333333,
              "#9c179e"
             ],
             [
              0.4444444444444444,
              "#bd3786"
             ],
             [
              0.5555555555555556,
              "#d8576b"
             ],
             [
              0.6666666666666666,
              "#ed7953"
             ],
             [
              0.7777777777777778,
              "#fb9f3a"
             ],
             [
              0.8888888888888888,
              "#fdca26"
             ],
             [
              1,
              "#f0f921"
             ]
            ],
            "type": "histogram2dcontour"
           }
          ],
          "mesh3d": [
           {
            "colorbar": {
             "outlinewidth": 0,
             "ticks": ""
            },
            "type": "mesh3d"
           }
          ],
          "parcoords": [
           {
            "line": {
             "colorbar": {
              "outlinewidth": 0,
              "ticks": ""
             }
            },
            "type": "parcoords"
           }
          ],
          "pie": [
           {
            "automargin": true,
            "type": "pie"
           }
          ],
          "scatter": [
           {
            "marker": {
             "colorbar": {
              "outlinewidth": 0,
              "ticks": ""
             }
            },
            "type": "scatter"
           }
          ],
          "scatter3d": [
           {
            "line": {
             "colorbar": {
              "outlinewidth": 0,
              "ticks": ""
             }
            },
            "marker": {
             "colorbar": {
              "outlinewidth": 0,
              "ticks": ""
             }
            },
            "type": "scatter3d"
           }
          ],
          "scattercarpet": [
           {
            "marker": {
             "colorbar": {
              "outlinewidth": 0,
              "ticks": ""
             }
            },
            "type": "scattercarpet"
           }
          ],
          "scattergeo": [
           {
            "marker": {
             "colorbar": {
              "outlinewidth": 0,
              "ticks": ""
             }
            },
            "type": "scattergeo"
           }
          ],
          "scattergl": [
           {
            "marker": {
             "colorbar": {
              "outlinewidth": 0,
              "ticks": ""
             }
            },
            "type": "scattergl"
           }
          ],
          "scattermapbox": [
           {
            "marker": {
             "colorbar": {
              "outlinewidth": 0,
              "ticks": ""
             }
            },
            "type": "scattermapbox"
           }
          ],
          "scatterpolar": [
           {
            "marker": {
             "colorbar": {
              "outlinewidth": 0,
              "ticks": ""
             }
            },
            "type": "scatterpolar"
           }
          ],
          "scatterpolargl": [
           {
            "marker": {
             "colorbar": {
              "outlinewidth": 0,
              "ticks": ""
             }
            },
            "type": "scatterpolargl"
           }
          ],
          "scatterternary": [
           {
            "marker": {
             "colorbar": {
              "outlinewidth": 0,
              "ticks": ""
             }
            },
            "type": "scatterternary"
           }
          ],
          "surface": [
           {
            "colorbar": {
             "outlinewidth": 0,
             "ticks": ""
            },
            "colorscale": [
             [
              0,
              "#0d0887"
             ],
             [
              0.1111111111111111,
              "#46039f"
             ],
             [
              0.2222222222222222,
              "#7201a8"
             ],
             [
              0.3333333333333333,
              "#9c179e"
             ],
             [
              0.4444444444444444,
              "#bd3786"
             ],
             [
              0.5555555555555556,
              "#d8576b"
             ],
             [
              0.6666666666666666,
              "#ed7953"
             ],
             [
              0.7777777777777778,
              "#fb9f3a"
             ],
             [
              0.8888888888888888,
              "#fdca26"
             ],
             [
              1,
              "#f0f921"
             ]
            ],
            "type": "surface"
           }
          ],
          "table": [
           {
            "cells": {
             "fill": {
              "color": "#EBF0F8"
             },
             "line": {
              "color": "white"
             }
            },
            "header": {
             "fill": {
              "color": "#C8D4E3"
             },
             "line": {
              "color": "white"
             }
            },
            "type": "table"
           }
          ]
         },
         "layout": {
          "annotationdefaults": {
           "arrowcolor": "#2a3f5f",
           "arrowhead": 0,
           "arrowwidth": 1
          },
          "coloraxis": {
           "colorbar": {
            "outlinewidth": 0,
            "ticks": ""
           }
          },
          "colorscale": {
           "diverging": [
            [
             0,
             "#8e0152"
            ],
            [
             0.1,
             "#c51b7d"
            ],
            [
             0.2,
             "#de77ae"
            ],
            [
             0.3,
             "#f1b6da"
            ],
            [
             0.4,
             "#fde0ef"
            ],
            [
             0.5,
             "#f7f7f7"
            ],
            [
             0.6,
             "#e6f5d0"
            ],
            [
             0.7,
             "#b8e186"
            ],
            [
             0.8,
             "#7fbc41"
            ],
            [
             0.9,
             "#4d9221"
            ],
            [
             1,
             "#276419"
            ]
           ],
           "sequential": [
            [
             0,
             "#0d0887"
            ],
            [
             0.1111111111111111,
             "#46039f"
            ],
            [
             0.2222222222222222,
             "#7201a8"
            ],
            [
             0.3333333333333333,
             "#9c179e"
            ],
            [
             0.4444444444444444,
             "#bd3786"
            ],
            [
             0.5555555555555556,
             "#d8576b"
            ],
            [
             0.6666666666666666,
             "#ed7953"
            ],
            [
             0.7777777777777778,
             "#fb9f3a"
            ],
            [
             0.8888888888888888,
             "#fdca26"
            ],
            [
             1,
             "#f0f921"
            ]
           ],
           "sequentialminus": [
            [
             0,
             "#0d0887"
            ],
            [
             0.1111111111111111,
             "#46039f"
            ],
            [
             0.2222222222222222,
             "#7201a8"
            ],
            [
             0.3333333333333333,
             "#9c179e"
            ],
            [
             0.4444444444444444,
             "#bd3786"
            ],
            [
             0.5555555555555556,
             "#d8576b"
            ],
            [
             0.6666666666666666,
             "#ed7953"
            ],
            [
             0.7777777777777778,
             "#fb9f3a"
            ],
            [
             0.8888888888888888,
             "#fdca26"
            ],
            [
             1,
             "#f0f921"
            ]
           ]
          },
          "colorway": [
           "#636efa",
           "#EF553B",
           "#00cc96",
           "#ab63fa",
           "#FFA15A",
           "#19d3f3",
           "#FF6692",
           "#B6E880",
           "#FF97FF",
           "#FECB52"
          ],
          "font": {
           "color": "#2a3f5f"
          },
          "geo": {
           "bgcolor": "white",
           "lakecolor": "white",
           "landcolor": "#E5ECF6",
           "showlakes": true,
           "showland": true,
           "subunitcolor": "white"
          },
          "hoverlabel": {
           "align": "left"
          },
          "hovermode": "closest",
          "mapbox": {
           "style": "light"
          },
          "paper_bgcolor": "white",
          "plot_bgcolor": "#E5ECF6",
          "polar": {
           "angularaxis": {
            "gridcolor": "white",
            "linecolor": "white",
            "ticks": ""
           },
           "bgcolor": "#E5ECF6",
           "radialaxis": {
            "gridcolor": "white",
            "linecolor": "white",
            "ticks": ""
           }
          },
          "scene": {
           "xaxis": {
            "backgroundcolor": "#E5ECF6",
            "gridcolor": "white",
            "gridwidth": 2,
            "linecolor": "white",
            "showbackground": true,
            "ticks": "",
            "zerolinecolor": "white"
           },
           "yaxis": {
            "backgroundcolor": "#E5ECF6",
            "gridcolor": "white",
            "gridwidth": 2,
            "linecolor": "white",
            "showbackground": true,
            "ticks": "",
            "zerolinecolor": "white"
           },
           "zaxis": {
            "backgroundcolor": "#E5ECF6",
            "gridcolor": "white",
            "gridwidth": 2,
            "linecolor": "white",
            "showbackground": true,
            "ticks": "",
            "zerolinecolor": "white"
           }
          },
          "shapedefaults": {
           "line": {
            "color": "#2a3f5f"
           }
          },
          "ternary": {
           "aaxis": {
            "gridcolor": "white",
            "linecolor": "white",
            "ticks": ""
           },
           "baxis": {
            "gridcolor": "white",
            "linecolor": "white",
            "ticks": ""
           },
           "bgcolor": "#E5ECF6",
           "caxis": {
            "gridcolor": "white",
            "linecolor": "white",
            "ticks": ""
           }
          },
          "title": {
           "x": 0.05
          },
          "xaxis": {
           "automargin": true,
           "gridcolor": "white",
           "linecolor": "white",
           "ticks": "",
           "title": {
            "standoff": 15
           },
           "zerolinecolor": "white",
           "zerolinewidth": 2
          },
          "yaxis": {
           "automargin": true,
           "gridcolor": "white",
           "linecolor": "white",
           "ticks": "",
           "title": {
            "standoff": 15
           },
           "zerolinecolor": "white",
           "zerolinewidth": 2
          }
         }
        },
        "title": {
<<<<<<< HEAD
         "text": "New York",
         "x": 0.5,
         "xanchor": "center",
         "y": 0.9,
         "yanchor": "top"
        },
        "width": 600,
        "xaxis": {
         "autorange": false,
         "range": [
          "2020-03-18 03:39:18.733",
          "2020-04-01 12:47:08.8444"
         ],
         "type": "date"
        },
        "yaxis": {
         "autorange": false,
         "range": [
          -2291.6900663072797,
          18363.660957168242
=======
         "text": "All States",
         "x": 0.7,
         "xanchor": "center",
         "y": 0.92,
         "yanchor": "top"
        },
        "updatemenus": [
         {
          "active": 0,
          "buttons": [
           {
            "args": [
             {
              "visible": [
               true,
               true,
               true,
               true,
               true,
               true,
               true,
               true,
               true,
               true,
               true,
               true,
               true,
               true,
               true,
               true,
               true,
               true,
               true,
               true,
               true,
               true,
               true,
               true,
               true,
               true,
               true,
               true,
               true,
               true,
               true,
               true,
               true,
               true,
               true,
               true,
               true,
               true,
               true,
               true,
               true,
               true,
               true,
               true,
               true,
               true,
               true,
               true,
               true,
               true,
               true,
               true,
               true,
               true,
               true
              ]
             },
             {
              "title": "All States"
             }
            ],
            "label": "All States",
            "method": "update"
           },
           {
            "args": [
             {
              "visible": [
               true,
               false,
               false,
               false,
               false,
               false,
               false,
               false,
               false,
               false,
               false,
               false,
               false,
               false,
               false,
               false,
               false,
               false,
               false,
               false,
               false,
               false,
               false,
               false,
               false,
               false,
               false,
               false,
               false,
               false,
               false,
               false,
               false,
               false,
               false,
               false,
               false,
               false,
               false,
               false,
               false,
               false,
               false,
               false,
               false,
               false,
               false,
               false,
               false,
               false,
               false,
               false,
               false,
               false,
               false
              ]
             },
             {
              "title": "Alabama"
             }
            ],
            "label": "Alabama",
            "method": "update"
           },
           {
            "args": [
             {
              "visible": [
               false,
               true,
               false,
               false,
               false,
               false,
               false,
               false,
               false,
               false,
               false,
               false,
               false,
               false,
               false,
               false,
               false,
               false,
               false,
               false,
               false,
               false,
               false,
               false,
               false,
               false,
               false,
               false,
               false,
               false,
               false,
               false,
               false,
               false,
               false,
               false,
               false,
               false,
               false,
               false,
               false,
               false,
               false,
               false,
               false,
               false,
               false,
               false,
               false,
               false,
               false,
               false,
               false,
               false,
               false
              ]
             },
             {
              "title": "Alaska"
             }
            ],
            "label": "Alaska",
            "method": "update"
           },
           {
            "args": [
             {
              "visible": [
               false,
               false,
               true,
               false,
               false,
               false,
               false,
               false,
               false,
               false,
               false,
               false,
               false,
               false,
               false,
               false,
               false,
               false,
               false,
               false,
               false,
               false,
               false,
               false,
               false,
               false,
               false,
               false,
               false,
               false,
               false,
               false,
               false,
               false,
               false,
               false,
               false,
               false,
               false,
               false,
               false,
               false,
               false,
               false,
               false,
               false,
               false,
               false,
               false,
               false,
               false,
               false,
               false,
               false,
               false
              ]
             },
             {
              "title": "Arizona"
             }
            ],
            "label": "Arizona",
            "method": "update"
           },
           {
            "args": [
             {
              "visible": [
               false,
               false,
               false,
               true,
               false,
               false,
               false,
               false,
               false,
               false,
               false,
               false,
               false,
               false,
               false,
               false,
               false,
               false,
               false,
               false,
               false,
               false,
               false,
               false,
               false,
               false,
               false,
               false,
               false,
               false,
               false,
               false,
               false,
               false,
               false,
               false,
               false,
               false,
               false,
               false,
               false,
               false,
               false,
               false,
               false,
               false,
               false,
               false,
               false,
               false,
               false,
               false,
               false,
               false,
               false
              ]
             },
             {
              "title": "Arkansas"
             }
            ],
            "label": "Arkansas",
            "method": "update"
           },
           {
            "args": [
             {
              "visible": [
               false,
               false,
               false,
               false,
               true,
               false,
               false,
               false,
               false,
               false,
               false,
               false,
               false,
               false,
               false,
               false,
               false,
               false,
               false,
               false,
               false,
               false,
               false,
               false,
               false,
               false,
               false,
               false,
               false,
               false,
               false,
               false,
               false,
               false,
               false,
               false,
               false,
               false,
               false,
               false,
               false,
               false,
               false,
               false,
               false,
               false,
               false,
               false,
               false,
               false,
               false,
               false,
               false,
               false,
               false
              ]
             },
             {
              "title": "California"
             }
            ],
            "label": "California",
            "method": "update"
           },
           {
            "args": [
             {
              "visible": [
               false,
               false,
               false,
               false,
               false,
               true,
               false,
               false,
               false,
               false,
               false,
               false,
               false,
               false,
               false,
               false,
               false,
               false,
               false,
               false,
               false,
               false,
               false,
               false,
               false,
               false,
               false,
               false,
               false,
               false,
               false,
               false,
               false,
               false,
               false,
               false,
               false,
               false,
               false,
               false,
               false,
               false,
               false,
               false,
               false,
               false,
               false,
               false,
               false,
               false,
               false,
               false,
               false,
               false,
               false
              ]
             },
             {
              "title": "Colorado"
             }
            ],
            "label": "Colorado",
            "method": "update"
           },
           {
            "args": [
             {
              "visible": [
               false,
               false,
               false,
               false,
               false,
               false,
               true,
               false,
               false,
               false,
               false,
               false,
               false,
               false,
               false,
               false,
               false,
               false,
               false,
               false,
               false,
               false,
               false,
               false,
               false,
               false,
               false,
               false,
               false,
               false,
               false,
               false,
               false,
               false,
               false,
               false,
               false,
               false,
               false,
               false,
               false,
               false,
               false,
               false,
               false,
               false,
               false,
               false,
               false,
               false,
               false,
               false,
               false,
               false,
               false
              ]
             },
             {
              "title": "Connecticut"
             }
            ],
            "label": "Connecticut",
            "method": "update"
           },
           {
            "args": [
             {
              "visible": [
               false,
               false,
               false,
               false,
               false,
               false,
               false,
               true,
               false,
               false,
               false,
               false,
               false,
               false,
               false,
               false,
               false,
               false,
               false,
               false,
               false,
               false,
               false,
               false,
               false,
               false,
               false,
               false,
               false,
               false,
               false,
               false,
               false,
               false,
               false,
               false,
               false,
               false,
               false,
               false,
               false,
               false,
               false,
               false,
               false,
               false,
               false,
               false,
               false,
               false,
               false,
               false,
               false,
               false,
               false
              ]
             },
             {
              "title": "Delaware"
             }
            ],
            "label": "Delaware",
            "method": "update"
           },
           {
            "args": [
             {
              "visible": [
               false,
               false,
               false,
               false,
               false,
               false,
               false,
               false,
               true,
               false,
               false,
               false,
               false,
               false,
               false,
               false,
               false,
               false,
               false,
               false,
               false,
               false,
               false,
               false,
               false,
               false,
               false,
               false,
               false,
               false,
               false,
               false,
               false,
               false,
               false,
               false,
               false,
               false,
               false,
               false,
               false,
               false,
               false,
               false,
               false,
               false,
               false,
               false,
               false,
               false,
               false,
               false,
               false,
               false,
               false
              ]
             },
             {
              "title": "District of Columbia"
             }
            ],
            "label": "District of Columbia",
            "method": "update"
           },
           {
            "args": [
             {
              "visible": [
               false,
               false,
               false,
               false,
               false,
               false,
               false,
               false,
               false,
               true,
               false,
               false,
               false,
               false,
               false,
               false,
               false,
               false,
               false,
               false,
               false,
               false,
               false,
               false,
               false,
               false,
               false,
               false,
               false,
               false,
               false,
               false,
               false,
               false,
               false,
               false,
               false,
               false,
               false,
               false,
               false,
               false,
               false,
               false,
               false,
               false,
               false,
               false,
               false,
               false,
               false,
               false,
               false,
               false,
               false
              ]
             },
             {
              "title": "Florida"
             }
            ],
            "label": "Florida",
            "method": "update"
           },
           {
            "args": [
             {
              "visible": [
               false,
               false,
               false,
               false,
               false,
               false,
               false,
               false,
               false,
               false,
               true,
               false,
               false,
               false,
               false,
               false,
               false,
               false,
               false,
               false,
               false,
               false,
               false,
               false,
               false,
               false,
               false,
               false,
               false,
               false,
               false,
               false,
               false,
               false,
               false,
               false,
               false,
               false,
               false,
               false,
               false,
               false,
               false,
               false,
               false,
               false,
               false,
               false,
               false,
               false,
               false,
               false,
               false,
               false,
               false
              ]
             },
             {
              "title": "Georgia"
             }
            ],
            "label": "Georgia",
            "method": "update"
           },
           {
            "args": [
             {
              "visible": [
               false,
               false,
               false,
               false,
               false,
               false,
               false,
               false,
               false,
               false,
               false,
               true,
               false,
               false,
               false,
               false,
               false,
               false,
               false,
               false,
               false,
               false,
               false,
               false,
               false,
               false,
               false,
               false,
               false,
               false,
               false,
               false,
               false,
               false,
               false,
               false,
               false,
               false,
               false,
               false,
               false,
               false,
               false,
               false,
               false,
               false,
               false,
               false,
               false,
               false,
               false,
               false,
               false,
               false,
               false
              ]
             },
             {
              "title": "Guam"
             }
            ],
            "label": "Guam",
            "method": "update"
           },
           {
            "args": [
             {
              "visible": [
               false,
               false,
               false,
               false,
               false,
               false,
               false,
               false,
               false,
               false,
               false,
               false,
               true,
               false,
               false,
               false,
               false,
               false,
               false,
               false,
               false,
               false,
               false,
               false,
               false,
               false,
               false,
               false,
               false,
               false,
               false,
               false,
               false,
               false,
               false,
               false,
               false,
               false,
               false,
               false,
               false,
               false,
               false,
               false,
               false,
               false,
               false,
               false,
               false,
               false,
               false,
               false,
               false,
               false,
               false
              ]
             },
             {
              "title": "Hawaii"
             }
            ],
            "label": "Hawaii",
            "method": "update"
           },
           {
            "args": [
             {
              "visible": [
               false,
               false,
               false,
               false,
               false,
               false,
               false,
               false,
               false,
               false,
               false,
               false,
               false,
               true,
               false,
               false,
               false,
               false,
               false,
               false,
               false,
               false,
               false,
               false,
               false,
               false,
               false,
               false,
               false,
               false,
               false,
               false,
               false,
               false,
               false,
               false,
               false,
               false,
               false,
               false,
               false,
               false,
               false,
               false,
               false,
               false,
               false,
               false,
               false,
               false,
               false,
               false,
               false,
               false,
               false
              ]
             },
             {
              "title": "Idaho"
             }
            ],
            "label": "Idaho",
            "method": "update"
           },
           {
            "args": [
             {
              "visible": [
               false,
               false,
               false,
               false,
               false,
               false,
               false,
               false,
               false,
               false,
               false,
               false,
               false,
               false,
               true,
               false,
               false,
               false,
               false,
               false,
               false,
               false,
               false,
               false,
               false,
               false,
               false,
               false,
               false,
               false,
               false,
               false,
               false,
               false,
               false,
               false,
               false,
               false,
               false,
               false,
               false,
               false,
               false,
               false,
               false,
               false,
               false,
               false,
               false,
               false,
               false,
               false,
               false,
               false,
               false
              ]
             },
             {
              "title": "Illinois"
             }
            ],
            "label": "Illinois",
            "method": "update"
           },
           {
            "args": [
             {
              "visible": [
               false,
               false,
               false,
               false,
               false,
               false,
               false,
               false,
               false,
               false,
               false,
               false,
               false,
               false,
               false,
               true,
               false,
               false,
               false,
               false,
               false,
               false,
               false,
               false,
               false,
               false,
               false,
               false,
               false,
               false,
               false,
               false,
               false,
               false,
               false,
               false,
               false,
               false,
               false,
               false,
               false,
               false,
               false,
               false,
               false,
               false,
               false,
               false,
               false,
               false,
               false,
               false,
               false,
               false,
               false
              ]
             },
             {
              "title": "Indiana"
             }
            ],
            "label": "Indiana",
            "method": "update"
           },
           {
            "args": [
             {
              "visible": [
               false,
               false,
               false,
               false,
               false,
               false,
               false,
               false,
               false,
               false,
               false,
               false,
               false,
               false,
               false,
               false,
               true,
               false,
               false,
               false,
               false,
               false,
               false,
               false,
               false,
               false,
               false,
               false,
               false,
               false,
               false,
               false,
               false,
               false,
               false,
               false,
               false,
               false,
               false,
               false,
               false,
               false,
               false,
               false,
               false,
               false,
               false,
               false,
               false,
               false,
               false,
               false,
               false,
               false,
               false
              ]
             },
             {
              "title": "Iowa"
             }
            ],
            "label": "Iowa",
            "method": "update"
           },
           {
            "args": [
             {
              "visible": [
               false,
               false,
               false,
               false,
               false,
               false,
               false,
               false,
               false,
               false,
               false,
               false,
               false,
               false,
               false,
               false,
               false,
               true,
               false,
               false,
               false,
               false,
               false,
               false,
               false,
               false,
               false,
               false,
               false,
               false,
               false,
               false,
               false,
               false,
               false,
               false,
               false,
               false,
               false,
               false,
               false,
               false,
               false,
               false,
               false,
               false,
               false,
               false,
               false,
               false,
               false,
               false,
               false,
               false,
               false
              ]
             },
             {
              "title": "Kansas"
             }
            ],
            "label": "Kansas",
            "method": "update"
           },
           {
            "args": [
             {
              "visible": [
               false,
               false,
               false,
               false,
               false,
               false,
               false,
               false,
               false,
               false,
               false,
               false,
               false,
               false,
               false,
               false,
               false,
               false,
               true,
               false,
               false,
               false,
               false,
               false,
               false,
               false,
               false,
               false,
               false,
               false,
               false,
               false,
               false,
               false,
               false,
               false,
               false,
               false,
               false,
               false,
               false,
               false,
               false,
               false,
               false,
               false,
               false,
               false,
               false,
               false,
               false,
               false,
               false,
               false,
               false
              ]
             },
             {
              "title": "Kentucky"
             }
            ],
            "label": "Kentucky",
            "method": "update"
           },
           {
            "args": [
             {
              "visible": [
               false,
               false,
               false,
               false,
               false,
               false,
               false,
               false,
               false,
               false,
               false,
               false,
               false,
               false,
               false,
               false,
               false,
               false,
               false,
               true,
               false,
               false,
               false,
               false,
               false,
               false,
               false,
               false,
               false,
               false,
               false,
               false,
               false,
               false,
               false,
               false,
               false,
               false,
               false,
               false,
               false,
               false,
               false,
               false,
               false,
               false,
               false,
               false,
               false,
               false,
               false,
               false,
               false,
               false,
               false
              ]
             },
             {
              "title": "Louisiana"
             }
            ],
            "label": "Louisiana",
            "method": "update"
           },
           {
            "args": [
             {
              "visible": [
               false,
               false,
               false,
               false,
               false,
               false,
               false,
               false,
               false,
               false,
               false,
               false,
               false,
               false,
               false,
               false,
               false,
               false,
               false,
               false,
               true,
               false,
               false,
               false,
               false,
               false,
               false,
               false,
               false,
               false,
               false,
               false,
               false,
               false,
               false,
               false,
               false,
               false,
               false,
               false,
               false,
               false,
               false,
               false,
               false,
               false,
               false,
               false,
               false,
               false,
               false,
               false,
               false,
               false,
               false
              ]
             },
             {
              "title": "Maine"
             }
            ],
            "label": "Maine",
            "method": "update"
           },
           {
            "args": [
             {
              "visible": [
               false,
               false,
               false,
               false,
               false,
               false,
               false,
               false,
               false,
               false,
               false,
               false,
               false,
               false,
               false,
               false,
               false,
               false,
               false,
               false,
               false,
               true,
               false,
               false,
               false,
               false,
               false,
               false,
               false,
               false,
               false,
               false,
               false,
               false,
               false,
               false,
               false,
               false,
               false,
               false,
               false,
               false,
               false,
               false,
               false,
               false,
               false,
               false,
               false,
               false,
               false,
               false,
               false,
               false,
               false
              ]
             },
             {
              "title": "Maryland"
             }
            ],
            "label": "Maryland",
            "method": "update"
           },
           {
            "args": [
             {
              "visible": [
               false,
               false,
               false,
               false,
               false,
               false,
               false,
               false,
               false,
               false,
               false,
               false,
               false,
               false,
               false,
               false,
               false,
               false,
               false,
               false,
               false,
               false,
               true,
               false,
               false,
               false,
               false,
               false,
               false,
               false,
               false,
               false,
               false,
               false,
               false,
               false,
               false,
               false,
               false,
               false,
               false,
               false,
               false,
               false,
               false,
               false,
               false,
               false,
               false,
               false,
               false,
               false,
               false,
               false,
               false
              ]
             },
             {
              "title": "Massachusetts"
             }
            ],
            "label": "Massachusetts",
            "method": "update"
           },
           {
            "args": [
             {
              "visible": [
               false,
               false,
               false,
               false,
               false,
               false,
               false,
               false,
               false,
               false,
               false,
               false,
               false,
               false,
               false,
               false,
               false,
               false,
               false,
               false,
               false,
               false,
               false,
               true,
               false,
               false,
               false,
               false,
               false,
               false,
               false,
               false,
               false,
               false,
               false,
               false,
               false,
               false,
               false,
               false,
               false,
               false,
               false,
               false,
               false,
               false,
               false,
               false,
               false,
               false,
               false,
               false,
               false,
               false,
               false
              ]
             },
             {
              "title": "Michigan"
             }
            ],
            "label": "Michigan",
            "method": "update"
           },
           {
            "args": [
             {
              "visible": [
               false,
               false,
               false,
               false,
               false,
               false,
               false,
               false,
               false,
               false,
               false,
               false,
               false,
               false,
               false,
               false,
               false,
               false,
               false,
               false,
               false,
               false,
               false,
               false,
               true,
               false,
               false,
               false,
               false,
               false,
               false,
               false,
               false,
               false,
               false,
               false,
               false,
               false,
               false,
               false,
               false,
               false,
               false,
               false,
               false,
               false,
               false,
               false,
               false,
               false,
               false,
               false,
               false,
               false,
               false
              ]
             },
             {
              "title": "Minnesota"
             }
            ],
            "label": "Minnesota",
            "method": "update"
           },
           {
            "args": [
             {
              "visible": [
               false,
               false,
               false,
               false,
               false,
               false,
               false,
               false,
               false,
               false,
               false,
               false,
               false,
               false,
               false,
               false,
               false,
               false,
               false,
               false,
               false,
               false,
               false,
               false,
               false,
               true,
               false,
               false,
               false,
               false,
               false,
               false,
               false,
               false,
               false,
               false,
               false,
               false,
               false,
               false,
               false,
               false,
               false,
               false,
               false,
               false,
               false,
               false,
               false,
               false,
               false,
               false,
               false,
               false,
               false
              ]
             },
             {
              "title": "Mississippi"
             }
            ],
            "label": "Mississippi",
            "method": "update"
           },
           {
            "args": [
             {
              "visible": [
               false,
               false,
               false,
               false,
               false,
               false,
               false,
               false,
               false,
               false,
               false,
               false,
               false,
               false,
               false,
               false,
               false,
               false,
               false,
               false,
               false,
               false,
               false,
               false,
               false,
               false,
               true,
               false,
               false,
               false,
               false,
               false,
               false,
               false,
               false,
               false,
               false,
               false,
               false,
               false,
               false,
               false,
               false,
               false,
               false,
               false,
               false,
               false,
               false,
               false,
               false,
               false,
               false,
               false,
               false
              ]
             },
             {
              "title": "Missouri"
             }
            ],
            "label": "Missouri",
            "method": "update"
           },
           {
            "args": [
             {
              "visible": [
               false,
               false,
               false,
               false,
               false,
               false,
               false,
               false,
               false,
               false,
               false,
               false,
               false,
               false,
               false,
               false,
               false,
               false,
               false,
               false,
               false,
               false,
               false,
               false,
               false,
               false,
               false,
               true,
               false,
               false,
               false,
               false,
               false,
               false,
               false,
               false,
               false,
               false,
               false,
               false,
               false,
               false,
               false,
               false,
               false,
               false,
               false,
               false,
               false,
               false,
               false,
               false,
               false,
               false,
               false
              ]
             },
             {
              "title": "Montana"
             }
            ],
            "label": "Montana",
            "method": "update"
           },
           {
            "args": [
             {
              "visible": [
               false,
               false,
               false,
               false,
               false,
               false,
               false,
               false,
               false,
               false,
               false,
               false,
               false,
               false,
               false,
               false,
               false,
               false,
               false,
               false,
               false,
               false,
               false,
               false,
               false,
               false,
               false,
               false,
               true,
               false,
               false,
               false,
               false,
               false,
               false,
               false,
               false,
               false,
               false,
               false,
               false,
               false,
               false,
               false,
               false,
               false,
               false,
               false,
               false,
               false,
               false,
               false,
               false,
               false,
               false
              ]
             },
             {
              "title": "Nebraska"
             }
            ],
            "label": "Nebraska",
            "method": "update"
           },
           {
            "args": [
             {
              "visible": [
               false,
               false,
               false,
               false,
               false,
               false,
               false,
               false,
               false,
               false,
               false,
               false,
               false,
               false,
               false,
               false,
               false,
               false,
               false,
               false,
               false,
               false,
               false,
               false,
               false,
               false,
               false,
               false,
               false,
               true,
               false,
               false,
               false,
               false,
               false,
               false,
               false,
               false,
               false,
               false,
               false,
               false,
               false,
               false,
               false,
               false,
               false,
               false,
               false,
               false,
               false,
               false,
               false,
               false,
               false
              ]
             },
             {
              "title": "Nevada"
             }
            ],
            "label": "Nevada",
            "method": "update"
           },
           {
            "args": [
             {
              "visible": [
               false,
               false,
               false,
               false,
               false,
               false,
               false,
               false,
               false,
               false,
               false,
               false,
               false,
               false,
               false,
               false,
               false,
               false,
               false,
               false,
               false,
               false,
               false,
               false,
               false,
               false,
               false,
               false,
               false,
               false,
               true,
               false,
               false,
               false,
               false,
               false,
               false,
               false,
               false,
               false,
               false,
               false,
               false,
               false,
               false,
               false,
               false,
               false,
               false,
               false,
               false,
               false,
               false,
               false,
               false
              ]
             },
             {
              "title": "New Hampshire"
             }
            ],
            "label": "New Hampshire",
            "method": "update"
           },
           {
            "args": [
             {
              "visible": [
               false,
               false,
               false,
               false,
               false,
               false,
               false,
               false,
               false,
               false,
               false,
               false,
               false,
               false,
               false,
               false,
               false,
               false,
               false,
               false,
               false,
               false,
               false,
               false,
               false,
               false,
               false,
               false,
               false,
               false,
               false,
               true,
               false,
               false,
               false,
               false,
               false,
               false,
               false,
               false,
               false,
               false,
               false,
               false,
               false,
               false,
               false,
               false,
               false,
               false,
               false,
               false,
               false,
               false,
               false
              ]
             },
             {
              "title": "New Jersey"
             }
            ],
            "label": "New Jersey",
            "method": "update"
           },
           {
            "args": [
             {
              "visible": [
               false,
               false,
               false,
               false,
               false,
               false,
               false,
               false,
               false,
               false,
               false,
               false,
               false,
               false,
               false,
               false,
               false,
               false,
               false,
               false,
               false,
               false,
               false,
               false,
               false,
               false,
               false,
               false,
               false,
               false,
               false,
               false,
               true,
               false,
               false,
               false,
               false,
               false,
               false,
               false,
               false,
               false,
               false,
               false,
               false,
               false,
               false,
               false,
               false,
               false,
               false,
               false,
               false,
               false,
               false
              ]
             },
             {
              "title": "New Mexico"
             }
            ],
            "label": "New Mexico",
            "method": "update"
           },
           {
            "args": [
             {
              "visible": [
               false,
               false,
               false,
               false,
               false,
               false,
               false,
               false,
               false,
               false,
               false,
               false,
               false,
               false,
               false,
               false,
               false,
               false,
               false,
               false,
               false,
               false,
               false,
               false,
               false,
               false,
               false,
               false,
               false,
               false,
               false,
               false,
               false,
               true,
               false,
               false,
               false,
               false,
               false,
               false,
               false,
               false,
               false,
               false,
               false,
               false,
               false,
               false,
               false,
               false,
               false,
               false,
               false,
               false,
               false
              ]
             },
             {
              "title": "New York"
             }
            ],
            "label": "New York",
            "method": "update"
           },
           {
            "args": [
             {
              "visible": [
               false,
               false,
               false,
               false,
               false,
               false,
               false,
               false,
               false,
               false,
               false,
               false,
               false,
               false,
               false,
               false,
               false,
               false,
               false,
               false,
               false,
               false,
               false,
               false,
               false,
               false,
               false,
               false,
               false,
               false,
               false,
               false,
               false,
               false,
               true,
               false,
               false,
               false,
               false,
               false,
               false,
               false,
               false,
               false,
               false,
               false,
               false,
               false,
               false,
               false,
               false,
               false,
               false,
               false,
               false
              ]
             },
             {
              "title": "North Carolina"
             }
            ],
            "label": "North Carolina",
            "method": "update"
           },
           {
            "args": [
             {
              "visible": [
               false,
               false,
               false,
               false,
               false,
               false,
               false,
               false,
               false,
               false,
               false,
               false,
               false,
               false,
               false,
               false,
               false,
               false,
               false,
               false,
               false,
               false,
               false,
               false,
               false,
               false,
               false,
               false,
               false,
               false,
               false,
               false,
               false,
               false,
               false,
               true,
               false,
               false,
               false,
               false,
               false,
               false,
               false,
               false,
               false,
               false,
               false,
               false,
               false,
               false,
               false,
               false,
               false,
               false,
               false
              ]
             },
             {
              "title": "North Dakota"
             }
            ],
            "label": "North Dakota",
            "method": "update"
           },
           {
            "args": [
             {
              "visible": [
               false,
               false,
               false,
               false,
               false,
               false,
               false,
               false,
               false,
               false,
               false,
               false,
               false,
               false,
               false,
               false,
               false,
               false,
               false,
               false,
               false,
               false,
               false,
               false,
               false,
               false,
               false,
               false,
               false,
               false,
               false,
               false,
               false,
               false,
               false,
               false,
               true,
               false,
               false,
               false,
               false,
               false,
               false,
               false,
               false,
               false,
               false,
               false,
               false,
               false,
               false,
               false,
               false,
               false,
               false
              ]
             },
             {
              "title": "Northern Mariana Islands"
             }
            ],
            "label": "Northern Mariana Islands",
            "method": "update"
           },
           {
            "args": [
             {
              "visible": [
               false,
               false,
               false,
               false,
               false,
               false,
               false,
               false,
               false,
               false,
               false,
               false,
               false,
               false,
               false,
               false,
               false,
               false,
               false,
               false,
               false,
               false,
               false,
               false,
               false,
               false,
               false,
               false,
               false,
               false,
               false,
               false,
               false,
               false,
               false,
               false,
               false,
               true,
               false,
               false,
               false,
               false,
               false,
               false,
               false,
               false,
               false,
               false,
               false,
               false,
               false,
               false,
               false,
               false,
               false
              ]
             },
             {
              "title": "Ohio"
             }
            ],
            "label": "Ohio",
            "method": "update"
           },
           {
            "args": [
             {
              "visible": [
               false,
               false,
               false,
               false,
               false,
               false,
               false,
               false,
               false,
               false,
               false,
               false,
               false,
               false,
               false,
               false,
               false,
               false,
               false,
               false,
               false,
               false,
               false,
               false,
               false,
               false,
               false,
               false,
               false,
               false,
               false,
               false,
               false,
               false,
               false,
               false,
               false,
               false,
               true,
               false,
               false,
               false,
               false,
               false,
               false,
               false,
               false,
               false,
               false,
               false,
               false,
               false,
               false,
               false,
               false
              ]
             },
             {
              "title": "Oklahoma"
             }
            ],
            "label": "Oklahoma",
            "method": "update"
           },
           {
            "args": [
             {
              "visible": [
               false,
               false,
               false,
               false,
               false,
               false,
               false,
               false,
               false,
               false,
               false,
               false,
               false,
               false,
               false,
               false,
               false,
               false,
               false,
               false,
               false,
               false,
               false,
               false,
               false,
               false,
               false,
               false,
               false,
               false,
               false,
               false,
               false,
               false,
               false,
               false,
               false,
               false,
               false,
               true,
               false,
               false,
               false,
               false,
               false,
               false,
               false,
               false,
               false,
               false,
               false,
               false,
               false,
               false,
               false
              ]
             },
             {
              "title": "Oregon"
             }
            ],
            "label": "Oregon",
            "method": "update"
           },
           {
            "args": [
             {
              "visible": [
               false,
               false,
               false,
               false,
               false,
               false,
               false,
               false,
               false,
               false,
               false,
               false,
               false,
               false,
               false,
               false,
               false,
               false,
               false,
               false,
               false,
               false,
               false,
               false,
               false,
               false,
               false,
               false,
               false,
               false,
               false,
               false,
               false,
               false,
               false,
               false,
               false,
               false,
               false,
               false,
               true,
               false,
               false,
               false,
               false,
               false,
               false,
               false,
               false,
               false,
               false,
               false,
               false,
               false,
               false
              ]
             },
             {
              "title": "Pennsylvania"
             }
            ],
            "label": "Pennsylvania",
            "method": "update"
           },
           {
            "args": [
             {
              "visible": [
               false,
               false,
               false,
               false,
               false,
               false,
               false,
               false,
               false,
               false,
               false,
               false,
               false,
               false,
               false,
               false,
               false,
               false,
               false,
               false,
               false,
               false,
               false,
               false,
               false,
               false,
               false,
               false,
               false,
               false,
               false,
               false,
               false,
               false,
               false,
               false,
               false,
               false,
               false,
               false,
               false,
               true,
               false,
               false,
               false,
               false,
               false,
               false,
               false,
               false,
               false,
               false,
               false,
               false,
               false
              ]
             },
             {
              "title": "Puerto Rico"
             }
            ],
            "label": "Puerto Rico",
            "method": "update"
           },
           {
            "args": [
             {
              "visible": [
               false,
               false,
               false,
               false,
               false,
               false,
               false,
               false,
               false,
               false,
               false,
               false,
               false,
               false,
               false,
               false,
               false,
               false,
               false,
               false,
               false,
               false,
               false,
               false,
               false,
               false,
               false,
               false,
               false,
               false,
               false,
               false,
               false,
               false,
               false,
               false,
               false,
               false,
               false,
               false,
               false,
               false,
               true,
               false,
               false,
               false,
               false,
               false,
               false,
               false,
               false,
               false,
               false,
               false,
               false
              ]
             },
             {
              "title": "Rhode Island"
             }
            ],
            "label": "Rhode Island",
            "method": "update"
           },
           {
            "args": [
             {
              "visible": [
               false,
               false,
               false,
               false,
               false,
               false,
               false,
               false,
               false,
               false,
               false,
               false,
               false,
               false,
               false,
               false,
               false,
               false,
               false,
               false,
               false,
               false,
               false,
               false,
               false,
               false,
               false,
               false,
               false,
               false,
               false,
               false,
               false,
               false,
               false,
               false,
               false,
               false,
               false,
               false,
               false,
               false,
               false,
               true,
               false,
               false,
               false,
               false,
               false,
               false,
               false,
               false,
               false,
               false,
               false
              ]
             },
             {
              "title": "South Carolina"
             }
            ],
            "label": "South Carolina",
            "method": "update"
           },
           {
            "args": [
             {
              "visible": [
               false,
               false,
               false,
               false,
               false,
               false,
               false,
               false,
               false,
               false,
               false,
               false,
               false,
               false,
               false,
               false,
               false,
               false,
               false,
               false,
               false,
               false,
               false,
               false,
               false,
               false,
               false,
               false,
               false,
               false,
               false,
               false,
               false,
               false,
               false,
               false,
               false,
               false,
               false,
               false,
               false,
               false,
               false,
               false,
               true,
               false,
               false,
               false,
               false,
               false,
               false,
               false,
               false,
               false,
               false
              ]
             },
             {
              "title": "South Dakota"
             }
            ],
            "label": "South Dakota",
            "method": "update"
           },
           {
            "args": [
             {
              "visible": [
               false,
               false,
               false,
               false,
               false,
               false,
               false,
               false,
               false,
               false,
               false,
               false,
               false,
               false,
               false,
               false,
               false,
               false,
               false,
               false,
               false,
               false,
               false,
               false,
               false,
               false,
               false,
               false,
               false,
               false,
               false,
               false,
               false,
               false,
               false,
               false,
               false,
               false,
               false,
               false,
               false,
               false,
               false,
               false,
               false,
               true,
               false,
               false,
               false,
               false,
               false,
               false,
               false,
               false,
               false
              ]
             },
             {
              "title": "Tennessee"
             }
            ],
            "label": "Tennessee",
            "method": "update"
           },
           {
            "args": [
             {
              "visible": [
               false,
               false,
               false,
               false,
               false,
               false,
               false,
               false,
               false,
               false,
               false,
               false,
               false,
               false,
               false,
               false,
               false,
               false,
               false,
               false,
               false,
               false,
               false,
               false,
               false,
               false,
               false,
               false,
               false,
               false,
               false,
               false,
               false,
               false,
               false,
               false,
               false,
               false,
               false,
               false,
               false,
               false,
               false,
               false,
               false,
               false,
               true,
               false,
               false,
               false,
               false,
               false,
               false,
               false,
               false
              ]
             },
             {
              "title": "Texas"
             }
            ],
            "label": "Texas",
            "method": "update"
           },
           {
            "args": [
             {
              "visible": [
               false,
               false,
               false,
               false,
               false,
               false,
               false,
               false,
               false,
               false,
               false,
               false,
               false,
               false,
               false,
               false,
               false,
               false,
               false,
               false,
               false,
               false,
               false,
               false,
               false,
               false,
               false,
               false,
               false,
               false,
               false,
               false,
               false,
               false,
               false,
               false,
               false,
               false,
               false,
               false,
               false,
               false,
               false,
               false,
               false,
               false,
               false,
               true,
               false,
               false,
               false,
               false,
               false,
               false,
               false
              ]
             },
             {
              "title": "Utah"
             }
            ],
            "label": "Utah",
            "method": "update"
           },
           {
            "args": [
             {
              "visible": [
               false,
               false,
               false,
               false,
               false,
               false,
               false,
               false,
               false,
               false,
               false,
               false,
               false,
               false,
               false,
               false,
               false,
               false,
               false,
               false,
               false,
               false,
               false,
               false,
               false,
               false,
               false,
               false,
               false,
               false,
               false,
               false,
               false,
               false,
               false,
               false,
               false,
               false,
               false,
               false,
               false,
               false,
               false,
               false,
               false,
               false,
               false,
               false,
               true,
               false,
               false,
               false,
               false,
               false,
               false
              ]
             },
             {
              "title": "Vermont"
             }
            ],
            "label": "Vermont",
            "method": "update"
           },
           {
            "args": [
             {
              "visible": [
               false,
               false,
               false,
               false,
               false,
               false,
               false,
               false,
               false,
               false,
               false,
               false,
               false,
               false,
               false,
               false,
               false,
               false,
               false,
               false,
               false,
               false,
               false,
               false,
               false,
               false,
               false,
               false,
               false,
               false,
               false,
               false,
               false,
               false,
               false,
               false,
               false,
               false,
               false,
               false,
               false,
               false,
               false,
               false,
               false,
               false,
               false,
               false,
               false,
               true,
               false,
               false,
               false,
               false,
               false
              ]
             },
             {
              "title": "Virgin Islands"
             }
            ],
            "label": "Virgin Islands",
            "method": "update"
           },
           {
            "args": [
             {
              "visible": [
               false,
               false,
               false,
               false,
               false,
               false,
               false,
               false,
               false,
               false,
               false,
               false,
               false,
               false,
               false,
               false,
               false,
               false,
               false,
               false,
               false,
               false,
               false,
               false,
               false,
               false,
               false,
               false,
               false,
               false,
               false,
               false,
               false,
               false,
               false,
               false,
               false,
               false,
               false,
               false,
               false,
               false,
               false,
               false,
               false,
               false,
               false,
               false,
               false,
               false,
               true,
               false,
               false,
               false,
               false
              ]
             },
             {
              "title": "Virginia"
             }
            ],
            "label": "Virginia",
            "method": "update"
           },
           {
            "args": [
             {
              "visible": [
               false,
               false,
               false,
               false,
               false,
               false,
               false,
               false,
               false,
               false,
               false,
               false,
               false,
               false,
               false,
               false,
               false,
               false,
               false,
               false,
               false,
               false,
               false,
               false,
               false,
               false,
               false,
               false,
               false,
               false,
               false,
               false,
               false,
               false,
               false,
               false,
               false,
               false,
               false,
               false,
               false,
               false,
               false,
               false,
               false,
               false,
               false,
               false,
               false,
               false,
               false,
               true,
               false,
               false,
               false
              ]
             },
             {
              "title": "Washington"
             }
            ],
            "label": "Washington",
            "method": "update"
           },
           {
            "args": [
             {
              "visible": [
               false,
               false,
               false,
               false,
               false,
               false,
               false,
               false,
               false,
               false,
               false,
               false,
               false,
               false,
               false,
               false,
               false,
               false,
               false,
               false,
               false,
               false,
               false,
               false,
               false,
               false,
               false,
               false,
               false,
               false,
               false,
               false,
               false,
               false,
               false,
               false,
               false,
               false,
               false,
               false,
               false,
               false,
               false,
               false,
               false,
               false,
               false,
               false,
               false,
               false,
               false,
               false,
               true,
               false,
               false
              ]
             },
             {
              "title": "West Virginia"
             }
            ],
            "label": "West Virginia",
            "method": "update"
           },
           {
            "args": [
             {
              "visible": [
               false,
               false,
               false,
               false,
               false,
               false,
               false,
               false,
               false,
               false,
               false,
               false,
               false,
               false,
               false,
               false,
               false,
               false,
               false,
               false,
               false,
               false,
               false,
               false,
               false,
               false,
               false,
               false,
               false,
               false,
               false,
               false,
               false,
               false,
               false,
               false,
               false,
               false,
               false,
               false,
               false,
               false,
               false,
               false,
               false,
               false,
               false,
               false,
               false,
               false,
               false,
               false,
               false,
               true,
               false
              ]
             },
             {
              "title": "Wisconsin"
             }
            ],
            "label": "Wisconsin",
            "method": "update"
           },
           {
            "args": [
             {
              "visible": [
               false,
               false,
               false,
               false,
               false,
               false,
               false,
               false,
               false,
               false,
               false,
               false,
               false,
               false,
               false,
               false,
               false,
               false,
               false,
               false,
               false,
               false,
               false,
               false,
               false,
               false,
               false,
               false,
               false,
               false,
               false,
               false,
               false,
               false,
               false,
               false,
               false,
               false,
               false,
               false,
               false,
               false,
               false,
               false,
               false,
               false,
               false,
               false,
               false,
               false,
               false,
               false,
               false,
               false,
               true
              ]
             },
             {
              "title": "Wyoming"
             }
            ],
            "label": "Wyoming",
            "method": "update"
           }
          ],
          "x": 0.24,
          "y": 1.09
         },
         {
          "buttons": [
           {
            "args": [
             {
              "yaxis": {
               "type": "linear"
              }
             }
            ],
            "label": "Linear",
            "method": "relayout"
           },
           {
            "args": [
             {
              "yaxis": {
               "type": "log"
              }
             }
            ],
            "label": "Log",
            "method": "relayout"
           }
          ],
          "x": 0.55,
          "y": 1.09
         }
        ],
        "width": 1000,
        "xaxis": {
         "range": [
          "2020-03-01T00:00:00",
          "2020-03-31T00:00:00"
         ],
         "rangeslider": {
          "autorange": true,
          "range": [
           "2020-01-21",
           "2020-04-04 02:48:28.9827"
          ],
          "thickness": 0.05,
          "visible": true,
          "yaxis": {
           "_template": null,
           "rangemode": "match"
          }
         },
         "type": "date"
        },
        "yaxis": {
         "autorange": true,
         "range": [
          -4831.943600867679,
          80077.47071583514
>>>>>>> temp-branch
         ],
         "type": "linear"
        }
       }
      },
<<<<<<< HEAD
      "image/png": "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",
=======
      "image/png": "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",
>>>>>>> temp-branch
      "text/html": [
       "<div>\n",
       "        \n",
       "        \n",
<<<<<<< HEAD
       "            <div id=\"fe5a4fde-fb0f-4651-ba8c-58517738101e\" class=\"plotly-graph-div\" style=\"height:600px; width:600px;\"></div>\n",
=======
       "            <div id=\"9e14a512-e891-4f43-9910-921840acce98\" class=\"plotly-graph-div\" style=\"height:800px; width:1000px;\"></div>\n",
>>>>>>> temp-branch
       "            <script type=\"text/javascript\">\n",
       "                require([\"plotly\"], function(Plotly) {\n",
       "                    window.PLOTLYENV=window.PLOTLYENV || {};\n",
       "                    \n",
<<<<<<< HEAD
       "                if (document.getElementById(\"fe5a4fde-fb0f-4651-ba8c-58517738101e\")) {\n",
       "                    Plotly.newPlot(\n",
       "                        'fe5a4fde-fb0f-4651-ba8c-58517738101e',\n",
       "                        [{\"name\": \"Alabama\", \"type\": \"scatter\", \"x\": [\"2020-03-13\", \"2020-03-14\", \"2020-03-15\", \"2020-03-16\", \"2020-03-17\", \"2020-03-18\", \"2020-03-19\", \"2020-03-20\", \"2020-03-21\", \"2020-03-22\", \"2020-03-23\", \"2020-03-24\", \"2020-03-25\", \"2020-03-26\", \"2020-03-27\", \"2020-03-28\", \"2020-03-29\", \"2020-03-30\"], \"y\": [6, 12, 23, 29, 39, 51, 78, 106, 131, 157, 196, 242, 386, 538, 639, 720, 830, 947]}, {\"name\": \"Alaska\", \"type\": \"scatter\", \"x\": [\"2020-03-12\", \"2020-03-13\", \"2020-03-14\", \"2020-03-15\", \"2020-03-16\", \"2020-03-17\", \"2020-03-18\", \"2020-03-19\", \"2020-03-20\", \"2020-03-21\", \"2020-03-22\", \"2020-03-23\", \"2020-03-24\", \"2020-03-25\", \"2020-03-26\", \"2020-03-27\", \"2020-03-28\", \"2020-03-29\", \"2020-03-30\"], \"y\": [1, 1, 1, 1, 3, 6, 9, 12, 14, 21, 22, 36, 42, 59, 69, 85, 102, 114, 120]}, {\"name\": \"Arizona\", \"type\": \"scatter\", \"x\": [\"2020-01-26\", \"2020-01-27\", \"2020-01-28\", \"2020-01-29\", \"2020-01-30\", \"2020-01-31\", \"2020-02-01\", \"2020-02-02\", \"2020-02-03\", \"2020-02-04\", \"2020-02-05\", \"2020-02-06\", \"2020-02-07\", \"2020-02-08\", \"2020-02-09\", \"2020-02-10\", \"2020-02-11\", \"2020-02-12\", \"2020-02-13\", \"2020-02-14\", \"2020-02-15\", \"2020-02-16\", \"2020-02-17\", \"2020-02-18\", \"2020-02-19\", \"2020-02-20\", \"2020-02-21\", \"2020-02-22\", \"2020-02-23\", \"2020-02-24\", \"2020-02-25\", \"2020-02-26\", \"2020-02-27\", \"2020-02-28\", \"2020-02-29\", \"2020-03-01\", \"2020-03-02\", \"2020-03-03\", \"2020-03-04\", \"2020-03-05\", \"2020-03-06\", \"2020-03-07\", \"2020-03-08\", \"2020-03-09\", \"2020-03-10\", \"2020-03-11\", \"2020-03-12\", \"2020-03-13\", \"2020-03-14\", \"2020-03-15\", \"2020-03-16\", \"2020-03-17\", \"2020-03-18\", \"2020-03-19\", \"2020-03-20\", \"2020-03-21\", \"2020-03-22\", \"2020-03-23\", \"2020-03-24\", \"2020-03-25\", \"2020-03-26\", \"2020-03-27\", \"2020-03-28\", \"2020-03-29\", \"2020-03-30\"], \"y\": [1, 1, 1, 1, 1, 1, 1, 1, 1, 1, 1, 1, 1, 1, 1, 1, 1, 1, 1, 1, 1, 1, 1, 1, 1, 1, 1, 1, 1, 1, 1, 1, 1, 1, 1, 1, 1, 2, 2, 2, 3, 5, 5, 6, 6, 9, 9, 9, 12, 13, 18, 20, 28, 47, 70, 104, 153, 234, 326, 402, 508, 665, 773, 930, 1169]}, {\"name\": \"Arkansas\", \"type\": \"scatter\", \"x\": [\"2020-03-11\", \"2020-03-12\", \"2020-03-13\", \"2020-03-14\", \"2020-03-15\", \"2020-03-16\", \"2020-03-17\", \"2020-03-18\", \"2020-03-19\", \"2020-03-20\", \"2020-03-21\", \"2020-03-22\", \"2020-03-23\", \"2020-03-24\", \"2020-03-25\", \"2020-03-26\", \"2020-03-27\", \"2020-03-28\", \"2020-03-29\", \"2020-03-30\"], \"y\": [1, 6, 7, 9, 16, 22, 22, 33, 62, 100, 118, 165, 201, 291, 367, 410, 442, 463, 505, 567]}, {\"name\": \"California\", \"type\": \"scatter\", \"x\": [\"2020-01-25\", \"2020-01-26\", \"2020-01-27\", \"2020-01-28\", \"2020-01-29\", \"2020-01-30\", \"2020-01-31\", \"2020-02-01\", \"2020-02-02\", \"2020-02-03\", \"2020-02-04\", \"2020-02-05\", \"2020-02-06\", \"2020-02-07\", \"2020-02-08\", \"2020-02-09\", \"2020-02-10\", \"2020-02-11\", \"2020-02-12\", \"2020-02-13\", \"2020-02-14\", \"2020-02-15\", \"2020-02-16\", \"2020-02-17\", \"2020-02-18\", \"2020-02-19\", \"2020-02-20\", \"2020-02-21\", \"2020-02-22\", \"2020-02-23\", \"2020-02-24\", \"2020-02-25\", \"2020-02-26\", \"2020-02-27\", \"2020-02-28\", \"2020-02-29\", \"2020-03-01\", \"2020-03-02\", \"2020-03-03\", \"2020-03-04\", \"2020-03-05\", \"2020-03-06\", \"2020-03-07\", \"2020-03-08\", \"2020-03-09\", \"2020-03-10\", \"2020-03-11\", \"2020-03-12\", \"2020-03-13\", \"2020-03-14\", \"2020-03-15\", \"2020-03-16\", \"2020-03-17\", \"2020-03-18\", \"2020-03-19\", \"2020-03-20\", \"2020-03-21\", \"2020-03-22\", \"2020-03-23\", \"2020-03-24\", \"2020-03-25\", \"2020-03-26\", \"2020-03-27\", \"2020-03-28\", \"2020-03-29\", \"2020-03-30\"], \"y\": [1, 2, 2, 2, 2, 2, 3, 3, 6, 6, 6, 6, 6, 6, 6, 6, 7, 7, 7, 7, 7, 7, 7, 7, 7, 7, 8, 9, 9, 9, 11, 11, 26, 26, 27, 28, 33, 38, 45, 55, 67, 81, 100, 112, 172, 179, 202, 252, 320, 381, 478, 588, 732, 893, 1067, 1283, 1544, 1851, 2240, 2646, 3185, 4062, 4917, 5568, 6323, 7423]}, {\"name\": \"Colorado\", \"type\": \"scatter\", \"x\": [\"2020-03-05\", \"2020-03-06\", \"2020-03-07\", \"2020-03-08\", \"2020-03-09\", \"2020-03-10\", \"2020-03-11\", \"2020-03-12\", \"2020-03-13\", \"2020-03-14\", \"2020-03-15\", \"2020-03-16\", \"2020-03-17\", \"2020-03-18\", \"2020-03-19\", \"2020-03-20\", \"2020-03-21\", \"2020-03-22\", \"2020-03-23\", \"2020-03-24\", \"2020-03-25\", \"2020-03-26\", \"2020-03-27\", \"2020-03-28\", \"2020-03-29\", \"2020-03-30\"], \"y\": [2, 8, 8, 8, 12, 17, 34, 49, 78, 103, 136, 161, 183, 216, 278, 364, 475, 591, 721, 912, 1086, 1432, 1735, 2063, 2315, 2656]}, {\"name\": \"Connecticut\", \"type\": \"scatter\", \"x\": [\"2020-03-08\", \"2020-03-09\", \"2020-03-10\", \"2020-03-11\", \"2020-03-12\", \"2020-03-13\", \"2020-03-14\", \"2020-03-15\", \"2020-03-16\", \"2020-03-17\", \"2020-03-18\", \"2020-03-19\", \"2020-03-20\", \"2020-03-21\", \"2020-03-22\", \"2020-03-23\", \"2020-03-24\", \"2020-03-25\", \"2020-03-26\", \"2020-03-27\", \"2020-03-28\", \"2020-03-29\", \"2020-03-30\"], \"y\": [1, 2, 2, 3, 6, 11, 20, 26, 41, 68, 96, 159, 194, 223, 327, 415, 618, 875, 1012, 1291, 1524, 1993, 2571]}, {\"name\": \"Delaware\", \"type\": \"scatter\", \"x\": [\"2020-03-11\", \"2020-03-12\", \"2020-03-13\", \"2020-03-14\", \"2020-03-15\", \"2020-03-16\", \"2020-03-17\", \"2020-03-18\", \"2020-03-19\", \"2020-03-20\", \"2020-03-21\", \"2020-03-22\", \"2020-03-23\", \"2020-03-24\", \"2020-03-25\", \"2020-03-26\", \"2020-03-27\", \"2020-03-28\", \"2020-03-29\", \"2020-03-30\"], \"y\": [1, 4, 4, 4, 7, 8, 16, 26, 30, 39, 45, 56, 87, 104, 119, 143, 165, 214, 232, 264]}, {\"name\": \"District of Columbia\", \"type\": \"scatter\", \"x\": [\"2020-03-07\", \"2020-03-08\", \"2020-03-09\", \"2020-03-10\", \"2020-03-11\", \"2020-03-12\", \"2020-03-13\", \"2020-03-14\", \"2020-03-15\", \"2020-03-16\", \"2020-03-17\", \"2020-03-18\", \"2020-03-19\", \"2020-03-20\", \"2020-03-21\", \"2020-03-22\", \"2020-03-23\", \"2020-03-24\", \"2020-03-25\", \"2020-03-26\", \"2020-03-27\", \"2020-03-28\", \"2020-03-29\", \"2020-03-30\"], \"y\": [1, 1, 4, 4, 10, 10, 10, 16, 17, 22, 31, 36, 68, 77, 98, 116, 138, 183, 231, 267, 304, 342, 342, 495]}, {\"name\": \"Florida\", \"type\": \"scatter\", \"x\": [\"2020-03-01\", \"2020-03-02\", \"2020-03-03\", \"2020-03-04\", \"2020-03-05\", \"2020-03-06\", \"2020-03-07\", \"2020-03-08\", \"2020-03-09\", \"2020-03-10\", \"2020-03-11\", \"2020-03-12\", \"2020-03-13\", \"2020-03-14\", \"2020-03-15\", \"2020-03-16\", \"2020-03-17\", \"2020-03-18\", \"2020-03-19\", \"2020-03-20\", \"2020-03-21\", \"2020-03-22\", \"2020-03-23\", \"2020-03-24\", \"2020-03-25\", \"2020-03-26\", \"2020-03-27\", \"2020-03-28\", \"2020-03-29\", \"2020-03-30\"], \"y\": [2, 2, 3, 3, 4, 7, 12, 13, 14, 23, 26, 46, 70, 70, 109, 141, 210, 326, 434, 564, 764, 1000, 1222, 1458, 1971, 2479, 3199, 4039, 4944, 5696]}, {\"name\": \"Georgia\", \"type\": \"scatter\", \"x\": [\"2020-03-02\", \"2020-03-03\", \"2020-03-04\", \"2020-03-05\", \"2020-03-06\", \"2020-03-07\", \"2020-03-08\", \"2020-03-09\", \"2020-03-10\", \"2020-03-11\", \"2020-03-12\", \"2020-03-13\", \"2020-03-14\", \"2020-03-15\", \"2020-03-16\", \"2020-03-17\", \"2020-03-18\", \"2020-03-19\", \"2020-03-20\", \"2020-03-21\", \"2020-03-22\", \"2020-03-23\", \"2020-03-24\", \"2020-03-25\", \"2020-03-26\", \"2020-03-27\", \"2020-03-28\", \"2020-03-29\", \"2020-03-30\"], \"y\": [2, 2, 2, 2, 3, 7, 11, 17, 22, 31, 31, 41, 65, 97, 118, 142, 193, 282, 482, 552, 620, 800, 1098, 1393, 1649, 2211, 2448, 2687, 3032]}, {\"name\": \"Guam\", \"type\": \"scatter\", \"x\": [\"2020-03-15\", \"2020-03-16\", \"2020-03-17\", \"2020-03-18\", \"2020-03-19\", \"2020-03-20\", \"2020-03-21\", \"2020-03-22\", \"2020-03-23\", \"2020-03-24\", \"2020-03-25\", \"2020-03-26\", \"2020-03-27\", \"2020-03-28\", \"2020-03-29\", \"2020-03-30\"], \"y\": [3, 3, 3, 8, 12, 14, 15, 27, 29, 32, 32, 49, 53, 57, 58, 60]}, {\"name\": \"Hawaii\", \"type\": \"scatter\", \"x\": [\"2020-03-06\", \"2020-03-07\", \"2020-03-08\", \"2020-03-09\", \"2020-03-10\", \"2020-03-11\", \"2020-03-12\", \"2020-03-13\", \"2020-03-14\", \"2020-03-15\", \"2020-03-16\", \"2020-03-17\", \"2020-03-18\", \"2020-03-19\", \"2020-03-20\", \"2020-03-21\", \"2020-03-22\", \"2020-03-23\", \"2020-03-24\", \"2020-03-25\", \"2020-03-26\", \"2020-03-27\", \"2020-03-28\", \"2020-03-29\", \"2020-03-30\"], \"y\": [1, 1, 2, 2, 2, 2, 2, 2, 4, 7, 10, 14, 16, 26, 37, 48, 56, 77, 97, 96, 106, 120, 150, 173, 199]}, {\"name\": \"Idaho\", \"type\": \"scatter\", \"x\": [\"2020-03-13\", \"2020-03-14\", \"2020-03-15\", \"2020-03-16\", \"2020-03-17\", \"2020-03-18\", \"2020-03-19\", \"2020-03-20\", \"2020-03-21\", \"2020-03-22\", \"2020-03-23\", \"2020-03-24\", \"2020-03-25\", \"2020-03-26\", \"2020-03-27\", \"2020-03-28\", \"2020-03-29\", \"2020-03-30\"], \"y\": [1, 5, 5, 5, 9, 11, 23, 31, 42, 47, 50, 73, 123, 189, 233, 262, 310, 415]}, {\"name\": \"Illinois\", \"type\": \"scatter\", \"x\": [\"2020-01-24\", \"2020-01-25\", \"2020-01-26\", \"2020-01-27\", \"2020-01-28\", \"2020-01-29\", \"2020-01-30\", \"2020-01-31\", \"2020-02-01\", \"2020-02-02\", \"2020-02-03\", \"2020-02-04\", \"2020-02-05\", \"2020-02-06\", \"2020-02-07\", \"2020-02-08\", \"2020-02-09\", \"2020-02-10\", \"2020-02-11\", \"2020-02-12\", \"2020-02-13\", \"2020-02-14\", \"2020-02-15\", \"2020-02-16\", \"2020-02-17\", \"2020-02-18\", \"2020-02-19\", \"2020-02-20\", \"2020-02-21\", \"2020-02-22\", \"2020-02-23\", \"2020-02-24\", \"2020-02-25\", \"2020-02-26\", \"2020-02-27\", \"2020-02-28\", \"2020-02-29\", \"2020-03-01\", \"2020-03-02\", \"2020-03-03\", \"2020-03-04\", \"2020-03-05\", \"2020-03-06\", \"2020-03-07\", \"2020-03-08\", \"2020-03-09\", \"2020-03-10\", \"2020-03-11\", \"2020-03-12\", \"2020-03-13\", \"2020-03-14\", \"2020-03-15\", \"2020-03-16\", \"2020-03-17\", \"2020-03-18\", \"2020-03-19\", \"2020-03-20\", \"2020-03-21\", \"2020-03-22\", \"2020-03-23\", \"2020-03-24\", \"2020-03-25\", \"2020-03-26\", \"2020-03-27\", \"2020-03-28\", \"2020-03-29\", \"2020-03-30\"], \"y\": [1, 1, 1, 1, 1, 1, 2, 2, 2, 2, 2, 2, 2, 2, 2, 2, 2, 2, 2, 2, 2, 2, 2, 2, 2, 2, 2, 2, 2, 2, 2, 2, 2, 2, 2, 2, 3, 3, 4, 4, 4, 5, 6, 6, 7, 11, 19, 25, 32, 46, 66, 94, 104, 159, 286, 420, 583, 751, 1047, 1285, 1591, 1933, 2596, 3087, 3602, 4673, 5125]}, {\"name\": \"Indiana\", \"type\": \"scatter\", \"x\": [\"2020-03-06\", \"2020-03-07\", \"2020-03-08\", \"2020-03-09\", \"2020-03-10\", \"2020-03-11\", \"2020-03-12\", \"2020-03-13\", \"2020-03-14\", \"2020-03-15\", \"2020-03-16\", \"2020-03-17\", \"2020-03-18\", \"2020-03-19\", \"2020-03-20\", \"2020-03-21\", \"2020-03-22\", \"2020-03-23\", \"2020-03-24\", \"2020-03-25\", \"2020-03-26\", \"2020-03-27\", \"2020-03-28\", \"2020-03-29\", \"2020-03-30\"], \"y\": [1, 1, 2, 4, 6, 11, 12, 12, 15, 19, 24, 30, 39, 56, 79, 126, 201, 259, 366, 479, 656, 986, 1232, 1514, 1788]}, {\"name\": \"Iowa\", \"type\": \"scatter\", \"x\": [\"2020-03-08\", \"2020-03-09\", \"2020-03-10\", \"2020-03-11\", \"2020-03-12\", \"2020-03-13\", \"2020-03-14\", \"2020-03-15\", \"2020-03-16\", \"2020-03-17\", \"2020-03-18\", \"2020-03-19\", \"2020-03-20\", \"2020-03-21\", \"2020-03-22\", \"2020-03-23\", \"2020-03-24\", \"2020-03-25\", \"2020-03-26\", \"2020-03-27\", \"2020-03-28\", \"2020-03-29\", \"2020-03-30\"], \"y\": [3, 8, 13, 14, 16, 17, 18, 22, 22, 29, 38, 44, 45, 68, 90, 105, 124, 147, 179, 236, 298, 336, 424]}, {\"name\": \"Kansas\", \"type\": \"scatter\", \"x\": [\"2020-03-07\", \"2020-03-08\", \"2020-03-09\", \"2020-03-10\", \"2020-03-11\", \"2020-03-12\", \"2020-03-13\", \"2020-03-14\", \"2020-03-15\", \"2020-03-16\", \"2020-03-17\", \"2020-03-18\", \"2020-03-19\", \"2020-03-20\", \"2020-03-21\", \"2020-03-22\", \"2020-03-23\", \"2020-03-24\", \"2020-03-25\", \"2020-03-26\", \"2020-03-27\", \"2020-03-28\", \"2020-03-29\", \"2020-03-30\"], \"y\": [1, 1, 1, 1, 1, 5, 6, 8, 9, 11, 17, 22, 35, 49, 57, 66, 82, 102, 134, 173, 213, 272, 333, 374]}, {\"name\": \"Kentucky\", \"type\": \"scatter\", \"x\": [\"2020-03-06\", \"2020-03-07\", \"2020-03-08\", \"2020-03-09\", \"2020-03-10\", \"2020-03-11\", \"2020-03-12\", \"2020-03-13\", \"2020-03-14\", \"2020-03-15\", \"2020-03-16\", \"2020-03-17\", \"2020-03-18\", \"2020-03-19\", \"2020-03-20\", \"2020-03-21\", \"2020-03-22\", \"2020-03-23\", \"2020-03-24\", \"2020-03-25\", \"2020-03-26\", \"2020-03-27\", \"2020-03-28\", \"2020-03-29\", \"2020-03-30\"], \"y\": [1, 1, 4, 5, 7, 7, 11, 11, 18, 21, 22, 26, 35, 47, 63, 84, 103, 124, 162, 203, 252, 306, 398, 443, 484]}, {\"name\": \"Louisiana\", \"type\": \"scatter\", \"x\": [\"2020-03-09\", \"2020-03-10\", \"2020-03-11\", \"2020-03-12\", \"2020-03-13\", \"2020-03-14\", \"2020-03-15\", \"2020-03-16\", \"2020-03-17\", \"2020-03-18\", \"2020-03-19\", \"2020-03-20\", \"2020-03-21\", \"2020-03-22\", \"2020-03-23\", \"2020-03-24\", \"2020-03-25\", \"2020-03-26\", \"2020-03-27\", \"2020-03-28\", \"2020-03-29\", \"2020-03-30\"], \"y\": [1, 6, 13, 14, 36, 77, 103, 137, 196, 280, 392, 537, 763, 837, 1172, 1390, 1798, 2306, 2746, 3318, 3544, 4025]}, {\"name\": \"Maine\", \"type\": \"scatter\", \"x\": [\"2020-03-12\", \"2020-03-13\", \"2020-03-14\", \"2020-03-15\", \"2020-03-16\", \"2020-03-17\", \"2020-03-18\", \"2020-03-19\", \"2020-03-20\", \"2020-03-21\", \"2020-03-22\", \"2020-03-23\", \"2020-03-24\", \"2020-03-25\", \"2020-03-26\", \"2020-03-27\", \"2020-03-28\", \"2020-03-29\", \"2020-03-30\"], \"y\": [1, 2, 3, 12, 17, 32, 43, 52, 57, 70, 89, 107, 123, 145, 159, 170, 213, 253, 275]}, {\"name\": \"Maryland\", \"type\": \"scatter\", \"x\": [\"2020-03-05\", \"2020-03-06\", \"2020-03-07\", \"2020-03-08\", \"2020-03-09\", \"2020-03-10\", \"2020-03-11\", \"2020-03-12\", \"2020-03-13\", \"2020-03-14\", \"2020-03-15\", \"2020-03-16\", \"2020-03-17\", \"2020-03-18\", \"2020-03-19\", \"2020-03-20\", \"2020-03-21\", \"2020-03-22\", \"2020-03-23\", \"2020-03-24\", \"2020-03-25\", \"2020-03-26\", \"2020-03-27\", \"2020-03-28\", \"2020-03-29\", \"2020-03-30\"], \"y\": [3, 3, 3, 5, 6, 9, 13, 13, 18, 27, 32, 39, 57, 85, 108, 150, 195, 245, 290, 349, 423, 581, 790, 1066, 1244, 1415]}, {\"name\": \"Massachusetts\", \"type\": \"scatter\", \"x\": [\"2020-02-01\", \"2020-02-02\", \"2020-02-03\", \"2020-02-04\", \"2020-02-05\", \"2020-02-06\", \"2020-02-07\", \"2020-02-08\", \"2020-02-09\", \"2020-02-10\", \"2020-02-11\", \"2020-02-12\", \"2020-02-13\", \"2020-02-14\", \"2020-02-15\", \"2020-02-16\", \"2020-02-17\", \"2020-02-18\", \"2020-02-19\", \"2020-02-20\", \"2020-02-21\", \"2020-02-22\", \"2020-02-23\", \"2020-02-24\", \"2020-02-25\", \"2020-02-26\", \"2020-02-27\", \"2020-02-28\", \"2020-02-29\", \"2020-03-01\", \"2020-03-02\", \"2020-03-03\", \"2020-03-04\", \"2020-03-05\", \"2020-03-06\", \"2020-03-07\", \"2020-03-08\", \"2020-03-09\", \"2020-03-10\", \"2020-03-11\", \"2020-03-12\", \"2020-03-13\", \"2020-03-14\", \"2020-03-15\", \"2020-03-16\", \"2020-03-17\", \"2020-03-18\", \"2020-03-19\", \"2020-03-20\", \"2020-03-21\", \"2020-03-22\", \"2020-03-23\", \"2020-03-24\", \"2020-03-25\", \"2020-03-26\", \"2020-03-27\", \"2020-03-28\", \"2020-03-29\", \"2020-03-30\"], \"y\": [1, 1, 1, 1, 1, 1, 1, 1, 1, 1, 1, 1, 1, 1, 1, 1, 1, 1, 1, 1, 1, 1, 1, 1, 1, 1, 1, 1, 1, 1, 2, 2, 2, 3, 8, 13, 28, 41, 92, 95, 108, 123, 138, 164, 197, 218, 256, 328, 413, 525, 646, 777, 1159, 1838, 2417, 3240, 4257, 4955, 5752]}, {\"name\": \"Michigan\", \"type\": \"scatter\", \"x\": [\"2020-03-10\", \"2020-03-11\", \"2020-03-12\", \"2020-03-13\", \"2020-03-14\", \"2020-03-15\", \"2020-03-16\", \"2020-03-17\", \"2020-03-18\", \"2020-03-19\", \"2020-03-20\", \"2020-03-21\", \"2020-03-22\", \"2020-03-23\", \"2020-03-24\", \"2020-03-25\", \"2020-03-26\", \"2020-03-27\", \"2020-03-28\", \"2020-03-29\", \"2020-03-30\"], \"y\": [2, 2, 12, 25, 33, 53, 54, 65, 80, 334, 548, 787, 1033, 1324, 1783, 2286, 2878, 3652, 4637, 5473, 6509]}, {\"name\": \"Minnesota\", \"type\": \"scatter\", \"x\": [\"2020-03-06\", \"2020-03-07\", \"2020-03-08\", \"2020-03-09\", \"2020-03-10\", \"2020-03-11\", \"2020-03-12\", \"2020-03-13\", \"2020-03-14\", \"2020-03-15\", \"2020-03-16\", \"2020-03-17\", \"2020-03-18\", \"2020-03-19\", \"2020-03-20\", \"2020-03-21\", \"2020-03-22\", \"2020-03-23\", \"2020-03-24\", \"2020-03-25\", \"2020-03-26\", \"2020-03-27\", \"2020-03-28\", \"2020-03-29\", \"2020-03-30\"], \"y\": [1, 1, 2, 2, 3, 5, 9, 14, 21, 35, 54, 60, 77, 89, 115, 138, 171, 235, 264, 289, 346, 398, 444, 505, 577]}, {\"name\": \"Mississippi\", \"type\": \"scatter\", \"x\": [\"2020-03-11\", \"2020-03-12\", \"2020-03-13\", \"2020-03-14\", \"2020-03-15\", \"2020-03-16\", \"2020-03-17\", \"2020-03-18\", \"2020-03-19\", \"2020-03-20\", \"2020-03-21\", \"2020-03-22\", \"2020-03-23\", \"2020-03-24\", \"2020-03-25\", \"2020-03-26\", \"2020-03-27\", \"2020-03-28\", \"2020-03-29\", \"2020-03-30\"], \"y\": [1, 1, 6, 6, 10, 12, 21, 34, 50, 80, 140, 207, 249, 320, 377, 487, 582, 669, 759, 848]}, {\"name\": \"Missouri\", \"type\": \"scatter\", \"x\": [\"2020-03-07\", \"2020-03-08\", \"2020-03-09\", \"2020-03-10\", \"2020-03-11\", \"2020-03-12\", \"2020-03-13\", \"2020-03-14\", \"2020-03-15\", \"2020-03-16\", \"2020-03-17\", \"2020-03-18\", \"2020-03-19\", \"2020-03-20\", \"2020-03-21\", \"2020-03-22\", \"2020-03-23\", \"2020-03-24\", \"2020-03-25\", \"2020-03-26\", \"2020-03-27\", \"2020-03-28\", \"2020-03-29\", \"2020-03-30\"], \"y\": [1, 1, 1, 1, 1, 2, 4, 5, 5, 9, 16, 21, 35, 73, 93, 130, 183, 257, 383, 518, 673, 840, 905, 1051]}, {\"name\": \"Montana\", \"type\": \"scatter\", \"x\": [\"2020-03-13\", \"2020-03-14\", \"2020-03-15\", \"2020-03-16\", \"2020-03-17\", \"2020-03-18\", \"2020-03-19\", \"2020-03-20\", \"2020-03-21\", \"2020-03-22\", \"2020-03-23\", \"2020-03-24\", \"2020-03-25\", \"2020-03-26\", \"2020-03-27\", \"2020-03-28\", \"2020-03-29\", \"2020-03-30\"], \"y\": [4, 6, 6, 8, 8, 12, 19, 19, 29, 34, 45, 51, 65, 90, 121, 147, 161, 177]}, {\"name\": \"Nebraska\", \"type\": \"scatter\", \"x\": [\"2020-02-17\", \"2020-02-18\", \"2020-02-19\", \"2020-02-20\", \"2020-02-21\", \"2020-02-22\", \"2020-02-23\", \"2020-02-24\", \"2020-02-25\", \"2020-02-26\", \"2020-02-27\", \"2020-02-28\", \"2020-02-29\", \"2020-03-01\", \"2020-03-02\", \"2020-03-03\", \"2020-03-04\", \"2020-03-05\", \"2020-03-06\", \"2020-03-07\", \"2020-03-08\", \"2020-03-09\", \"2020-03-10\", \"2020-03-11\", \"2020-03-12\", \"2020-03-13\", \"2020-03-14\", \"2020-03-15\", \"2020-03-16\", \"2020-03-17\", \"2020-03-18\", \"2020-03-19\", \"2020-03-20\", \"2020-03-21\", \"2020-03-22\", \"2020-03-23\", \"2020-03-24\", \"2020-03-25\", \"2020-03-26\", \"2020-03-27\", \"2020-03-28\", \"2020-03-29\", \"2020-03-30\"], \"y\": [10, 10, 10, 11, 11, 11, 11, 12, 13, 13, 13, 13, 13, 13, 13, 13, 13, 13, 14, 14, 16, 16, 17, 23, 24, 27, 29, 31, 33, 36, 43, 47, 53, 61, 62, 73, 77, 84, 92, 103, 123, 141, 185]}, {\"name\": \"Nevada\", \"type\": \"scatter\", \"x\": [\"2020-03-05\", \"2020-03-06\", \"2020-03-07\", \"2020-03-08\", \"2020-03-09\", \"2020-03-10\", \"2020-03-11\", \"2020-03-12\", \"2020-03-13\", \"2020-03-14\", \"2020-03-15\", \"2020-03-16\", \"2020-03-17\", \"2020-03-18\", \"2020-03-19\", \"2020-03-20\", \"2020-03-21\", \"2020-03-22\", \"2020-03-23\", \"2020-03-24\", \"2020-03-25\", \"2020-03-26\", \"2020-03-27\", \"2020-03-28\", \"2020-03-29\", \"2020-03-30\"], \"y\": [2, 2, 2, 4, 4, 4, 7, 11, 19, 21, 26, 45, 55, 82, 99, 165, 165, 190, 265, 383, 406, 535, 621, 738, 920, 1044]}, {\"name\": \"New Hampshire\", \"type\": \"scatter\", \"x\": [\"2020-03-02\", \"2020-03-03\", \"2020-03-04\", \"2020-03-05\", \"2020-03-06\", \"2020-03-07\", \"2020-03-08\", \"2020-03-09\", \"2020-03-10\", \"2020-03-11\", \"2020-03-12\", \"2020-03-13\", \"2020-03-14\", \"2020-03-15\", \"2020-03-16\", \"2020-03-17\", \"2020-03-18\", \"2020-03-19\", \"2020-03-20\", \"2020-03-21\", \"2020-03-22\", \"2020-03-23\", \"2020-03-24\", \"2020-03-25\", \"2020-03-26\", \"2020-03-27\", \"2020-03-28\", \"2020-03-29\", \"2020-03-30\"], \"y\": [1, 2, 2, 2, 2, 4, 4, 4, 5, 5, 6, 7, 7, 13, 17, 26, 39, 44, 55, 65, 78, 101, 108, 137, 158, 187, 214, 258, 314]}, {\"name\": \"New Jersey\", \"type\": \"scatter\", \"x\": [\"2020-03-04\", \"2020-03-05\", \"2020-03-06\", \"2020-03-07\", \"2020-03-08\", \"2020-03-09\", \"2020-03-10\", \"2020-03-11\", \"2020-03-12\", \"2020-03-13\", \"2020-03-14\", \"2020-03-15\", \"2020-03-16\", \"2020-03-17\", \"2020-03-18\", \"2020-03-19\", \"2020-03-20\", \"2020-03-21\", \"2020-03-22\", \"2020-03-23\", \"2020-03-24\", \"2020-03-25\", \"2020-03-26\", \"2020-03-27\", \"2020-03-28\", \"2020-03-29\", \"2020-03-30\"], \"y\": [1, 2, 4, 4, 6, 11, 15, 23, 29, 50, 75, 98, 176, 268, 427, 735, 896, 1336, 1914, 2844, 3675, 4402, 6876, 8825, 11124, 13386, 16636]}, {\"name\": \"New Mexico\", \"type\": \"scatter\", \"x\": [\"2020-03-11\", \"2020-03-12\", \"2020-03-13\", \"2020-03-14\", \"2020-03-15\", \"2020-03-16\", \"2020-03-17\", \"2020-03-18\", \"2020-03-19\", \"2020-03-20\", \"2020-03-21\", \"2020-03-22\", \"2020-03-23\", \"2020-03-24\", \"2020-03-25\", \"2020-03-26\", \"2020-03-27\", \"2020-03-28\", \"2020-03-29\", \"2020-03-30\"], \"y\": [4, 6, 10, 13, 17, 21, 23, 28, 35, 43, 57, 65, 83, 100, 113, 136, 191, 210, 237, 282]}, {\"name\": \"New York\", \"type\": \"scatter\", \"x\": [\"2020-03-01\", \"2020-03-02\", \"2020-03-03\", \"2020-03-04\", \"2020-03-05\", \"2020-03-06\", \"2020-03-07\", \"2020-03-08\", \"2020-03-09\", \"2020-03-10\", \"2020-03-11\", \"2020-03-12\", \"2020-03-13\", \"2020-03-14\", \"2020-03-15\", \"2020-03-16\", \"2020-03-17\", \"2020-03-18\", \"2020-03-19\", \"2020-03-20\", \"2020-03-21\", \"2020-03-22\", \"2020-03-23\", \"2020-03-24\", \"2020-03-25\", \"2020-03-26\", \"2020-03-27\", \"2020-03-28\", \"2020-03-29\", \"2020-03-30\"], \"y\": [1, 1, 2, 11, 22, 44, 89, 106, 142, 173, 217, 326, 421, 610, 732, 950, 1374, 2382, 4152, 7102, 10356, 15168, 20875, 25666, 33067, 38988, 44636, 53364, 59568, 67216]}, {\"name\": \"North Carolina\", \"type\": \"scatter\", \"x\": [\"2020-03-03\", \"2020-03-04\", \"2020-03-05\", \"2020-03-06\", \"2020-03-07\", \"2020-03-08\", \"2020-03-09\", \"2020-03-10\", \"2020-03-11\", \"2020-03-12\", \"2020-03-13\", \"2020-03-14\", \"2020-03-15\", \"2020-03-16\", \"2020-03-17\", \"2020-03-18\", \"2020-03-19\", \"2020-03-20\", \"2020-03-21\", \"2020-03-22\", \"2020-03-23\", \"2020-03-24\", \"2020-03-25\", \"2020-03-26\", \"2020-03-27\", \"2020-03-28\", \"2020-03-29\", \"2020-03-30\"], \"y\": [1, 1, 1, 2, 2, 2, 7, 7, 8, 16, 18, 25, 32, 34, 42, 66, 104, 144, 184, 269, 303, 399, 564, 640, 785, 973, 1169, 1305]}, {\"name\": \"North Dakota\", \"type\": \"scatter\", \"x\": [\"2020-03-11\", \"2020-03-12\", \"2020-03-13\", \"2020-03-14\", \"2020-03-15\", \"2020-03-16\", \"2020-03-17\", \"2020-03-18\", \"2020-03-19\", \"2020-03-20\", \"2020-03-21\", \"2020-03-22\", \"2020-03-23\", \"2020-03-24\", \"2020-03-25\", \"2020-03-26\", \"2020-03-27\", \"2020-03-28\", \"2020-03-29\", \"2020-03-30\"], \"y\": [1, 1, 1, 1, 1, 1, 5, 7, 19, 27, 28, 30, 32, 37, 45, 58, 68, 94, 98, 110]}, {\"name\": \"Northern Mariana Islands\", \"type\": \"scatter\", \"x\": [\"2020-03-28\", \"2020-03-29\", \"2020-03-30\"], \"y\": [2, 2, 2]}, {\"name\": \"Ohio\", \"type\": \"scatter\", \"x\": [\"2020-03-09\", \"2020-03-10\", \"2020-03-11\", \"2020-03-12\", \"2020-03-13\", \"2020-03-14\", \"2020-03-15\", \"2020-03-16\", \"2020-03-17\", \"2020-03-18\", \"2020-03-19\", \"2020-03-20\", \"2020-03-21\", \"2020-03-22\", \"2020-03-23\", \"2020-03-24\", \"2020-03-25\", \"2020-03-26\", \"2020-03-27\", \"2020-03-28\", \"2020-03-29\", \"2020-03-30\"], \"y\": [3, 3, 4, 5, 13, 26, 37, 50, 67, 90, 120, 169, 247, 351, 444, 564, 707, 868, 1144, 1406, 1665, 1933]}, {\"name\": \"Oklahoma\", \"type\": \"scatter\", \"x\": [\"2020-03-06\", \"2020-03-07\", \"2020-03-08\", \"2020-03-09\", \"2020-03-10\", \"2020-03-11\", \"2020-03-12\", \"2020-03-13\", \"2020-03-14\", \"2020-03-15\", \"2020-03-16\", \"2020-03-17\", \"2020-03-18\", \"2020-03-19\", \"2020-03-20\", \"2020-03-21\", \"2020-03-22\", \"2020-03-23\", \"2020-03-24\", \"2020-03-25\", \"2020-03-26\", \"2020-03-27\", \"2020-03-28\", \"2020-03-29\", \"2020-03-30\"], \"y\": [1, 1, 1, 1, 2, 2, 2, 3, 4, 8, 10, 18, 29, 44, 49, 53, 67, 81, 106, 164, 248, 322, 377, 429, 481]}, {\"name\": \"Oregon\", \"type\": \"scatter\", \"x\": [\"2020-02-28\", \"2020-02-29\", \"2020-03-01\", \"2020-03-02\", \"2020-03-03\", \"2020-03-04\", \"2020-03-05\", \"2020-03-06\", \"2020-03-07\", \"2020-03-08\", \"2020-03-09\", \"2020-03-10\", \"2020-03-11\", \"2020-03-12\", \"2020-03-13\", \"2020-03-14\", \"2020-03-15\", \"2020-03-16\", \"2020-03-17\", \"2020-03-18\", \"2020-03-19\", \"2020-03-20\", \"2020-03-21\", \"2020-03-22\", \"2020-03-23\", \"2020-03-24\", \"2020-03-25\", \"2020-03-26\", \"2020-03-27\", \"2020-03-28\", \"2020-03-29\", \"2020-03-30\"], \"y\": [1, 1, 2, 2, 2, 2, 2, 2, 6, 13, 13, 14, 20, 30, 30, 36, 39, 46, 66, 74, 87, 114, 137, 161, 191, 209, 266, 316, 415, 480, 549, 607]}, {\"name\": \"Pennsylvania\", \"type\": \"scatter\", \"x\": [\"2020-03-06\", \"2020-03-07\", \"2020-03-08\", \"2020-03-09\", \"2020-03-10\", \"2020-03-11\", \"2020-03-12\", \"2020-03-13\", \"2020-03-14\", \"2020-03-15\", \"2020-03-16\", \"2020-03-17\", \"2020-03-18\", \"2020-03-19\", \"2020-03-20\", \"2020-03-21\", \"2020-03-22\", \"2020-03-23\", \"2020-03-24\", \"2020-03-25\", \"2020-03-26\", \"2020-03-27\", \"2020-03-28\", \"2020-03-29\", \"2020-03-30\"], \"y\": [2, 4, 6, 10, 12, 16, 22, 41, 47, 68, 81, 101, 139, 187, 269, 388, 504, 644, 851, 1151, 1690, 2218, 2815, 3441, 4156]}, {\"name\": \"Puerto Rico\", \"type\": \"scatter\", \"x\": [\"2020-03-13\", \"2020-03-14\", \"2020-03-15\", \"2020-03-16\", \"2020-03-17\", \"2020-03-18\", \"2020-03-19\", \"2020-03-20\", \"2020-03-21\", \"2020-03-22\", \"2020-03-23\", \"2020-03-24\", \"2020-03-25\", \"2020-03-26\", \"2020-03-27\", \"2020-03-28\", \"2020-03-29\", \"2020-03-30\"], \"y\": [3, 4, 5, 5, 5, 5, 6, 14, 21, 23, 31, 39, 51, 64, 79, 100, 127, 174]}, {\"name\": \"Rhode Island\", \"type\": \"scatter\", \"x\": [\"2020-03-01\", \"2020-03-02\", \"2020-03-03\", \"2020-03-04\", \"2020-03-05\", \"2020-03-06\", \"2020-03-07\", \"2020-03-08\", \"2020-03-09\", \"2020-03-10\", \"2020-03-11\", \"2020-03-12\", \"2020-03-13\", \"2020-03-14\", \"2020-03-15\", \"2020-03-16\", \"2020-03-17\", \"2020-03-18\", \"2020-03-19\", \"2020-03-20\", \"2020-03-21\", \"2020-03-22\", \"2020-03-23\", \"2020-03-24\", \"2020-03-25\", \"2020-03-26\", \"2020-03-27\", \"2020-03-28\", \"2020-03-29\", \"2020-03-30\"], \"y\": [2, 2, 2, 2, 2, 3, 3, 3, 3, 5, 5, 5, 20, 20, 20, 21, 23, 33, 44, 44, 66, 83, 106, 124, 172, 177, 203, 239, 331, 415]}, {\"name\": \"South Carolina\", \"type\": \"scatter\", \"x\": [\"2020-03-06\", \"2020-03-07\", \"2020-03-08\", \"2020-03-09\", \"2020-03-10\", \"2020-03-11\", \"2020-03-12\", \"2020-03-13\", \"2020-03-14\", \"2020-03-15\", \"2020-03-16\", \"2020-03-17\", \"2020-03-18\", \"2020-03-19\", \"2020-03-20\", \"2020-03-21\", \"2020-03-22\", \"2020-03-23\", \"2020-03-24\", \"2020-03-25\", \"2020-03-26\", \"2020-03-27\", \"2020-03-28\", \"2020-03-29\", \"2020-03-30\"], \"y\": [2, 2, 6, 7, 9, 10, 12, 13, 19, 28, 33, 47, 60, 81, 126, 172, 194, 299, 342, 425, 456, 542, 661, 775, 925]}, {\"name\": \"South Dakota\", \"type\": \"scatter\", \"x\": [\"2020-03-10\", \"2020-03-11\", \"2020-03-12\", \"2020-03-13\", \"2020-03-14\", \"2020-03-15\", \"2020-03-16\", \"2020-03-17\", \"2020-03-18\", \"2020-03-19\", \"2020-03-20\", \"2020-03-21\", \"2020-03-22\", \"2020-03-23\", \"2020-03-24\", \"2020-03-25\", \"2020-03-26\", \"2020-03-27\", \"2020-03-28\", \"2020-03-29\", \"2020-03-30\"], \"y\": [5, 8, 8, 9, 9, 9, 10, 11, 11, 14, 14, 14, 21, 28, 30, 41, 46, 58, 68, 90, 102]}, {\"name\": \"Tennessee\", \"type\": \"scatter\", \"x\": [\"2020-03-05\", \"2020-03-06\", \"2020-03-07\", \"2020-03-08\", \"2020-03-09\", \"2020-03-10\", \"2020-03-11\", \"2020-03-12\", \"2020-03-13\", \"2020-03-14\", \"2020-03-15\", \"2020-03-16\", \"2020-03-17\", \"2020-03-18\", \"2020-03-19\", \"2020-03-20\", \"2020-03-21\", \"2020-03-22\", \"2020-03-23\", \"2020-03-24\", \"2020-03-25\", \"2020-03-26\", \"2020-03-27\", \"2020-03-28\", \"2020-03-29\", \"2020-03-30\"], \"y\": [1, 1, 1, 3, 4, 7, 8, 18, 26, 32, 39, 52, 73, 98, 155, 237, 312, 424, 522, 754, 837, 983, 1181, 1364, 1570, 1729]}, {\"name\": \"Texas\", \"type\": \"scatter\", \"x\": [\"2020-02-12\", \"2020-02-13\", \"2020-02-14\", \"2020-02-15\", \"2020-02-16\", \"2020-02-17\", \"2020-02-18\", \"2020-02-19\", \"2020-02-20\", \"2020-02-21\", \"2020-02-22\", \"2020-02-23\", \"2020-02-24\", \"2020-02-25\", \"2020-02-26\", \"2020-02-27\", \"2020-02-28\", \"2020-02-29\", \"2020-03-01\", \"2020-03-02\", \"2020-03-03\", \"2020-03-04\", \"2020-03-05\", \"2020-03-06\", \"2020-03-07\", \"2020-03-08\", \"2020-03-09\", \"2020-03-10\", \"2020-03-11\", \"2020-03-12\", \"2020-03-13\", \"2020-03-14\", \"2020-03-15\", \"2020-03-16\", \"2020-03-17\", \"2020-03-18\", \"2020-03-19\", \"2020-03-20\", \"2020-03-21\", \"2020-03-22\", \"2020-03-23\", \"2020-03-24\", \"2020-03-25\", \"2020-03-26\", \"2020-03-27\", \"2020-03-28\", \"2020-03-29\", \"2020-03-30\"], \"y\": [1, 2, 2, 2, 2, 2, 2, 2, 2, 4, 4, 4, 10, 10, 10, 10, 11, 11, 11, 11, 11, 12, 16, 19, 19, 23, 24, 31, 33, 41, 58, 69, 80, 87, 106, 166, 248, 377, 547, 632, 728, 857, 1119, 1543, 1943, 2374, 2719, 3046]}, {\"name\": \"Utah\", \"type\": \"scatter\", \"x\": [\"2020-02-25\", \"2020-02-26\", \"2020-02-27\", \"2020-02-28\", \"2020-02-29\", \"2020-03-01\", \"2020-03-02\", \"2020-03-03\", \"2020-03-04\", \"2020-03-05\", \"2020-03-06\", \"2020-03-07\", \"2020-03-08\", \"2020-03-09\", \"2020-03-10\", \"2020-03-11\", \"2020-03-12\", \"2020-03-13\", \"2020-03-14\", \"2020-03-15\", \"2020-03-16\", \"2020-03-17\", \"2020-03-18\", \"2020-03-19\", \"2020-03-20\", \"2020-03-21\", \"2020-03-22\", \"2020-03-23\", \"2020-03-24\", \"2020-03-25\", \"2020-03-26\", \"2020-03-27\", \"2020-03-28\", \"2020-03-29\", \"2020-03-30\"], \"y\": [1, 1, 1, 1, 1, 1, 1, 1, 1, 1, 3, 3, 3, 3, 4, 5, 7, 7, 21, 29, 40, 51, 65, 80, 112, 138, 182, 257, 299, 336, 402, 480, 608, 719, 806]}, {\"name\": \"Vermont\", \"type\": \"scatter\", \"x\": [\"2020-03-07\", \"2020-03-08\", \"2020-03-09\", \"2020-03-10\", \"2020-03-11\", \"2020-03-12\", \"2020-03-13\", \"2020-03-14\", \"2020-03-15\", \"2020-03-16\", \"2020-03-17\", \"2020-03-18\", \"2020-03-19\", \"2020-03-20\", \"2020-03-21\", \"2020-03-22\", \"2020-03-23\", \"2020-03-24\", \"2020-03-25\", \"2020-03-26\", \"2020-03-27\", \"2020-03-28\", \"2020-03-29\", \"2020-03-30\"], \"y\": [1, 1, 1, 1, 2, 2, 2, 5, 8, 12, 14, 19, 22, 29, 49, 52, 75, 116, 146, 173, 201, 227, 251, 277]}, {\"name\": \"Virgin Islands\", \"type\": \"scatter\", \"x\": [\"2020-03-14\", \"2020-03-15\", \"2020-03-16\", \"2020-03-17\", \"2020-03-18\", \"2020-03-19\", \"2020-03-20\", \"2020-03-21\", \"2020-03-22\", \"2020-03-23\", \"2020-03-24\", \"2020-03-25\", \"2020-03-26\", \"2020-03-27\", \"2020-03-28\", \"2020-03-29\", \"2020-03-30\"], \"y\": [1, 1, 2, 2, 3, 3, 6, 6, 17, 17, 17, 17, 17, 19, 19, 23, 30]}, {\"name\": \"Virginia\", \"type\": \"scatter\", \"x\": [\"2020-03-07\", \"2020-03-08\", \"2020-03-09\", \"2020-03-10\", \"2020-03-11\", \"2020-03-12\", \"2020-03-13\", \"2020-03-14\", \"2020-03-15\", \"2020-03-16\", \"2020-03-17\", \"2020-03-18\", \"2020-03-19\", \"2020-03-20\", \"2020-03-21\", \"2020-03-22\", \"2020-03-23\", \"2020-03-24\", \"2020-03-25\", \"2020-03-26\", \"2020-03-27\", \"2020-03-28\", \"2020-03-29\", \"2020-03-30\"], \"y\": [1, 2, 5, 8, 10, 17, 30, 42, 45, 51, 67, 78, 94, 115, 152, 219, 254, 291, 391, 569, 606, 740, 890, 1021]}, {\"name\": \"Washington\", \"type\": \"scatter\", \"x\": [\"2020-01-21\", \"2020-01-22\", \"2020-01-23\", \"2020-01-24\", \"2020-01-25\", \"2020-01-26\", \"2020-01-27\", \"2020-01-28\", \"2020-01-29\", \"2020-01-30\", \"2020-01-31\", \"2020-02-01\", \"2020-02-02\", \"2020-02-03\", \"2020-02-04\", \"2020-02-05\", \"2020-02-06\", \"2020-02-07\", \"2020-02-08\", \"2020-02-09\", \"2020-02-10\", \"2020-02-11\", \"2020-02-12\", \"2020-02-13\", \"2020-02-14\", \"2020-02-15\", \"2020-02-16\", \"2020-02-17\", \"2020-02-18\", \"2020-02-19\", \"2020-02-20\", \"2020-02-21\", \"2020-02-22\", \"2020-02-23\", \"2020-02-24\", \"2020-02-25\", \"2020-02-26\", \"2020-02-27\", \"2020-02-28\", \"2020-02-29\", \"2020-03-01\", \"2020-03-02\", \"2020-03-03\", \"2020-03-04\", \"2020-03-05\", \"2020-03-06\", \"2020-03-07\", \"2020-03-08\", \"2020-03-09\", \"2020-03-10\", \"2020-03-11\", \"2020-03-12\", \"2020-03-13\", \"2020-03-14\", \"2020-03-15\", \"2020-03-16\", \"2020-03-17\", \"2020-03-18\", \"2020-03-19\", \"2020-03-20\", \"2020-03-21\", \"2020-03-22\", \"2020-03-23\", \"2020-03-24\", \"2020-03-25\", \"2020-03-26\", \"2020-03-27\", \"2020-03-28\", \"2020-03-29\", \"2020-03-30\"], \"y\": [1, 1, 1, 1, 1, 1, 1, 1, 1, 1, 1, 1, 1, 1, 1, 1, 1, 1, 1, 1, 1, 1, 1, 1, 1, 1, 1, 1, 1, 1, 1, 1, 1, 1, 5, 5, 5, 5, 7, 10, 17, 23, 32, 47, 75, 86, 110, 141, 179, 279, 338, 419, 511, 609, 675, 794, 908, 1026, 1228, 1404, 1655, 1844, 2101, 2404, 2585, 3143, 3727, 4153, 4634, 4932]}, {\"name\": \"West Virginia\", \"type\": \"scatter\", \"x\": [\"2020-03-17\", \"2020-03-18\", \"2020-03-19\", \"2020-03-20\", \"2020-03-21\", \"2020-03-22\", \"2020-03-23\", \"2020-03-24\", \"2020-03-25\", \"2020-03-26\", \"2020-03-27\", \"2020-03-28\", \"2020-03-29\", \"2020-03-30\"], \"y\": [1, 2, 5, 8, 12, 16, 16, 39, 51, 76, 96, 113, 124, 145]}, {\"name\": \"Wisconsin\", \"type\": \"scatter\", \"x\": [\"2020-02-05\", \"2020-02-06\", \"2020-02-07\", \"2020-02-08\", \"2020-02-09\", \"2020-02-10\", \"2020-02-11\", \"2020-02-12\", \"2020-02-13\", \"2020-02-14\", \"2020-02-15\", \"2020-02-16\", \"2020-02-17\", \"2020-02-18\", \"2020-02-19\", \"2020-02-20\", \"2020-02-21\", \"2020-02-22\", \"2020-02-23\", \"2020-02-24\", \"2020-02-25\", \"2020-02-26\", \"2020-02-27\", \"2020-02-28\", \"2020-02-29\", \"2020-03-01\", \"2020-03-02\", \"2020-03-03\", \"2020-03-04\", \"2020-03-05\", \"2020-03-06\", \"2020-03-07\", \"2020-03-08\", \"2020-03-09\", \"2020-03-10\", \"2020-03-11\", \"2020-03-12\", \"2020-03-13\", \"2020-03-14\", \"2020-03-15\", \"2020-03-16\", \"2020-03-17\", \"2020-03-18\", \"2020-03-19\", \"2020-03-20\", \"2020-03-21\", \"2020-03-22\", \"2020-03-23\", \"2020-03-24\", \"2020-03-25\", \"2020-03-26\", \"2020-03-27\", \"2020-03-28\", \"2020-03-29\", \"2020-03-30\"], \"y\": [1, 1, 1, 1, 1, 1, 1, 1, 1, 1, 1, 1, 1, 1, 1, 1, 1, 1, 1, 1, 1, 1, 1, 1, 1, 1, 1, 1, 1, 1, 1, 1, 1, 2, 3, 6, 8, 19, 27, 33, 47, 72, 106, 155, 216, 281, 382, 418, 481, 623, 754, 930, 1042, 1120, 1269]}, {\"name\": \"Wyoming\", \"type\": \"scatter\", \"x\": [\"2020-03-11\", \"2020-03-12\", \"2020-03-13\", \"2020-03-14\", \"2020-03-15\", \"2020-03-16\", \"2020-03-17\", \"2020-03-18\", \"2020-03-19\", \"2020-03-20\", \"2020-03-21\", \"2020-03-22\", \"2020-03-23\", \"2020-03-24\", \"2020-03-25\", \"2020-03-26\", \"2020-03-27\", \"2020-03-28\", \"2020-03-29\", \"2020-03-30\"], \"y\": [1, 1, 2, 3, 3, 10, 15, 17, 18, 22, 24, 26, 28, 37, 49, 56, 74, 85, 88, 96]}],\n",
       "                        {\"height\": 600, \"template\": {\"data\": {\"bar\": [{\"error_x\": {\"color\": \"#2a3f5f\"}, \"error_y\": {\"color\": \"#2a3f5f\"}, \"marker\": {\"line\": {\"color\": \"#E5ECF6\", \"width\": 0.5}}, \"type\": \"bar\"}], \"barpolar\": [{\"marker\": {\"line\": {\"color\": \"#E5ECF6\", \"width\": 0.5}}, \"type\": \"barpolar\"}], \"carpet\": [{\"aaxis\": {\"endlinecolor\": \"#2a3f5f\", \"gridcolor\": \"white\", \"linecolor\": \"white\", \"minorgridcolor\": \"white\", \"startlinecolor\": \"#2a3f5f\"}, \"baxis\": {\"endlinecolor\": \"#2a3f5f\", \"gridcolor\": \"white\", \"linecolor\": \"white\", \"minorgridcolor\": \"white\", \"startlinecolor\": \"#2a3f5f\"}, \"type\": \"carpet\"}], \"choropleth\": [{\"colorbar\": {\"outlinewidth\": 0, \"ticks\": \"\"}, \"type\": \"choropleth\"}], \"contour\": [{\"colorbar\": {\"outlinewidth\": 0, \"ticks\": \"\"}, \"colorscale\": [[0.0, \"#0d0887\"], [0.1111111111111111, \"#46039f\"], [0.2222222222222222, \"#7201a8\"], [0.3333333333333333, \"#9c179e\"], [0.4444444444444444, \"#bd3786\"], [0.5555555555555556, \"#d8576b\"], [0.6666666666666666, \"#ed7953\"], [0.7777777777777778, \"#fb9f3a\"], [0.8888888888888888, \"#fdca26\"], [1.0, \"#f0f921\"]], \"type\": \"contour\"}], \"contourcarpet\": [{\"colorbar\": {\"outlinewidth\": 0, \"ticks\": \"\"}, \"type\": \"contourcarpet\"}], \"heatmap\": [{\"colorbar\": {\"outlinewidth\": 0, \"ticks\": \"\"}, \"colorscale\": [[0.0, \"#0d0887\"], [0.1111111111111111, \"#46039f\"], [0.2222222222222222, \"#7201a8\"], [0.3333333333333333, \"#9c179e\"], [0.4444444444444444, \"#bd3786\"], [0.5555555555555556, \"#d8576b\"], [0.6666666666666666, \"#ed7953\"], [0.7777777777777778, \"#fb9f3a\"], [0.8888888888888888, \"#fdca26\"], [1.0, \"#f0f921\"]], \"type\": \"heatmap\"}], \"heatmapgl\": [{\"colorbar\": {\"outlinewidth\": 0, \"ticks\": \"\"}, \"colorscale\": [[0.0, \"#0d0887\"], [0.1111111111111111, \"#46039f\"], [0.2222222222222222, \"#7201a8\"], [0.3333333333333333, \"#9c179e\"], [0.4444444444444444, \"#bd3786\"], [0.5555555555555556, \"#d8576b\"], [0.6666666666666666, \"#ed7953\"], [0.7777777777777778, \"#fb9f3a\"], [0.8888888888888888, \"#fdca26\"], [1.0, \"#f0f921\"]], \"type\": \"heatmapgl\"}], \"histogram\": [{\"marker\": {\"colorbar\": {\"outlinewidth\": 0, \"ticks\": \"\"}}, \"type\": \"histogram\"}], \"histogram2d\": [{\"colorbar\": {\"outlinewidth\": 0, \"ticks\": \"\"}, \"colorscale\": [[0.0, \"#0d0887\"], [0.1111111111111111, \"#46039f\"], [0.2222222222222222, \"#7201a8\"], [0.3333333333333333, \"#9c179e\"], [0.4444444444444444, \"#bd3786\"], [0.5555555555555556, \"#d8576b\"], [0.6666666666666666, \"#ed7953\"], [0.7777777777777778, \"#fb9f3a\"], [0.8888888888888888, \"#fdca26\"], [1.0, \"#f0f921\"]], \"type\": \"histogram2d\"}], \"histogram2dcontour\": [{\"colorbar\": {\"outlinewidth\": 0, \"ticks\": \"\"}, \"colorscale\": [[0.0, \"#0d0887\"], [0.1111111111111111, \"#46039f\"], [0.2222222222222222, \"#7201a8\"], [0.3333333333333333, \"#9c179e\"], [0.4444444444444444, \"#bd3786\"], [0.5555555555555556, \"#d8576b\"], [0.6666666666666666, \"#ed7953\"], [0.7777777777777778, \"#fb9f3a\"], [0.8888888888888888, \"#fdca26\"], [1.0, \"#f0f921\"]], \"type\": \"histogram2dcontour\"}], \"mesh3d\": [{\"colorbar\": {\"outlinewidth\": 0, \"ticks\": \"\"}, \"type\": \"mesh3d\"}], \"parcoords\": [{\"line\": {\"colorbar\": {\"outlinewidth\": 0, \"ticks\": \"\"}}, \"type\": \"parcoords\"}], \"pie\": [{\"automargin\": true, \"type\": \"pie\"}], \"scatter\": [{\"marker\": {\"colorbar\": {\"outlinewidth\": 0, \"ticks\": \"\"}}, \"type\": \"scatter\"}], \"scatter3d\": [{\"line\": {\"colorbar\": {\"outlinewidth\": 0, \"ticks\": \"\"}}, \"marker\": {\"colorbar\": {\"outlinewidth\": 0, \"ticks\": \"\"}}, \"type\": \"scatter3d\"}], \"scattercarpet\": [{\"marker\": {\"colorbar\": {\"outlinewidth\": 0, \"ticks\": \"\"}}, \"type\": \"scattercarpet\"}], \"scattergeo\": [{\"marker\": {\"colorbar\": {\"outlinewidth\": 0, \"ticks\": \"\"}}, \"type\": \"scattergeo\"}], \"scattergl\": [{\"marker\": {\"colorbar\": {\"outlinewidth\": 0, \"ticks\": \"\"}}, \"type\": \"scattergl\"}], \"scattermapbox\": [{\"marker\": {\"colorbar\": {\"outlinewidth\": 0, \"ticks\": \"\"}}, \"type\": \"scattermapbox\"}], \"scatterpolar\": [{\"marker\": {\"colorbar\": {\"outlinewidth\": 0, \"ticks\": \"\"}}, \"type\": \"scatterpolar\"}], \"scatterpolargl\": [{\"marker\": {\"colorbar\": {\"outlinewidth\": 0, \"ticks\": \"\"}}, \"type\": \"scatterpolargl\"}], \"scatterternary\": [{\"marker\": {\"colorbar\": {\"outlinewidth\": 0, \"ticks\": \"\"}}, \"type\": \"scatterternary\"}], \"surface\": [{\"colorbar\": {\"outlinewidth\": 0, \"ticks\": \"\"}, \"colorscale\": [[0.0, \"#0d0887\"], [0.1111111111111111, \"#46039f\"], [0.2222222222222222, \"#7201a8\"], [0.3333333333333333, \"#9c179e\"], [0.4444444444444444, \"#bd3786\"], [0.5555555555555556, \"#d8576b\"], [0.6666666666666666, \"#ed7953\"], [0.7777777777777778, \"#fb9f3a\"], [0.8888888888888888, \"#fdca26\"], [1.0, \"#f0f921\"]], \"type\": \"surface\"}], \"table\": [{\"cells\": {\"fill\": {\"color\": \"#EBF0F8\"}, \"line\": {\"color\": \"white\"}}, \"header\": {\"fill\": {\"color\": \"#C8D4E3\"}, \"line\": {\"color\": \"white\"}}, \"type\": \"table\"}]}, \"layout\": {\"annotationdefaults\": {\"arrowcolor\": \"#2a3f5f\", \"arrowhead\": 0, \"arrowwidth\": 1}, \"coloraxis\": {\"colorbar\": {\"outlinewidth\": 0, \"ticks\": \"\"}}, \"colorscale\": {\"diverging\": [[0, \"#8e0152\"], [0.1, \"#c51b7d\"], [0.2, \"#de77ae\"], [0.3, \"#f1b6da\"], [0.4, \"#fde0ef\"], [0.5, \"#f7f7f7\"], [0.6, \"#e6f5d0\"], [0.7, \"#b8e186\"], [0.8, \"#7fbc41\"], [0.9, \"#4d9221\"], [1, \"#276419\"]], \"sequential\": [[0.0, \"#0d0887\"], [0.1111111111111111, \"#46039f\"], [0.2222222222222222, \"#7201a8\"], [0.3333333333333333, \"#9c179e\"], [0.4444444444444444, \"#bd3786\"], [0.5555555555555556, \"#d8576b\"], [0.6666666666666666, \"#ed7953\"], [0.7777777777777778, \"#fb9f3a\"], [0.8888888888888888, \"#fdca26\"], [1.0, \"#f0f921\"]], \"sequentialminus\": [[0.0, \"#0d0887\"], [0.1111111111111111, \"#46039f\"], [0.2222222222222222, \"#7201a8\"], [0.3333333333333333, \"#9c179e\"], [0.4444444444444444, \"#bd3786\"], [0.5555555555555556, \"#d8576b\"], [0.6666666666666666, \"#ed7953\"], [0.7777777777777778, \"#fb9f3a\"], [0.8888888888888888, \"#fdca26\"], [1.0, \"#f0f921\"]]}, \"colorway\": [\"#636efa\", \"#EF553B\", \"#00cc96\", \"#ab63fa\", \"#FFA15A\", \"#19d3f3\", \"#FF6692\", \"#B6E880\", \"#FF97FF\", \"#FECB52\"], \"font\": {\"color\": \"#2a3f5f\"}, \"geo\": {\"bgcolor\": \"white\", \"lakecolor\": \"white\", \"landcolor\": \"#E5ECF6\", \"showlakes\": true, \"showland\": true, \"subunitcolor\": \"white\"}, \"hoverlabel\": {\"align\": \"left\"}, \"hovermode\": \"closest\", \"mapbox\": {\"style\": \"light\"}, \"paper_bgcolor\": \"white\", \"plot_bgcolor\": \"#E5ECF6\", \"polar\": {\"angularaxis\": {\"gridcolor\": \"white\", \"linecolor\": \"white\", \"ticks\": \"\"}, \"bgcolor\": \"#E5ECF6\", \"radialaxis\": {\"gridcolor\": \"white\", \"linecolor\": \"white\", \"ticks\": \"\"}}, \"scene\": {\"xaxis\": {\"backgroundcolor\": \"#E5ECF6\", \"gridcolor\": \"white\", \"gridwidth\": 2, \"linecolor\": \"white\", \"showbackground\": true, \"ticks\": \"\", \"zerolinecolor\": \"white\"}, \"yaxis\": {\"backgroundcolor\": \"#E5ECF6\", \"gridcolor\": \"white\", \"gridwidth\": 2, \"linecolor\": \"white\", \"showbackground\": true, \"ticks\": \"\", \"zerolinecolor\": \"white\"}, \"zaxis\": {\"backgroundcolor\": \"#E5ECF6\", \"gridcolor\": \"white\", \"gridwidth\": 2, \"linecolor\": \"white\", \"showbackground\": true, \"ticks\": \"\", \"zerolinecolor\": \"white\"}}, \"shapedefaults\": {\"line\": {\"color\": \"#2a3f5f\"}}, \"ternary\": {\"aaxis\": {\"gridcolor\": \"white\", \"linecolor\": \"white\", \"ticks\": \"\"}, \"baxis\": {\"gridcolor\": \"white\", \"linecolor\": \"white\", \"ticks\": \"\"}, \"bgcolor\": \"#E5ECF6\", \"caxis\": {\"gridcolor\": \"white\", \"linecolor\": \"white\", \"ticks\": \"\"}}, \"title\": {\"x\": 0.05}, \"xaxis\": {\"automargin\": true, \"gridcolor\": \"white\", \"linecolor\": \"white\", \"ticks\": \"\", \"title\": {\"standoff\": 15}, \"zerolinecolor\": \"white\", \"zerolinewidth\": 2}, \"yaxis\": {\"automargin\": true, \"gridcolor\": \"white\", \"linecolor\": \"white\", \"ticks\": \"\", \"title\": {\"standoff\": 15}, \"zerolinecolor\": \"white\", \"zerolinewidth\": 2}}}, \"title\": {\"text\": \"New York\", \"x\": 0.5, \"xanchor\": \"center\", \"y\": 0.9, \"yanchor\": \"top\"}, \"width\": 600},\n",
       "                        {\"responsive\": true}\n",
       "                    ).then(function(){\n",
       "                            \n",
       "var gd = document.getElementById('fe5a4fde-fb0f-4651-ba8c-58517738101e');\n",
=======
       "                if (document.getElementById(\"9e14a512-e891-4f43-9910-921840acce98\")) {\n",
       "                    Plotly.newPlot(\n",
       "                        '9e14a512-e891-4f43-9910-921840acce98',\n",
       "                        [{\"hovertemplate\": \"Alabama: %{x} - %{y} <extra></extra>\", \"name\": \"Alabama\", \"type\": \"scatter\", \"visible\": true, \"x\": [\"2020-03-13\", \"2020-03-14\", \"2020-03-15\", \"2020-03-16\", \"2020-03-17\", \"2020-03-18\", \"2020-03-19\", \"2020-03-20\", \"2020-03-21\", \"2020-03-22\", \"2020-03-23\", \"2020-03-24\", \"2020-03-25\", \"2020-03-26\", \"2020-03-27\", \"2020-03-28\", \"2020-03-29\", \"2020-03-30\", \"2020-03-31\"], \"y\": [6, 12, 23, 29, 39, 51, 78, 106, 131, 157, 196, 242, 386, 538, 639, 720, 830, 947, 999]}, {\"hovertemplate\": \"Alaska: %{x} - %{y} <extra></extra>\", \"name\": \"Alaska\", \"type\": \"scatter\", \"visible\": true, \"x\": [\"2020-03-12\", \"2020-03-13\", \"2020-03-14\", \"2020-03-15\", \"2020-03-16\", \"2020-03-17\", \"2020-03-18\", \"2020-03-19\", \"2020-03-20\", \"2020-03-21\", \"2020-03-22\", \"2020-03-23\", \"2020-03-24\", \"2020-03-25\", \"2020-03-26\", \"2020-03-27\", \"2020-03-28\", \"2020-03-29\", \"2020-03-30\", \"2020-03-31\"], \"y\": [1, 1, 1, 1, 3, 6, 9, 12, 14, 21, 22, 36, 42, 59, 69, 85, 102, 114, 120, 133]}, {\"hovertemplate\": \"Arizona: %{x} - %{y} <extra></extra>\", \"name\": \"Arizona\", \"type\": \"scatter\", \"visible\": true, \"x\": [\"2020-01-26\", \"2020-01-27\", \"2020-01-28\", \"2020-01-29\", \"2020-01-30\", \"2020-01-31\", \"2020-02-01\", \"2020-02-02\", \"2020-02-03\", \"2020-02-04\", \"2020-02-05\", \"2020-02-06\", \"2020-02-07\", \"2020-02-08\", \"2020-02-09\", \"2020-02-10\", \"2020-02-11\", \"2020-02-12\", \"2020-02-13\", \"2020-02-14\", \"2020-02-15\", \"2020-02-16\", \"2020-02-17\", \"2020-02-18\", \"2020-02-19\", \"2020-02-20\", \"2020-02-21\", \"2020-02-22\", \"2020-02-23\", \"2020-02-24\", \"2020-02-25\", \"2020-02-26\", \"2020-02-27\", \"2020-02-28\", \"2020-02-29\", \"2020-03-01\", \"2020-03-02\", \"2020-03-03\", \"2020-03-04\", \"2020-03-05\", \"2020-03-06\", \"2020-03-07\", \"2020-03-08\", \"2020-03-09\", \"2020-03-10\", \"2020-03-11\", \"2020-03-12\", \"2020-03-13\", \"2020-03-14\", \"2020-03-15\", \"2020-03-16\", \"2020-03-17\", \"2020-03-18\", \"2020-03-19\", \"2020-03-20\", \"2020-03-21\", \"2020-03-22\", \"2020-03-23\", \"2020-03-24\", \"2020-03-25\", \"2020-03-26\", \"2020-03-27\", \"2020-03-28\", \"2020-03-29\", \"2020-03-30\", \"2020-03-31\"], \"y\": [1, 1, 1, 1, 1, 1, 1, 1, 1, 1, 1, 1, 1, 1, 1, 1, 1, 1, 1, 1, 1, 1, 1, 1, 1, 1, 1, 1, 1, 1, 1, 1, 1, 1, 1, 1, 1, 2, 2, 2, 3, 5, 5, 6, 6, 9, 9, 9, 12, 13, 18, 20, 28, 47, 70, 104, 153, 234, 326, 402, 508, 665, 773, 930, 1169, 1298]}, {\"hovertemplate\": \"Arkansas: %{x} - %{y} <extra></extra>\", \"name\": \"Arkansas\", \"type\": \"scatter\", \"visible\": true, \"x\": [\"2020-03-11\", \"2020-03-12\", \"2020-03-13\", \"2020-03-14\", \"2020-03-15\", \"2020-03-16\", \"2020-03-17\", \"2020-03-18\", \"2020-03-19\", \"2020-03-20\", \"2020-03-21\", \"2020-03-22\", \"2020-03-23\", \"2020-03-24\", \"2020-03-25\", \"2020-03-26\", \"2020-03-27\", \"2020-03-28\", \"2020-03-29\", \"2020-03-30\", \"2020-03-31\"], \"y\": [1, 6, 7, 9, 16, 22, 22, 33, 62, 100, 118, 165, 201, 291, 367, 410, 442, 463, 505, 567, 620]}, {\"hovertemplate\": \"California: %{x} - %{y} <extra></extra>\", \"name\": \"California\", \"type\": \"scatter\", \"visible\": true, \"x\": [\"2020-01-25\", \"2020-01-26\", \"2020-01-27\", \"2020-01-28\", \"2020-01-29\", \"2020-01-30\", \"2020-01-31\", \"2020-02-01\", \"2020-02-02\", \"2020-02-03\", \"2020-02-04\", \"2020-02-05\", \"2020-02-06\", \"2020-02-07\", \"2020-02-08\", \"2020-02-09\", \"2020-02-10\", \"2020-02-11\", \"2020-02-12\", \"2020-02-13\", \"2020-02-14\", \"2020-02-15\", \"2020-02-16\", \"2020-02-17\", \"2020-02-18\", \"2020-02-19\", \"2020-02-20\", \"2020-02-21\", \"2020-02-22\", \"2020-02-23\", \"2020-02-24\", \"2020-02-25\", \"2020-02-26\", \"2020-02-27\", \"2020-02-28\", \"2020-02-29\", \"2020-03-01\", \"2020-03-02\", \"2020-03-03\", \"2020-03-04\", \"2020-03-05\", \"2020-03-06\", \"2020-03-07\", \"2020-03-08\", \"2020-03-09\", \"2020-03-10\", \"2020-03-11\", \"2020-03-12\", \"2020-03-13\", \"2020-03-14\", \"2020-03-15\", \"2020-03-16\", \"2020-03-17\", \"2020-03-18\", \"2020-03-19\", \"2020-03-20\", \"2020-03-21\", \"2020-03-22\", \"2020-03-23\", \"2020-03-24\", \"2020-03-25\", \"2020-03-26\", \"2020-03-27\", \"2020-03-28\", \"2020-03-29\", \"2020-03-30\", \"2020-03-31\"], \"y\": [1, 2, 2, 2, 2, 2, 3, 3, 6, 6, 6, 6, 6, 6, 6, 6, 7, 7, 7, 7, 7, 7, 7, 7, 7, 7, 8, 9, 9, 9, 11, 11, 26, 26, 27, 28, 33, 38, 45, 55, 67, 81, 100, 112, 172, 179, 202, 252, 320, 381, 478, 588, 732, 893, 1067, 1283, 1544, 1851, 2240, 2646, 3185, 4062, 4917, 5568, 6323, 7423, 8585]}, {\"hovertemplate\": \"Colorado: %{x} - %{y} <extra></extra>\", \"name\": \"Colorado\", \"type\": \"scatter\", \"visible\": true, \"x\": [\"2020-03-05\", \"2020-03-06\", \"2020-03-07\", \"2020-03-08\", \"2020-03-09\", \"2020-03-10\", \"2020-03-11\", \"2020-03-12\", \"2020-03-13\", \"2020-03-14\", \"2020-03-15\", \"2020-03-16\", \"2020-03-17\", \"2020-03-18\", \"2020-03-19\", \"2020-03-20\", \"2020-03-21\", \"2020-03-22\", \"2020-03-23\", \"2020-03-24\", \"2020-03-25\", \"2020-03-26\", \"2020-03-27\", \"2020-03-28\", \"2020-03-29\", \"2020-03-30\", \"2020-03-31\"], \"y\": [2, 8, 8, 8, 12, 17, 34, 49, 78, 103, 136, 161, 183, 216, 278, 364, 475, 591, 721, 912, 1086, 1432, 1735, 2063, 2315, 2656, 2990]}, {\"hovertemplate\": \"Connecticut: %{x} - %{y} <extra></extra>\", \"name\": \"Connecticut\", \"type\": \"scatter\", \"visible\": true, \"x\": [\"2020-03-08\", \"2020-03-09\", \"2020-03-10\", \"2020-03-11\", \"2020-03-12\", \"2020-03-13\", \"2020-03-14\", \"2020-03-15\", \"2020-03-16\", \"2020-03-17\", \"2020-03-18\", \"2020-03-19\", \"2020-03-20\", \"2020-03-21\", \"2020-03-22\", \"2020-03-23\", \"2020-03-24\", \"2020-03-25\", \"2020-03-26\", \"2020-03-27\", \"2020-03-28\", \"2020-03-29\", \"2020-03-30\", \"2020-03-31\"], \"y\": [1, 2, 2, 3, 6, 11, 20, 26, 41, 68, 96, 159, 194, 223, 327, 415, 618, 875, 1012, 1291, 1524, 1993, 2571, 3128]}, {\"hovertemplate\": \"Delaware: %{x} - %{y} <extra></extra>\", \"name\": \"Delaware\", \"type\": \"scatter\", \"visible\": true, \"x\": [\"2020-03-11\", \"2020-03-12\", \"2020-03-13\", \"2020-03-14\", \"2020-03-15\", \"2020-03-16\", \"2020-03-17\", \"2020-03-18\", \"2020-03-19\", \"2020-03-20\", \"2020-03-21\", \"2020-03-22\", \"2020-03-23\", \"2020-03-24\", \"2020-03-25\", \"2020-03-26\", \"2020-03-27\", \"2020-03-28\", \"2020-03-29\", \"2020-03-30\", \"2020-03-31\"], \"y\": [1, 4, 4, 4, 7, 8, 16, 26, 30, 39, 45, 56, 87, 104, 119, 143, 165, 214, 232, 264, 319]}, {\"hovertemplate\": \"District of Columbia: %{x} - %{y} <extra></extra>\", \"name\": \"District of Columbia\", \"type\": \"scatter\", \"visible\": true, \"x\": [\"2020-03-07\", \"2020-03-08\", \"2020-03-09\", \"2020-03-10\", \"2020-03-11\", \"2020-03-12\", \"2020-03-13\", \"2020-03-14\", \"2020-03-15\", \"2020-03-16\", \"2020-03-17\", \"2020-03-18\", \"2020-03-19\", \"2020-03-20\", \"2020-03-21\", \"2020-03-22\", \"2020-03-23\", \"2020-03-24\", \"2020-03-25\", \"2020-03-26\", \"2020-03-27\", \"2020-03-28\", \"2020-03-29\", \"2020-03-30\", \"2020-03-31\"], \"y\": [1, 1, 4, 4, 10, 10, 10, 16, 17, 22, 31, 36, 68, 77, 98, 116, 138, 183, 231, 267, 304, 342, 342, 495, 495]}, {\"hovertemplate\": \"Florida: %{x} - %{y} <extra></extra>\", \"name\": \"Florida\", \"type\": \"scatter\", \"visible\": true, \"x\": [\"2020-03-01\", \"2020-03-02\", \"2020-03-03\", \"2020-03-04\", \"2020-03-05\", \"2020-03-06\", \"2020-03-07\", \"2020-03-08\", \"2020-03-09\", \"2020-03-10\", \"2020-03-11\", \"2020-03-12\", \"2020-03-13\", \"2020-03-14\", \"2020-03-15\", \"2020-03-16\", \"2020-03-17\", \"2020-03-18\", \"2020-03-19\", \"2020-03-20\", \"2020-03-21\", \"2020-03-22\", \"2020-03-23\", \"2020-03-24\", \"2020-03-25\", \"2020-03-26\", \"2020-03-27\", \"2020-03-28\", \"2020-03-29\", \"2020-03-30\", \"2020-03-31\"], \"y\": [2, 2, 3, 3, 4, 7, 12, 13, 14, 23, 26, 46, 70, 70, 109, 141, 210, 326, 434, 564, 764, 1000, 1222, 1458, 1971, 2479, 3199, 4039, 4944, 5696, 6744]}, {\"hovertemplate\": \"Georgia: %{x} - %{y} <extra></extra>\", \"name\": \"Georgia\", \"type\": \"scatter\", \"visible\": true, \"x\": [\"2020-03-02\", \"2020-03-03\", \"2020-03-04\", \"2020-03-05\", \"2020-03-06\", \"2020-03-07\", \"2020-03-08\", \"2020-03-09\", \"2020-03-10\", \"2020-03-11\", \"2020-03-12\", \"2020-03-13\", \"2020-03-14\", \"2020-03-15\", \"2020-03-16\", \"2020-03-17\", \"2020-03-18\", \"2020-03-19\", \"2020-03-20\", \"2020-03-21\", \"2020-03-22\", \"2020-03-23\", \"2020-03-24\", \"2020-03-25\", \"2020-03-26\", \"2020-03-27\", \"2020-03-28\", \"2020-03-29\", \"2020-03-30\", \"2020-03-31\"], \"y\": [2, 2, 2, 2, 3, 7, 11, 17, 22, 31, 31, 41, 65, 97, 118, 142, 193, 282, 482, 552, 620, 800, 1098, 1393, 1649, 2211, 2448, 2687, 3032, 4126]}, {\"hovertemplate\": \"Guam: %{x} - %{y} <extra></extra>\", \"name\": \"Guam\", \"type\": \"scatter\", \"visible\": true, \"x\": [\"2020-03-15\", \"2020-03-16\", \"2020-03-17\", \"2020-03-18\", \"2020-03-19\", \"2020-03-20\", \"2020-03-21\", \"2020-03-22\", \"2020-03-23\", \"2020-03-24\", \"2020-03-25\", \"2020-03-26\", \"2020-03-27\", \"2020-03-28\", \"2020-03-29\", \"2020-03-30\", \"2020-03-31\"], \"y\": [3, 3, 3, 8, 12, 14, 15, 27, 29, 32, 32, 49, 53, 57, 58, 60, 139]}, {\"hovertemplate\": \"Hawaii: %{x} - %{y} <extra></extra>\", \"name\": \"Hawaii\", \"type\": \"scatter\", \"visible\": true, \"x\": [\"2020-03-06\", \"2020-03-07\", \"2020-03-08\", \"2020-03-09\", \"2020-03-10\", \"2020-03-11\", \"2020-03-12\", \"2020-03-13\", \"2020-03-14\", \"2020-03-15\", \"2020-03-16\", \"2020-03-17\", \"2020-03-18\", \"2020-03-19\", \"2020-03-20\", \"2020-03-21\", \"2020-03-22\", \"2020-03-23\", \"2020-03-24\", \"2020-03-25\", \"2020-03-26\", \"2020-03-27\", \"2020-03-28\", \"2020-03-29\", \"2020-03-30\", \"2020-03-31\"], \"y\": [1, 1, 2, 2, 2, 2, 2, 2, 4, 7, 10, 14, 16, 26, 37, 48, 56, 77, 97, 96, 106, 120, 150, 173, 199, 224]}, {\"hovertemplate\": \"Idaho: %{x} - %{y} <extra></extra>\", \"name\": \"Idaho\", \"type\": \"scatter\", \"visible\": true, \"x\": [\"2020-03-13\", \"2020-03-14\", \"2020-03-15\", \"2020-03-16\", \"2020-03-17\", \"2020-03-18\", \"2020-03-19\", \"2020-03-20\", \"2020-03-21\", \"2020-03-22\", \"2020-03-23\", \"2020-03-24\", \"2020-03-25\", \"2020-03-26\", \"2020-03-27\", \"2020-03-28\", \"2020-03-29\", \"2020-03-30\", \"2020-03-31\"], \"y\": [1, 5, 5, 5, 9, 11, 23, 31, 42, 47, 50, 73, 123, 189, 233, 262, 310, 415, 526]}, {\"hovertemplate\": \"Illinois: %{x} - %{y} <extra></extra>\", \"name\": \"Illinois\", \"type\": \"scatter\", \"visible\": true, \"x\": [\"2020-01-24\", \"2020-01-25\", \"2020-01-26\", \"2020-01-27\", \"2020-01-28\", \"2020-01-29\", \"2020-01-30\", \"2020-01-31\", \"2020-02-01\", \"2020-02-02\", \"2020-02-03\", \"2020-02-04\", \"2020-02-05\", \"2020-02-06\", \"2020-02-07\", \"2020-02-08\", \"2020-02-09\", \"2020-02-10\", \"2020-02-11\", \"2020-02-12\", \"2020-02-13\", \"2020-02-14\", \"2020-02-15\", \"2020-02-16\", \"2020-02-17\", \"2020-02-18\", \"2020-02-19\", \"2020-02-20\", \"2020-02-21\", \"2020-02-22\", \"2020-02-23\", \"2020-02-24\", \"2020-02-25\", \"2020-02-26\", \"2020-02-27\", \"2020-02-28\", \"2020-02-29\", \"2020-03-01\", \"2020-03-02\", \"2020-03-03\", \"2020-03-04\", \"2020-03-05\", \"2020-03-06\", \"2020-03-07\", \"2020-03-08\", \"2020-03-09\", \"2020-03-10\", \"2020-03-11\", \"2020-03-12\", \"2020-03-13\", \"2020-03-14\", \"2020-03-15\", \"2020-03-16\", \"2020-03-17\", \"2020-03-18\", \"2020-03-19\", \"2020-03-20\", \"2020-03-21\", \"2020-03-22\", \"2020-03-23\", \"2020-03-24\", \"2020-03-25\", \"2020-03-26\", \"2020-03-27\", \"2020-03-28\", \"2020-03-29\", \"2020-03-30\", \"2020-03-31\"], \"y\": [1, 1, 1, 1, 1, 1, 2, 2, 2, 2, 2, 2, 2, 2, 2, 2, 2, 2, 2, 2, 2, 2, 2, 2, 2, 2, 2, 2, 2, 2, 2, 2, 2, 2, 2, 2, 3, 3, 4, 4, 4, 5, 6, 6, 7, 11, 19, 25, 32, 46, 66, 94, 104, 159, 286, 420, 583, 751, 1047, 1285, 1591, 1933, 2596, 3087, 3602, 4673, 5125, 6046]}, {\"hovertemplate\": \"Indiana: %{x} - %{y} <extra></extra>\", \"name\": \"Indiana\", \"type\": \"scatter\", \"visible\": true, \"x\": [\"2020-03-06\", \"2020-03-07\", \"2020-03-08\", \"2020-03-09\", \"2020-03-10\", \"2020-03-11\", \"2020-03-12\", \"2020-03-13\", \"2020-03-14\", \"2020-03-15\", \"2020-03-16\", \"2020-03-17\", \"2020-03-18\", \"2020-03-19\", \"2020-03-20\", \"2020-03-21\", \"2020-03-22\", \"2020-03-23\", \"2020-03-24\", \"2020-03-25\", \"2020-03-26\", \"2020-03-27\", \"2020-03-28\", \"2020-03-29\", \"2020-03-30\", \"2020-03-31\"], \"y\": [1, 1, 2, 4, 6, 11, 12, 12, 15, 19, 24, 30, 39, 56, 79, 126, 201, 259, 366, 479, 656, 986, 1232, 1514, 1788, 2168]}, {\"hovertemplate\": \"Iowa: %{x} - %{y} <extra></extra>\", \"name\": \"Iowa\", \"type\": \"scatter\", \"visible\": true, \"x\": [\"2020-03-08\", \"2020-03-09\", \"2020-03-10\", \"2020-03-11\", \"2020-03-12\", \"2020-03-13\", \"2020-03-14\", \"2020-03-15\", \"2020-03-16\", \"2020-03-17\", \"2020-03-18\", \"2020-03-19\", \"2020-03-20\", \"2020-03-21\", \"2020-03-22\", \"2020-03-23\", \"2020-03-24\", \"2020-03-25\", \"2020-03-26\", \"2020-03-27\", \"2020-03-28\", \"2020-03-29\", \"2020-03-30\", \"2020-03-31\"], \"y\": [3, 8, 13, 14, 16, 17, 18, 22, 22, 29, 38, 44, 45, 68, 90, 105, 124, 147, 179, 236, 298, 336, 424, 498]}, {\"hovertemplate\": \"Kansas: %{x} - %{y} <extra></extra>\", \"name\": \"Kansas\", \"type\": \"scatter\", \"visible\": true, \"x\": [\"2020-03-07\", \"2020-03-08\", \"2020-03-09\", \"2020-03-10\", \"2020-03-11\", \"2020-03-12\", \"2020-03-13\", \"2020-03-14\", \"2020-03-15\", \"2020-03-16\", \"2020-03-17\", \"2020-03-18\", \"2020-03-19\", \"2020-03-20\", \"2020-03-21\", \"2020-03-22\", \"2020-03-23\", \"2020-03-24\", \"2020-03-25\", \"2020-03-26\", \"2020-03-27\", \"2020-03-28\", \"2020-03-29\", \"2020-03-30\", \"2020-03-31\"], \"y\": [1, 1, 1, 1, 1, 5, 6, 8, 9, 11, 17, 22, 35, 49, 57, 66, 82, 102, 134, 173, 213, 272, 333, 374, 435]}, {\"hovertemplate\": \"Kentucky: %{x} - %{y} <extra></extra>\", \"name\": \"Kentucky\", \"type\": \"scatter\", \"visible\": true, \"x\": [\"2020-03-06\", \"2020-03-07\", \"2020-03-08\", \"2020-03-09\", \"2020-03-10\", \"2020-03-11\", \"2020-03-12\", \"2020-03-13\", \"2020-03-14\", \"2020-03-15\", \"2020-03-16\", \"2020-03-17\", \"2020-03-18\", \"2020-03-19\", \"2020-03-20\", \"2020-03-21\", \"2020-03-22\", \"2020-03-23\", \"2020-03-24\", \"2020-03-25\", \"2020-03-26\", \"2020-03-27\", \"2020-03-28\", \"2020-03-29\", \"2020-03-30\", \"2020-03-31\"], \"y\": [1, 1, 4, 5, 7, 7, 11, 11, 18, 21, 22, 26, 35, 47, 63, 84, 103, 124, 162, 203, 252, 306, 398, 443, 484, 599]}, {\"hovertemplate\": \"Louisiana: %{x} - %{y} <extra></extra>\", \"name\": \"Louisiana\", \"type\": \"scatter\", \"visible\": true, \"x\": [\"2020-03-09\", \"2020-03-10\", \"2020-03-11\", \"2020-03-12\", \"2020-03-13\", \"2020-03-14\", \"2020-03-15\", \"2020-03-16\", \"2020-03-17\", \"2020-03-18\", \"2020-03-19\", \"2020-03-20\", \"2020-03-21\", \"2020-03-22\", \"2020-03-23\", \"2020-03-24\", \"2020-03-25\", \"2020-03-26\", \"2020-03-27\", \"2020-03-28\", \"2020-03-29\", \"2020-03-30\", \"2020-03-31\"], \"y\": [1, 6, 13, 14, 36, 77, 103, 137, 196, 280, 392, 537, 763, 837, 1172, 1390, 1798, 2306, 2746, 3318, 3544, 4025, 5237]}, {\"hovertemplate\": \"Maine: %{x} - %{y} <extra></extra>\", \"name\": \"Maine\", \"type\": \"scatter\", \"visible\": true, \"x\": [\"2020-03-12\", \"2020-03-13\", \"2020-03-14\", \"2020-03-15\", \"2020-03-16\", \"2020-03-17\", \"2020-03-18\", \"2020-03-19\", \"2020-03-20\", \"2020-03-21\", \"2020-03-22\", \"2020-03-23\", \"2020-03-24\", \"2020-03-25\", \"2020-03-26\", \"2020-03-27\", \"2020-03-28\", \"2020-03-29\", \"2020-03-30\", \"2020-03-31\"], \"y\": [1, 2, 3, 12, 17, 32, 43, 52, 57, 70, 89, 107, 123, 145, 159, 170, 213, 253, 275, 303]}, {\"hovertemplate\": \"Maryland: %{x} - %{y} <extra></extra>\", \"name\": \"Maryland\", \"type\": \"scatter\", \"visible\": true, \"x\": [\"2020-03-05\", \"2020-03-06\", \"2020-03-07\", \"2020-03-08\", \"2020-03-09\", \"2020-03-10\", \"2020-03-11\", \"2020-03-12\", \"2020-03-13\", \"2020-03-14\", \"2020-03-15\", \"2020-03-16\", \"2020-03-17\", \"2020-03-18\", \"2020-03-19\", \"2020-03-20\", \"2020-03-21\", \"2020-03-22\", \"2020-03-23\", \"2020-03-24\", \"2020-03-25\", \"2020-03-26\", \"2020-03-27\", \"2020-03-28\", \"2020-03-29\", \"2020-03-30\", \"2020-03-31\"], \"y\": [3, 3, 3, 5, 6, 9, 13, 13, 18, 27, 32, 39, 57, 85, 108, 150, 195, 245, 290, 349, 423, 581, 790, 1066, 1244, 1415, 1662]}, {\"hovertemplate\": \"Massachusetts: %{x} - %{y} <extra></extra>\", \"name\": \"Massachusetts\", \"type\": \"scatter\", \"visible\": true, \"x\": [\"2020-02-01\", \"2020-02-02\", \"2020-02-03\", \"2020-02-04\", \"2020-02-05\", \"2020-02-06\", \"2020-02-07\", \"2020-02-08\", \"2020-02-09\", \"2020-02-10\", \"2020-02-11\", \"2020-02-12\", \"2020-02-13\", \"2020-02-14\", \"2020-02-15\", \"2020-02-16\", \"2020-02-17\", \"2020-02-18\", \"2020-02-19\", \"2020-02-20\", \"2020-02-21\", \"2020-02-22\", \"2020-02-23\", \"2020-02-24\", \"2020-02-25\", \"2020-02-26\", \"2020-02-27\", \"2020-02-28\", \"2020-02-29\", \"2020-03-01\", \"2020-03-02\", \"2020-03-03\", \"2020-03-04\", \"2020-03-05\", \"2020-03-06\", \"2020-03-07\", \"2020-03-08\", \"2020-03-09\", \"2020-03-10\", \"2020-03-11\", \"2020-03-12\", \"2020-03-13\", \"2020-03-14\", \"2020-03-15\", \"2020-03-16\", \"2020-03-17\", \"2020-03-18\", \"2020-03-19\", \"2020-03-20\", \"2020-03-21\", \"2020-03-22\", \"2020-03-23\", \"2020-03-24\", \"2020-03-25\", \"2020-03-26\", \"2020-03-27\", \"2020-03-28\", \"2020-03-29\", \"2020-03-30\", \"2020-03-31\"], \"y\": [1, 1, 1, 1, 1, 1, 1, 1, 1, 1, 1, 1, 1, 1, 1, 1, 1, 1, 1, 1, 1, 1, 1, 1, 1, 1, 1, 1, 1, 1, 2, 2, 2, 3, 8, 13, 28, 41, 92, 95, 108, 123, 138, 164, 197, 218, 256, 328, 413, 525, 646, 777, 1159, 1838, 2417, 3240, 4257, 4955, 5752, 6620]}, {\"hovertemplate\": \"Michigan: %{x} - %{y} <extra></extra>\", \"name\": \"Michigan\", \"type\": \"scatter\", \"visible\": true, \"x\": [\"2020-03-10\", \"2020-03-11\", \"2020-03-12\", \"2020-03-13\", \"2020-03-14\", \"2020-03-15\", \"2020-03-16\", \"2020-03-17\", \"2020-03-18\", \"2020-03-19\", \"2020-03-20\", \"2020-03-21\", \"2020-03-22\", \"2020-03-23\", \"2020-03-24\", \"2020-03-25\", \"2020-03-26\", \"2020-03-27\", \"2020-03-28\", \"2020-03-29\", \"2020-03-30\", \"2020-03-31\"], \"y\": [2, 2, 12, 25, 33, 53, 54, 65, 80, 334, 548, 787, 1033, 1324, 1783, 2286, 2878, 3652, 4637, 5473, 6509, 7630]}, {\"hovertemplate\": \"Minnesota: %{x} - %{y} <extra></extra>\", \"name\": \"Minnesota\", \"type\": \"scatter\", \"visible\": true, \"x\": [\"2020-03-06\", \"2020-03-07\", \"2020-03-08\", \"2020-03-09\", \"2020-03-10\", \"2020-03-11\", \"2020-03-12\", \"2020-03-13\", \"2020-03-14\", \"2020-03-15\", \"2020-03-16\", \"2020-03-17\", \"2020-03-18\", \"2020-03-19\", \"2020-03-20\", \"2020-03-21\", \"2020-03-22\", \"2020-03-23\", \"2020-03-24\", \"2020-03-25\", \"2020-03-26\", \"2020-03-27\", \"2020-03-28\", \"2020-03-29\", \"2020-03-30\", \"2020-03-31\"], \"y\": [1, 1, 2, 2, 3, 5, 9, 14, 21, 35, 54, 60, 77, 89, 115, 138, 171, 235, 264, 289, 346, 398, 444, 505, 577, 630]}, {\"hovertemplate\": \"Mississippi: %{x} - %{y} <extra></extra>\", \"name\": \"Mississippi\", \"type\": \"scatter\", \"visible\": true, \"x\": [\"2020-03-11\", \"2020-03-12\", \"2020-03-13\", \"2020-03-14\", \"2020-03-15\", \"2020-03-16\", \"2020-03-17\", \"2020-03-18\", \"2020-03-19\", \"2020-03-20\", \"2020-03-21\", \"2020-03-22\", \"2020-03-23\", \"2020-03-24\", \"2020-03-25\", \"2020-03-26\", \"2020-03-27\", \"2020-03-28\", \"2020-03-29\", \"2020-03-30\", \"2020-03-31\"], \"y\": [1, 1, 6, 6, 10, 12, 21, 34, 50, 80, 140, 207, 249, 320, 377, 487, 582, 669, 759, 848, 941]}, {\"hovertemplate\": \"Missouri: %{x} - %{y} <extra></extra>\", \"name\": \"Missouri\", \"type\": \"scatter\", \"visible\": true, \"x\": [\"2020-03-07\", \"2020-03-08\", \"2020-03-09\", \"2020-03-10\", \"2020-03-11\", \"2020-03-12\", \"2020-03-13\", \"2020-03-14\", \"2020-03-15\", \"2020-03-16\", \"2020-03-17\", \"2020-03-18\", \"2020-03-19\", \"2020-03-20\", \"2020-03-21\", \"2020-03-22\", \"2020-03-23\", \"2020-03-24\", \"2020-03-25\", \"2020-03-26\", \"2020-03-27\", \"2020-03-28\", \"2020-03-29\", \"2020-03-30\", \"2020-03-31\"], \"y\": [1, 1, 1, 1, 1, 2, 4, 5, 5, 9, 16, 21, 35, 73, 93, 130, 183, 287, 384, 518, 673, 840, 905, 1051, 1351]}, {\"hovertemplate\": \"Montana: %{x} - %{y} <extra></extra>\", \"name\": \"Montana\", \"type\": \"scatter\", \"visible\": true, \"x\": [\"2020-03-13\", \"2020-03-14\", \"2020-03-15\", \"2020-03-16\", \"2020-03-17\", \"2020-03-18\", \"2020-03-19\", \"2020-03-20\", \"2020-03-21\", \"2020-03-22\", \"2020-03-23\", \"2020-03-24\", \"2020-03-25\", \"2020-03-26\", \"2020-03-27\", \"2020-03-28\", \"2020-03-29\", \"2020-03-30\", \"2020-03-31\"], \"y\": [4, 6, 6, 8, 8, 12, 19, 19, 29, 34, 45, 51, 65, 90, 121, 147, 161, 177, 198]}, {\"hovertemplate\": \"Nebraska: %{x} - %{y} <extra></extra>\", \"name\": \"Nebraska\", \"type\": \"scatter\", \"visible\": true, \"x\": [\"2020-02-17\", \"2020-02-18\", \"2020-02-19\", \"2020-02-20\", \"2020-02-21\", \"2020-02-22\", \"2020-02-23\", \"2020-02-24\", \"2020-02-25\", \"2020-02-26\", \"2020-02-27\", \"2020-02-28\", \"2020-02-29\", \"2020-03-01\", \"2020-03-02\", \"2020-03-03\", \"2020-03-04\", \"2020-03-05\", \"2020-03-06\", \"2020-03-07\", \"2020-03-08\", \"2020-03-09\", \"2020-03-10\", \"2020-03-11\", \"2020-03-12\", \"2020-03-13\", \"2020-03-14\", \"2020-03-15\", \"2020-03-16\", \"2020-03-17\", \"2020-03-18\", \"2020-03-19\", \"2020-03-20\", \"2020-03-21\", \"2020-03-22\", \"2020-03-23\", \"2020-03-24\", \"2020-03-25\", \"2020-03-26\", \"2020-03-27\", \"2020-03-28\", \"2020-03-29\", \"2020-03-30\", \"2020-03-31\"], \"y\": [10, 10, 10, 11, 11, 11, 11, 12, 13, 13, 13, 13, 13, 13, 13, 13, 13, 13, 14, 14, 16, 16, 17, 23, 24, 27, 29, 31, 33, 36, 43, 47, 53, 61, 62, 73, 77, 84, 92, 103, 123, 141, 185, 201]}, {\"hovertemplate\": \"Nevada: %{x} - %{y} <extra></extra>\", \"name\": \"Nevada\", \"type\": \"scatter\", \"visible\": true, \"x\": [\"2020-03-05\", \"2020-03-06\", \"2020-03-07\", \"2020-03-08\", \"2020-03-09\", \"2020-03-10\", \"2020-03-11\", \"2020-03-12\", \"2020-03-13\", \"2020-03-14\", \"2020-03-15\", \"2020-03-16\", \"2020-03-17\", \"2020-03-18\", \"2020-03-19\", \"2020-03-20\", \"2020-03-21\", \"2020-03-22\", \"2020-03-23\", \"2020-03-24\", \"2020-03-25\", \"2020-03-26\", \"2020-03-27\", \"2020-03-28\", \"2020-03-29\", \"2020-03-30\", \"2020-03-31\"], \"y\": [2, 2, 2, 4, 4, 4, 7, 11, 19, 21, 26, 45, 55, 82, 99, 165, 165, 190, 265, 383, 406, 535, 621, 738, 920, 1044, 1113]}, {\"hovertemplate\": \"New Hampshire: %{x} - %{y} <extra></extra>\", \"name\": \"New Hampshire\", \"type\": \"scatter\", \"visible\": true, \"x\": [\"2020-03-02\", \"2020-03-03\", \"2020-03-04\", \"2020-03-05\", \"2020-03-06\", \"2020-03-07\", \"2020-03-08\", \"2020-03-09\", \"2020-03-10\", \"2020-03-11\", \"2020-03-12\", \"2020-03-13\", \"2020-03-14\", \"2020-03-15\", \"2020-03-16\", \"2020-03-17\", \"2020-03-18\", \"2020-03-19\", \"2020-03-20\", \"2020-03-21\", \"2020-03-22\", \"2020-03-23\", \"2020-03-24\", \"2020-03-25\", \"2020-03-26\", \"2020-03-27\", \"2020-03-28\", \"2020-03-29\", \"2020-03-30\", \"2020-03-31\"], \"y\": [1, 2, 2, 2, 2, 4, 4, 4, 5, 5, 6, 7, 7, 13, 17, 26, 39, 44, 55, 65, 78, 101, 108, 137, 158, 187, 214, 258, 314, 367]}, {\"hovertemplate\": \"New Jersey: %{x} - %{y} <extra></extra>\", \"name\": \"New Jersey\", \"type\": \"scatter\", \"visible\": true, \"x\": [\"2020-03-04\", \"2020-03-05\", \"2020-03-06\", \"2020-03-07\", \"2020-03-08\", \"2020-03-09\", \"2020-03-10\", \"2020-03-11\", \"2020-03-12\", \"2020-03-13\", \"2020-03-14\", \"2020-03-15\", \"2020-03-16\", \"2020-03-17\", \"2020-03-18\", \"2020-03-19\", \"2020-03-20\", \"2020-03-21\", \"2020-03-22\", \"2020-03-23\", \"2020-03-24\", \"2020-03-25\", \"2020-03-26\", \"2020-03-27\", \"2020-03-28\", \"2020-03-29\", \"2020-03-30\", \"2020-03-31\"], \"y\": [1, 2, 4, 4, 6, 11, 15, 23, 29, 50, 75, 98, 176, 268, 427, 735, 896, 1336, 1914, 2844, 3675, 4402, 6876, 8825, 11124, 13386, 16636, 18696]}, {\"hovertemplate\": \"New Mexico: %{x} - %{y} <extra></extra>\", \"name\": \"New Mexico\", \"type\": \"scatter\", \"visible\": true, \"x\": [\"2020-03-11\", \"2020-03-12\", \"2020-03-13\", \"2020-03-14\", \"2020-03-15\", \"2020-03-16\", \"2020-03-17\", \"2020-03-18\", \"2020-03-19\", \"2020-03-20\", \"2020-03-21\", \"2020-03-22\", \"2020-03-23\", \"2020-03-24\", \"2020-03-25\", \"2020-03-26\", \"2020-03-27\", \"2020-03-28\", \"2020-03-29\", \"2020-03-30\", \"2020-03-31\"], \"y\": [4, 6, 10, 13, 17, 21, 23, 28, 35, 43, 57, 65, 83, 100, 113, 136, 191, 210, 237, 282, 315]}, {\"hovertemplate\": \"New York: %{x} - %{y} <extra></extra>\", \"name\": \"New York\", \"type\": \"scatter\", \"visible\": true, \"x\": [\"2020-03-01\", \"2020-03-02\", \"2020-03-03\", \"2020-03-04\", \"2020-03-05\", \"2020-03-06\", \"2020-03-07\", \"2020-03-08\", \"2020-03-09\", \"2020-03-10\", \"2020-03-11\", \"2020-03-12\", \"2020-03-13\", \"2020-03-14\", \"2020-03-15\", \"2020-03-16\", \"2020-03-17\", \"2020-03-18\", \"2020-03-19\", \"2020-03-20\", \"2020-03-21\", \"2020-03-22\", \"2020-03-23\", \"2020-03-24\", \"2020-03-25\", \"2020-03-26\", \"2020-03-27\", \"2020-03-28\", \"2020-03-29\", \"2020-03-30\", \"2020-03-31\"], \"y\": [1, 1, 2, 11, 22, 44, 89, 106, 142, 173, 217, 326, 421, 610, 732, 950, 1374, 2382, 4152, 7102, 10356, 15168, 20875, 25666, 33067, 38988, 44636, 53364, 59568, 67216, 75832]}, {\"hovertemplate\": \"North Carolina: %{x} - %{y} <extra></extra>\", \"name\": \"North Carolina\", \"type\": \"scatter\", \"visible\": true, \"x\": [\"2020-03-03\", \"2020-03-04\", \"2020-03-05\", \"2020-03-06\", \"2020-03-07\", \"2020-03-08\", \"2020-03-09\", \"2020-03-10\", \"2020-03-11\", \"2020-03-12\", \"2020-03-13\", \"2020-03-14\", \"2020-03-15\", \"2020-03-16\", \"2020-03-17\", \"2020-03-18\", \"2020-03-19\", \"2020-03-20\", \"2020-03-21\", \"2020-03-22\", \"2020-03-23\", \"2020-03-24\", \"2020-03-25\", \"2020-03-26\", \"2020-03-27\", \"2020-03-28\", \"2020-03-29\", \"2020-03-30\", \"2020-03-31\"], \"y\": [1, 1, 1, 2, 2, 2, 7, 7, 8, 16, 18, 25, 32, 34, 42, 66, 104, 144, 184, 269, 303, 399, 564, 640, 785, 973, 1169, 1305, 1529]}, {\"hovertemplate\": \"North Dakota: %{x} - %{y} <extra></extra>\", \"name\": \"North Dakota\", \"type\": \"scatter\", \"visible\": true, \"x\": [\"2020-03-11\", \"2020-03-12\", \"2020-03-13\", \"2020-03-14\", \"2020-03-15\", \"2020-03-16\", \"2020-03-17\", \"2020-03-18\", \"2020-03-19\", \"2020-03-20\", \"2020-03-21\", \"2020-03-22\", \"2020-03-23\", \"2020-03-24\", \"2020-03-25\", \"2020-03-26\", \"2020-03-27\", \"2020-03-28\", \"2020-03-29\", \"2020-03-30\", \"2020-03-31\"], \"y\": [1, 1, 1, 1, 1, 1, 5, 7, 19, 27, 28, 30, 32, 37, 45, 58, 68, 94, 98, 110, 126]}, {\"hovertemplate\": \"Northern Mariana Islands: %{x} - %{y} <extra></extra>\", \"name\": \"Northern Mariana Islands\", \"type\": \"scatter\", \"visible\": true, \"x\": [\"2020-03-28\", \"2020-03-29\", \"2020-03-30\", \"2020-03-31\"], \"y\": [2, 2, 2, 2]}, {\"hovertemplate\": \"Ohio: %{x} - %{y} <extra></extra>\", \"name\": \"Ohio\", \"type\": \"scatter\", \"visible\": true, \"x\": [\"2020-03-09\", \"2020-03-10\", \"2020-03-11\", \"2020-03-12\", \"2020-03-13\", \"2020-03-14\", \"2020-03-15\", \"2020-03-16\", \"2020-03-17\", \"2020-03-18\", \"2020-03-19\", \"2020-03-20\", \"2020-03-21\", \"2020-03-22\", \"2020-03-23\", \"2020-03-24\", \"2020-03-25\", \"2020-03-26\", \"2020-03-27\", \"2020-03-28\", \"2020-03-29\", \"2020-03-30\", \"2020-03-31\"], \"y\": [3, 3, 4, 5, 13, 26, 37, 50, 67, 90, 120, 169, 247, 351, 444, 564, 707, 868, 1144, 1406, 1665, 1933, 2199]}, {\"hovertemplate\": \"Oklahoma: %{x} - %{y} <extra></extra>\", \"name\": \"Oklahoma\", \"type\": \"scatter\", \"visible\": true, \"x\": [\"2020-03-06\", \"2020-03-07\", \"2020-03-08\", \"2020-03-09\", \"2020-03-10\", \"2020-03-11\", \"2020-03-12\", \"2020-03-13\", \"2020-03-14\", \"2020-03-15\", \"2020-03-16\", \"2020-03-17\", \"2020-03-18\", \"2020-03-19\", \"2020-03-20\", \"2020-03-21\", \"2020-03-22\", \"2020-03-23\", \"2020-03-24\", \"2020-03-25\", \"2020-03-26\", \"2020-03-27\", \"2020-03-28\", \"2020-03-29\", \"2020-03-30\", \"2020-03-31\"], \"y\": [1, 1, 1, 1, 2, 2, 2, 3, 4, 8, 10, 18, 29, 44, 49, 53, 67, 81, 106, 164, 248, 322, 377, 429, 481, 566]}, {\"hovertemplate\": \"Oregon: %{x} - %{y} <extra></extra>\", \"name\": \"Oregon\", \"type\": \"scatter\", \"visible\": true, \"x\": [\"2020-02-28\", \"2020-02-29\", \"2020-03-01\", \"2020-03-02\", \"2020-03-03\", \"2020-03-04\", \"2020-03-05\", \"2020-03-06\", \"2020-03-07\", \"2020-03-08\", \"2020-03-09\", \"2020-03-10\", \"2020-03-11\", \"2020-03-12\", \"2020-03-13\", \"2020-03-14\", \"2020-03-15\", \"2020-03-16\", \"2020-03-17\", \"2020-03-18\", \"2020-03-19\", \"2020-03-20\", \"2020-03-21\", \"2020-03-22\", \"2020-03-23\", \"2020-03-24\", \"2020-03-25\", \"2020-03-26\", \"2020-03-27\", \"2020-03-28\", \"2020-03-29\", \"2020-03-30\", \"2020-03-31\"], \"y\": [1, 1, 2, 2, 2, 2, 2, 2, 6, 13, 13, 14, 20, 30, 30, 36, 39, 46, 66, 74, 87, 114, 137, 161, 191, 209, 266, 316, 415, 480, 549, 607, 690]}, {\"hovertemplate\": \"Pennsylvania: %{x} - %{y} <extra></extra>\", \"name\": \"Pennsylvania\", \"type\": \"scatter\", \"visible\": true, \"x\": [\"2020-03-06\", \"2020-03-07\", \"2020-03-08\", \"2020-03-09\", \"2020-03-10\", \"2020-03-11\", \"2020-03-12\", \"2020-03-13\", \"2020-03-14\", \"2020-03-15\", \"2020-03-16\", \"2020-03-17\", \"2020-03-18\", \"2020-03-19\", \"2020-03-20\", \"2020-03-21\", \"2020-03-22\", \"2020-03-23\", \"2020-03-24\", \"2020-03-25\", \"2020-03-26\", \"2020-03-27\", \"2020-03-28\", \"2020-03-29\", \"2020-03-30\", \"2020-03-31\"], \"y\": [2, 4, 6, 10, 12, 16, 22, 41, 47, 68, 81, 101, 139, 187, 269, 388, 504, 644, 851, 1151, 1690, 2218, 2815, 3441, 4156, 4997]}, {\"hovertemplate\": \"Puerto Rico: %{x} - %{y} <extra></extra>\", \"name\": \"Puerto Rico\", \"type\": \"scatter\", \"visible\": true, \"x\": [\"2020-03-13\", \"2020-03-14\", \"2020-03-15\", \"2020-03-16\", \"2020-03-17\", \"2020-03-18\", \"2020-03-19\", \"2020-03-20\", \"2020-03-21\", \"2020-03-22\", \"2020-03-23\", \"2020-03-24\", \"2020-03-25\", \"2020-03-26\", \"2020-03-27\", \"2020-03-28\", \"2020-03-29\", \"2020-03-30\", \"2020-03-31\"], \"y\": [3, 4, 5, 5, 5, 5, 6, 14, 21, 23, 31, 39, 51, 64, 79, 100, 127, 174, 239]}, {\"hovertemplate\": \"Rhode Island: %{x} - %{y} <extra></extra>\", \"name\": \"Rhode Island\", \"type\": \"scatter\", \"visible\": true, \"x\": [\"2020-03-01\", \"2020-03-02\", \"2020-03-03\", \"2020-03-04\", \"2020-03-05\", \"2020-03-06\", \"2020-03-07\", \"2020-03-08\", \"2020-03-09\", \"2020-03-10\", \"2020-03-11\", \"2020-03-12\", \"2020-03-13\", \"2020-03-14\", \"2020-03-15\", \"2020-03-16\", \"2020-03-17\", \"2020-03-18\", \"2020-03-19\", \"2020-03-20\", \"2020-03-21\", \"2020-03-22\", \"2020-03-23\", \"2020-03-24\", \"2020-03-25\", \"2020-03-26\", \"2020-03-27\", \"2020-03-28\", \"2020-03-29\", \"2020-03-30\", \"2020-03-31\"], \"y\": [2, 2, 2, 2, 2, 3, 3, 3, 3, 5, 5, 5, 20, 20, 20, 21, 23, 33, 44, 44, 66, 83, 106, 124, 172, 177, 203, 239, 331, 415, 595]}, {\"hovertemplate\": \"South Carolina: %{x} - %{y} <extra></extra>\", \"name\": \"South Carolina\", \"type\": \"scatter\", \"visible\": true, \"x\": [\"2020-03-06\", \"2020-03-07\", \"2020-03-08\", \"2020-03-09\", \"2020-03-10\", \"2020-03-11\", \"2020-03-12\", \"2020-03-13\", \"2020-03-14\", \"2020-03-15\", \"2020-03-16\", \"2020-03-17\", \"2020-03-18\", \"2020-03-19\", \"2020-03-20\", \"2020-03-21\", \"2020-03-22\", \"2020-03-23\", \"2020-03-24\", \"2020-03-25\", \"2020-03-26\", \"2020-03-27\", \"2020-03-28\", \"2020-03-29\", \"2020-03-30\", \"2020-03-31\"], \"y\": [2, 2, 6, 7, 9, 10, 12, 13, 19, 28, 33, 47, 60, 81, 126, 172, 194, 299, 342, 425, 456, 542, 661, 775, 925, 1083]}, {\"hovertemplate\": \"South Dakota: %{x} - %{y} <extra></extra>\", \"name\": \"South Dakota\", \"type\": \"scatter\", \"visible\": true, \"x\": [\"2020-03-10\", \"2020-03-11\", \"2020-03-12\", \"2020-03-13\", \"2020-03-14\", \"2020-03-15\", \"2020-03-16\", \"2020-03-17\", \"2020-03-18\", \"2020-03-19\", \"2020-03-20\", \"2020-03-21\", \"2020-03-22\", \"2020-03-23\", \"2020-03-24\", \"2020-03-25\", \"2020-03-26\", \"2020-03-27\", \"2020-03-28\", \"2020-03-29\", \"2020-03-30\", \"2020-03-31\"], \"y\": [5, 8, 8, 9, 9, 9, 10, 11, 11, 14, 14, 14, 21, 28, 30, 41, 46, 58, 68, 90, 102, 108]}, {\"hovertemplate\": \"Tennessee: %{x} - %{y} <extra></extra>\", \"name\": \"Tennessee\", \"type\": \"scatter\", \"visible\": true, \"x\": [\"2020-03-05\", \"2020-03-06\", \"2020-03-07\", \"2020-03-08\", \"2020-03-09\", \"2020-03-10\", \"2020-03-11\", \"2020-03-12\", \"2020-03-13\", \"2020-03-14\", \"2020-03-15\", \"2020-03-16\", \"2020-03-17\", \"2020-03-18\", \"2020-03-19\", \"2020-03-20\", \"2020-03-21\", \"2020-03-22\", \"2020-03-23\", \"2020-03-24\", \"2020-03-25\", \"2020-03-26\", \"2020-03-27\", \"2020-03-28\", \"2020-03-29\", \"2020-03-30\", \"2020-03-31\"], \"y\": [1, 1, 1, 3, 4, 7, 8, 18, 26, 32, 39, 52, 73, 98, 155, 237, 312, 424, 522, 754, 837, 983, 1181, 1364, 1570, 1729, 1899]}, {\"hovertemplate\": \"Texas: %{x} - %{y} <extra></extra>\", \"name\": \"Texas\", \"type\": \"scatter\", \"visible\": true, \"x\": [\"2020-02-12\", \"2020-02-13\", \"2020-02-14\", \"2020-02-15\", \"2020-02-16\", \"2020-02-17\", \"2020-02-18\", \"2020-02-19\", \"2020-02-20\", \"2020-02-21\", \"2020-02-22\", \"2020-02-23\", \"2020-02-24\", \"2020-02-25\", \"2020-02-26\", \"2020-02-27\", \"2020-02-28\", \"2020-02-29\", \"2020-03-01\", \"2020-03-02\", \"2020-03-03\", \"2020-03-04\", \"2020-03-05\", \"2020-03-06\", \"2020-03-07\", \"2020-03-08\", \"2020-03-09\", \"2020-03-10\", \"2020-03-11\", \"2020-03-12\", \"2020-03-13\", \"2020-03-14\", \"2020-03-15\", \"2020-03-16\", \"2020-03-17\", \"2020-03-18\", \"2020-03-19\", \"2020-03-20\", \"2020-03-21\", \"2020-03-22\", \"2020-03-23\", \"2020-03-24\", \"2020-03-25\", \"2020-03-26\", \"2020-03-27\", \"2020-03-28\", \"2020-03-29\", \"2020-03-30\", \"2020-03-31\"], \"y\": [1, 2, 2, 2, 2, 2, 2, 2, 2, 4, 4, 4, 10, 10, 10, 10, 11, 11, 11, 11, 11, 12, 16, 19, 19, 23, 24, 31, 33, 41, 58, 69, 80, 87, 106, 166, 248, 377, 547, 632, 728, 857, 1119, 1543, 1943, 2374, 2719, 3046, 3594]}, {\"hovertemplate\": \"Utah: %{x} - %{y} <extra></extra>\", \"name\": \"Utah\", \"type\": \"scatter\", \"visible\": true, \"x\": [\"2020-02-25\", \"2020-02-26\", \"2020-02-27\", \"2020-02-28\", \"2020-02-29\", \"2020-03-01\", \"2020-03-02\", \"2020-03-03\", \"2020-03-04\", \"2020-03-05\", \"2020-03-06\", \"2020-03-07\", \"2020-03-08\", \"2020-03-09\", \"2020-03-10\", \"2020-03-11\", \"2020-03-12\", \"2020-03-13\", \"2020-03-14\", \"2020-03-15\", \"2020-03-16\", \"2020-03-17\", \"2020-03-18\", \"2020-03-19\", \"2020-03-20\", \"2020-03-21\", \"2020-03-22\", \"2020-03-23\", \"2020-03-24\", \"2020-03-25\", \"2020-03-26\", \"2020-03-27\", \"2020-03-28\", \"2020-03-29\", \"2020-03-30\", \"2020-03-31\"], \"y\": [1, 1, 1, 1, 1, 1, 1, 1, 1, 1, 3, 3, 3, 3, 4, 5, 7, 7, 21, 29, 40, 51, 65, 80, 112, 138, 182, 257, 299, 336, 402, 480, 608, 719, 806, 887]}, {\"hovertemplate\": \"Vermont: %{x} - %{y} <extra></extra>\", \"name\": \"Vermont\", \"type\": \"scatter\", \"visible\": true, \"x\": [\"2020-03-07\", \"2020-03-08\", \"2020-03-09\", \"2020-03-10\", \"2020-03-11\", \"2020-03-12\", \"2020-03-13\", \"2020-03-14\", \"2020-03-15\", \"2020-03-16\", \"2020-03-17\", \"2020-03-18\", \"2020-03-19\", \"2020-03-20\", \"2020-03-21\", \"2020-03-22\", \"2020-03-23\", \"2020-03-24\", \"2020-03-25\", \"2020-03-26\", \"2020-03-27\", \"2020-03-28\", \"2020-03-29\", \"2020-03-30\", \"2020-03-31\"], \"y\": [1, 1, 1, 1, 2, 2, 2, 5, 8, 12, 14, 19, 22, 29, 49, 52, 75, 116, 146, 173, 201, 227, 251, 277, 305]}, {\"hovertemplate\": \"Virgin Islands: %{x} - %{y} <extra></extra>\", \"name\": \"Virgin Islands\", \"type\": \"scatter\", \"visible\": true, \"x\": [\"2020-03-14\", \"2020-03-15\", \"2020-03-16\", \"2020-03-17\", \"2020-03-18\", \"2020-03-19\", \"2020-03-20\", \"2020-03-21\", \"2020-03-22\", \"2020-03-23\", \"2020-03-24\", \"2020-03-25\", \"2020-03-26\", \"2020-03-27\", \"2020-03-28\", \"2020-03-29\", \"2020-03-30\", \"2020-03-31\"], \"y\": [1, 1, 2, 2, 3, 3, 6, 6, 17, 17, 17, 17, 17, 19, 19, 23, 30, 30]}, {\"hovertemplate\": \"Virginia: %{x} - %{y} <extra></extra>\", \"name\": \"Virginia\", \"type\": \"scatter\", \"visible\": true, \"x\": [\"2020-03-07\", \"2020-03-08\", \"2020-03-09\", \"2020-03-10\", \"2020-03-11\", \"2020-03-12\", \"2020-03-13\", \"2020-03-14\", \"2020-03-15\", \"2020-03-16\", \"2020-03-17\", \"2020-03-18\", \"2020-03-19\", \"2020-03-20\", \"2020-03-21\", \"2020-03-22\", \"2020-03-23\", \"2020-03-24\", \"2020-03-25\", \"2020-03-26\", \"2020-03-27\", \"2020-03-28\", \"2020-03-29\", \"2020-03-30\", \"2020-03-31\"], \"y\": [1, 2, 5, 8, 10, 17, 30, 42, 45, 51, 67, 78, 94, 115, 152, 219, 254, 291, 391, 569, 606, 740, 890, 1021, 1250]}, {\"hovertemplate\": \"Washington: %{x} - %{y} <extra></extra>\", \"name\": \"Washington\", \"type\": \"scatter\", \"visible\": true, \"x\": [\"2020-01-21\", \"2020-01-22\", \"2020-01-23\", \"2020-01-24\", \"2020-01-25\", \"2020-01-26\", \"2020-01-27\", \"2020-01-28\", \"2020-01-29\", \"2020-01-30\", \"2020-01-31\", \"2020-02-01\", \"2020-02-02\", \"2020-02-03\", \"2020-02-04\", \"2020-02-05\", \"2020-02-06\", \"2020-02-07\", \"2020-02-08\", \"2020-02-09\", \"2020-02-10\", \"2020-02-11\", \"2020-02-12\", \"2020-02-13\", \"2020-02-14\", \"2020-02-15\", \"2020-02-16\", \"2020-02-17\", \"2020-02-18\", \"2020-02-19\", \"2020-02-20\", \"2020-02-21\", \"2020-02-22\", \"2020-02-23\", \"2020-02-24\", \"2020-02-25\", \"2020-02-26\", \"2020-02-27\", \"2020-02-28\", \"2020-02-29\", \"2020-03-01\", \"2020-03-02\", \"2020-03-03\", \"2020-03-04\", \"2020-03-05\", \"2020-03-06\", \"2020-03-07\", \"2020-03-08\", \"2020-03-09\", \"2020-03-10\", \"2020-03-11\", \"2020-03-12\", \"2020-03-13\", \"2020-03-14\", \"2020-03-15\", \"2020-03-16\", \"2020-03-17\", \"2020-03-18\", \"2020-03-19\", \"2020-03-20\", \"2020-03-21\", \"2020-03-22\", \"2020-03-23\", \"2020-03-24\", \"2020-03-25\", \"2020-03-26\", \"2020-03-27\", \"2020-03-28\", \"2020-03-29\", \"2020-03-30\", \"2020-03-31\"], \"y\": [1, 1, 1, 1, 1, 1, 1, 1, 1, 1, 1, 1, 1, 1, 1, 1, 1, 1, 1, 1, 1, 1, 1, 1, 1, 1, 1, 1, 1, 1, 1, 1, 1, 1, 5, 5, 5, 5, 7, 10, 17, 23, 32, 47, 75, 86, 110, 141, 179, 279, 338, 419, 511, 609, 675, 794, 908, 1026, 1228, 1404, 1655, 1844, 2101, 2404, 2585, 3143, 3727, 4153, 4634, 4936, 5061]}, {\"hovertemplate\": \"West Virginia: %{x} - %{y} <extra></extra>\", \"name\": \"West Virginia\", \"type\": \"scatter\", \"visible\": true, \"x\": [\"2020-03-17\", \"2020-03-18\", \"2020-03-19\", \"2020-03-20\", \"2020-03-21\", \"2020-03-22\", \"2020-03-23\", \"2020-03-24\", \"2020-03-25\", \"2020-03-26\", \"2020-03-27\", \"2020-03-28\", \"2020-03-29\", \"2020-03-30\", \"2020-03-31\"], \"y\": [1, 2, 5, 8, 12, 16, 16, 39, 51, 76, 96, 113, 124, 145, 162]}, {\"hovertemplate\": \"Wisconsin: %{x} - %{y} <extra></extra>\", \"name\": \"Wisconsin\", \"type\": \"scatter\", \"visible\": true, \"x\": [\"2020-02-05\", \"2020-02-06\", \"2020-02-07\", \"2020-02-08\", \"2020-02-09\", \"2020-02-10\", \"2020-02-11\", \"2020-02-12\", \"2020-02-13\", \"2020-02-14\", \"2020-02-15\", \"2020-02-16\", \"2020-02-17\", \"2020-02-18\", \"2020-02-19\", \"2020-02-20\", \"2020-02-21\", \"2020-02-22\", \"2020-02-23\", \"2020-02-24\", \"2020-02-25\", \"2020-02-26\", \"2020-02-27\", \"2020-02-28\", \"2020-02-29\", \"2020-03-01\", \"2020-03-02\", \"2020-03-03\", \"2020-03-04\", \"2020-03-05\", \"2020-03-06\", \"2020-03-07\", \"2020-03-08\", \"2020-03-09\", \"2020-03-10\", \"2020-03-11\", \"2020-03-12\", \"2020-03-13\", \"2020-03-14\", \"2020-03-15\", \"2020-03-16\", \"2020-03-17\", \"2020-03-18\", \"2020-03-19\", \"2020-03-20\", \"2020-03-21\", \"2020-03-22\", \"2020-03-23\", \"2020-03-24\", \"2020-03-25\", \"2020-03-26\", \"2020-03-27\", \"2020-03-28\", \"2020-03-29\", \"2020-03-30\", \"2020-03-31\"], \"y\": [1, 1, 1, 1, 1, 1, 1, 1, 1, 1, 1, 1, 1, 1, 1, 1, 1, 1, 1, 1, 1, 1, 1, 1, 1, 1, 1, 1, 1, 1, 1, 1, 1, 2, 3, 6, 8, 19, 27, 33, 47, 72, 106, 155, 216, 281, 382, 418, 481, 623, 754, 930, 1042, 1120, 1269, 1351]}, {\"hovertemplate\": \"Wyoming: %{x} - %{y} <extra></extra>\", \"name\": \"Wyoming\", \"type\": \"scatter\", \"visible\": true, \"x\": [\"2020-03-11\", \"2020-03-12\", \"2020-03-13\", \"2020-03-14\", \"2020-03-15\", \"2020-03-16\", \"2020-03-17\", \"2020-03-18\", \"2020-03-19\", \"2020-03-20\", \"2020-03-21\", \"2020-03-22\", \"2020-03-23\", \"2020-03-24\", \"2020-03-25\", \"2020-03-26\", \"2020-03-27\", \"2020-03-28\", \"2020-03-29\", \"2020-03-30\", \"2020-03-31\"], \"y\": [1, 1, 2, 3, 3, 10, 15, 17, 18, 22, 24, 26, 28, 37, 49, 56, 74, 85, 88, 96, 121]}],\n",
       "                        {\"annotations\": [{\"align\": \"left\", \"showarrow\": false, \"text\": \"State\", \"x\": 0, \"xref\": \"paper\", \"y\": 1.12, \"yref\": \"paper\"}, {\"align\": \"left\", \"showarrow\": false, \"text\": \"Y Scale\", \"x\": 0.47, \"xref\": \"paper\", \"y\": 1.12, \"yref\": \"paper\"}], \"font\": {\"color\": \"#232121\", \"family\": \"Gravitas one, monospace\", \"size\": 12}, \"height\": 800, \"template\": {\"data\": {\"bar\": [{\"error_x\": {\"color\": \"#2a3f5f\"}, \"error_y\": {\"color\": \"#2a3f5f\"}, \"marker\": {\"line\": {\"color\": \"#E5ECF6\", \"width\": 0.5}}, \"type\": \"bar\"}], \"barpolar\": [{\"marker\": {\"line\": {\"color\": \"#E5ECF6\", \"width\": 0.5}}, \"type\": \"barpolar\"}], \"carpet\": [{\"aaxis\": {\"endlinecolor\": \"#2a3f5f\", \"gridcolor\": \"white\", \"linecolor\": \"white\", \"minorgridcolor\": \"white\", \"startlinecolor\": \"#2a3f5f\"}, \"baxis\": {\"endlinecolor\": \"#2a3f5f\", \"gridcolor\": \"white\", \"linecolor\": \"white\", \"minorgridcolor\": \"white\", \"startlinecolor\": \"#2a3f5f\"}, \"type\": \"carpet\"}], \"choropleth\": [{\"colorbar\": {\"outlinewidth\": 0, \"ticks\": \"\"}, \"type\": \"choropleth\"}], \"contour\": [{\"colorbar\": {\"outlinewidth\": 0, \"ticks\": \"\"}, \"colorscale\": [[0.0, \"#0d0887\"], [0.1111111111111111, \"#46039f\"], [0.2222222222222222, \"#7201a8\"], [0.3333333333333333, \"#9c179e\"], [0.4444444444444444, \"#bd3786\"], [0.5555555555555556, \"#d8576b\"], [0.6666666666666666, \"#ed7953\"], [0.7777777777777778, \"#fb9f3a\"], [0.8888888888888888, \"#fdca26\"], [1.0, \"#f0f921\"]], \"type\": \"contour\"}], \"contourcarpet\": [{\"colorbar\": {\"outlinewidth\": 0, \"ticks\": \"\"}, \"type\": \"contourcarpet\"}], \"heatmap\": [{\"colorbar\": {\"outlinewidth\": 0, \"ticks\": \"\"}, \"colorscale\": [[0.0, \"#0d0887\"], [0.1111111111111111, \"#46039f\"], [0.2222222222222222, \"#7201a8\"], [0.3333333333333333, \"#9c179e\"], [0.4444444444444444, \"#bd3786\"], [0.5555555555555556, \"#d8576b\"], [0.6666666666666666, \"#ed7953\"], [0.7777777777777778, \"#fb9f3a\"], [0.8888888888888888, \"#fdca26\"], [1.0, \"#f0f921\"]], \"type\": \"heatmap\"}], \"heatmapgl\": [{\"colorbar\": {\"outlinewidth\": 0, \"ticks\": \"\"}, \"colorscale\": [[0.0, \"#0d0887\"], [0.1111111111111111, \"#46039f\"], [0.2222222222222222, \"#7201a8\"], [0.3333333333333333, \"#9c179e\"], [0.4444444444444444, \"#bd3786\"], [0.5555555555555556, \"#d8576b\"], [0.6666666666666666, \"#ed7953\"], [0.7777777777777778, \"#fb9f3a\"], [0.8888888888888888, \"#fdca26\"], [1.0, \"#f0f921\"]], \"type\": \"heatmapgl\"}], \"histogram\": [{\"marker\": {\"colorbar\": {\"outlinewidth\": 0, \"ticks\": \"\"}}, \"type\": \"histogram\"}], \"histogram2d\": [{\"colorbar\": {\"outlinewidth\": 0, \"ticks\": \"\"}, \"colorscale\": [[0.0, \"#0d0887\"], [0.1111111111111111, \"#46039f\"], [0.2222222222222222, \"#7201a8\"], [0.3333333333333333, \"#9c179e\"], [0.4444444444444444, \"#bd3786\"], [0.5555555555555556, \"#d8576b\"], [0.6666666666666666, \"#ed7953\"], [0.7777777777777778, \"#fb9f3a\"], [0.8888888888888888, \"#fdca26\"], [1.0, \"#f0f921\"]], \"type\": \"histogram2d\"}], \"histogram2dcontour\": [{\"colorbar\": {\"outlinewidth\": 0, \"ticks\": \"\"}, \"colorscale\": [[0.0, \"#0d0887\"], [0.1111111111111111, \"#46039f\"], [0.2222222222222222, \"#7201a8\"], [0.3333333333333333, \"#9c179e\"], [0.4444444444444444, \"#bd3786\"], [0.5555555555555556, \"#d8576b\"], [0.6666666666666666, \"#ed7953\"], [0.7777777777777778, \"#fb9f3a\"], [0.8888888888888888, \"#fdca26\"], [1.0, \"#f0f921\"]], \"type\": \"histogram2dcontour\"}], \"mesh3d\": [{\"colorbar\": {\"outlinewidth\": 0, \"ticks\": \"\"}, \"type\": \"mesh3d\"}], \"parcoords\": [{\"line\": {\"colorbar\": {\"outlinewidth\": 0, \"ticks\": \"\"}}, \"type\": \"parcoords\"}], \"pie\": [{\"automargin\": true, \"type\": \"pie\"}], \"scatter\": [{\"marker\": {\"colorbar\": {\"outlinewidth\": 0, \"ticks\": \"\"}}, \"type\": \"scatter\"}], \"scatter3d\": [{\"line\": {\"colorbar\": {\"outlinewidth\": 0, \"ticks\": \"\"}}, \"marker\": {\"colorbar\": {\"outlinewidth\": 0, \"ticks\": \"\"}}, \"type\": \"scatter3d\"}], \"scattercarpet\": [{\"marker\": {\"colorbar\": {\"outlinewidth\": 0, \"ticks\": \"\"}}, \"type\": \"scattercarpet\"}], \"scattergeo\": [{\"marker\": {\"colorbar\": {\"outlinewidth\": 0, \"ticks\": \"\"}}, \"type\": \"scattergeo\"}], \"scattergl\": [{\"marker\": {\"colorbar\": {\"outlinewidth\": 0, \"ticks\": \"\"}}, \"type\": \"scattergl\"}], \"scattermapbox\": [{\"marker\": {\"colorbar\": {\"outlinewidth\": 0, \"ticks\": \"\"}}, \"type\": \"scattermapbox\"}], \"scatterpolar\": [{\"marker\": {\"colorbar\": {\"outlinewidth\": 0, \"ticks\": \"\"}}, \"type\": \"scatterpolar\"}], \"scatterpolargl\": [{\"marker\": {\"colorbar\": {\"outlinewidth\": 0, \"ticks\": \"\"}}, \"type\": \"scatterpolargl\"}], \"scatterternary\": [{\"marker\": {\"colorbar\": {\"outlinewidth\": 0, \"ticks\": \"\"}}, \"type\": \"scatterternary\"}], \"surface\": [{\"colorbar\": {\"outlinewidth\": 0, \"ticks\": \"\"}, \"colorscale\": [[0.0, \"#0d0887\"], [0.1111111111111111, \"#46039f\"], [0.2222222222222222, \"#7201a8\"], [0.3333333333333333, \"#9c179e\"], [0.4444444444444444, \"#bd3786\"], [0.5555555555555556, \"#d8576b\"], [0.6666666666666666, \"#ed7953\"], [0.7777777777777778, \"#fb9f3a\"], [0.8888888888888888, \"#fdca26\"], [1.0, \"#f0f921\"]], \"type\": \"surface\"}], \"table\": [{\"cells\": {\"fill\": {\"color\": \"#EBF0F8\"}, \"line\": {\"color\": \"white\"}}, \"header\": {\"fill\": {\"color\": \"#C8D4E3\"}, \"line\": {\"color\": \"white\"}}, \"type\": \"table\"}]}, \"layout\": {\"annotationdefaults\": {\"arrowcolor\": \"#2a3f5f\", \"arrowhead\": 0, \"arrowwidth\": 1}, \"coloraxis\": {\"colorbar\": {\"outlinewidth\": 0, \"ticks\": \"\"}}, \"colorscale\": {\"diverging\": [[0, \"#8e0152\"], [0.1, \"#c51b7d\"], [0.2, \"#de77ae\"], [0.3, \"#f1b6da\"], [0.4, \"#fde0ef\"], [0.5, \"#f7f7f7\"], [0.6, \"#e6f5d0\"], [0.7, \"#b8e186\"], [0.8, \"#7fbc41\"], [0.9, \"#4d9221\"], [1, \"#276419\"]], \"sequential\": [[0.0, \"#0d0887\"], [0.1111111111111111, \"#46039f\"], [0.2222222222222222, \"#7201a8\"], [0.3333333333333333, \"#9c179e\"], [0.4444444444444444, \"#bd3786\"], [0.5555555555555556, \"#d8576b\"], [0.6666666666666666, \"#ed7953\"], [0.7777777777777778, \"#fb9f3a\"], [0.8888888888888888, \"#fdca26\"], [1.0, \"#f0f921\"]], \"sequentialminus\": [[0.0, \"#0d0887\"], [0.1111111111111111, \"#46039f\"], [0.2222222222222222, \"#7201a8\"], [0.3333333333333333, \"#9c179e\"], [0.4444444444444444, \"#bd3786\"], [0.5555555555555556, \"#d8576b\"], [0.6666666666666666, \"#ed7953\"], [0.7777777777777778, \"#fb9f3a\"], [0.8888888888888888, \"#fdca26\"], [1.0, \"#f0f921\"]]}, \"colorway\": [\"#636efa\", \"#EF553B\", \"#00cc96\", \"#ab63fa\", \"#FFA15A\", \"#19d3f3\", \"#FF6692\", \"#B6E880\", \"#FF97FF\", \"#FECB52\"], \"font\": {\"color\": \"#2a3f5f\"}, \"geo\": {\"bgcolor\": \"white\", \"lakecolor\": \"white\", \"landcolor\": \"#E5ECF6\", \"showlakes\": true, \"showland\": true, \"subunitcolor\": \"white\"}, \"hoverlabel\": {\"align\": \"left\"}, \"hovermode\": \"closest\", \"mapbox\": {\"style\": \"light\"}, \"paper_bgcolor\": \"white\", \"plot_bgcolor\": \"#E5ECF6\", \"polar\": {\"angularaxis\": {\"gridcolor\": \"white\", \"linecolor\": \"white\", \"ticks\": \"\"}, \"bgcolor\": \"#E5ECF6\", \"radialaxis\": {\"gridcolor\": \"white\", \"linecolor\": \"white\", \"ticks\": \"\"}}, \"scene\": {\"xaxis\": {\"backgroundcolor\": \"#E5ECF6\", \"gridcolor\": \"white\", \"gridwidth\": 2, \"linecolor\": \"white\", \"showbackground\": true, \"ticks\": \"\", \"zerolinecolor\": \"white\"}, \"yaxis\": {\"backgroundcolor\": \"#E5ECF6\", \"gridcolor\": \"white\", \"gridwidth\": 2, \"linecolor\": \"white\", \"showbackground\": true, \"ticks\": \"\", \"zerolinecolor\": \"white\"}, \"zaxis\": {\"backgroundcolor\": \"#E5ECF6\", \"gridcolor\": \"white\", \"gridwidth\": 2, \"linecolor\": \"white\", \"showbackground\": true, \"ticks\": \"\", \"zerolinecolor\": \"white\"}}, \"shapedefaults\": {\"line\": {\"color\": \"#2a3f5f\"}}, \"ternary\": {\"aaxis\": {\"gridcolor\": \"white\", \"linecolor\": \"white\", \"ticks\": \"\"}, \"baxis\": {\"gridcolor\": \"white\", \"linecolor\": \"white\", \"ticks\": \"\"}, \"bgcolor\": \"#E5ECF6\", \"caxis\": {\"gridcolor\": \"white\", \"linecolor\": \"white\", \"ticks\": \"\"}}, \"title\": {\"x\": 0.05}, \"xaxis\": {\"automargin\": true, \"gridcolor\": \"white\", \"linecolor\": \"white\", \"ticks\": \"\", \"title\": {\"standoff\": 15}, \"zerolinecolor\": \"white\", \"zerolinewidth\": 2}, \"yaxis\": {\"automargin\": true, \"gridcolor\": \"white\", \"linecolor\": \"white\", \"ticks\": \"\", \"title\": {\"standoff\": 15}, \"zerolinecolor\": \"white\", \"zerolinewidth\": 2}}}, \"title\": {\"text\": \"All States\", \"x\": 0.7, \"xanchor\": \"center\", \"y\": 0.92, \"yanchor\": \"top\"}, \"updatemenus\": [{\"active\": 0, \"buttons\": [{\"args\": [{\"visible\": [true, true, true, true, true, true, true, true, true, true, true, true, true, true, true, true, true, true, true, true, true, true, true, true, true, true, true, true, true, true, true, true, true, true, true, true, true, true, true, true, true, true, true, true, true, true, true, true, true, true, true, true, true, true, true]}, {\"title\": \"All States\"}], \"label\": \"All States\", \"method\": \"update\"}, {\"args\": [{\"visible\": [true, false, false, false, false, false, false, false, false, false, false, false, false, false, false, false, false, false, false, false, false, false, false, false, false, false, false, false, false, false, false, false, false, false, false, false, false, false, false, false, false, false, false, false, false, false, false, false, false, false, false, false, false, false, false]}, {\"title\": \"Alabama\"}], \"label\": \"Alabama\", \"method\": \"update\"}, {\"args\": [{\"visible\": [false, true, false, false, false, false, false, false, false, false, false, false, false, false, false, false, false, false, false, false, false, false, false, false, false, false, false, false, false, false, false, false, false, false, false, false, false, false, false, false, false, false, false, false, false, false, false, false, false, false, false, false, false, false, false]}, {\"title\": \"Alaska\"}], \"label\": \"Alaska\", \"method\": \"update\"}, {\"args\": [{\"visible\": [false, false, true, false, false, false, false, false, false, false, false, false, false, false, false, false, false, false, false, false, false, false, false, false, false, false, false, false, false, false, false, false, false, false, false, false, false, false, false, false, false, false, false, false, false, false, false, false, false, false, false, false, false, false, false]}, {\"title\": \"Arizona\"}], \"label\": \"Arizona\", \"method\": \"update\"}, {\"args\": [{\"visible\": [false, false, false, true, false, false, false, false, false, false, false, false, false, false, false, false, false, false, false, false, false, false, false, false, false, false, false, false, false, false, false, false, false, false, false, false, false, false, false, false, false, false, false, false, false, false, false, false, false, false, false, false, false, false, false]}, {\"title\": \"Arkansas\"}], \"label\": \"Arkansas\", \"method\": \"update\"}, {\"args\": [{\"visible\": [false, false, false, false, true, false, false, false, false, false, false, false, false, false, false, false, false, false, false, false, false, false, false, false, false, false, false, false, false, false, false, false, false, false, false, false, false, false, false, false, false, false, false, false, false, false, false, false, false, false, false, false, false, false, false]}, {\"title\": \"California\"}], \"label\": \"California\", \"method\": \"update\"}, {\"args\": [{\"visible\": [false, false, false, false, false, true, false, false, false, false, false, false, false, false, false, false, false, false, false, false, false, false, false, false, false, false, false, false, false, false, false, false, false, false, false, false, false, false, false, false, false, false, false, false, false, false, false, false, false, false, false, false, false, false, false]}, {\"title\": \"Colorado\"}], \"label\": \"Colorado\", \"method\": \"update\"}, {\"args\": [{\"visible\": [false, false, false, false, false, false, true, false, false, false, false, false, false, false, false, false, false, false, false, false, false, false, false, false, false, false, false, false, false, false, false, false, false, false, false, false, false, false, false, false, false, false, false, false, false, false, false, false, false, false, false, false, false, false, false]}, {\"title\": \"Connecticut\"}], \"label\": \"Connecticut\", \"method\": \"update\"}, {\"args\": [{\"visible\": [false, false, false, false, false, false, false, true, false, false, false, false, false, false, false, false, false, false, false, false, false, false, false, false, false, false, false, false, false, false, false, false, false, false, false, false, false, false, false, false, false, false, false, false, false, false, false, false, false, false, false, false, false, false, false]}, {\"title\": \"Delaware\"}], \"label\": \"Delaware\", \"method\": \"update\"}, {\"args\": [{\"visible\": [false, false, false, false, false, false, false, false, true, false, false, false, false, false, false, false, false, false, false, false, false, false, false, false, false, false, false, false, false, false, false, false, false, false, false, false, false, false, false, false, false, false, false, false, false, false, false, false, false, false, false, false, false, false, false]}, {\"title\": \"District of Columbia\"}], \"label\": \"District of Columbia\", \"method\": \"update\"}, {\"args\": [{\"visible\": [false, false, false, false, false, false, false, false, false, true, false, false, false, false, false, false, false, false, false, false, false, false, false, false, false, false, false, false, false, false, false, false, false, false, false, false, false, false, false, false, false, false, false, false, false, false, false, false, false, false, false, false, false, false, false]}, {\"title\": \"Florida\"}], \"label\": \"Florida\", \"method\": \"update\"}, {\"args\": [{\"visible\": [false, false, false, false, false, false, false, false, false, false, true, false, false, false, false, false, false, false, false, false, false, false, false, false, false, false, false, false, false, false, false, false, false, false, false, false, false, false, false, false, false, false, false, false, false, false, false, false, false, false, false, false, false, false, false]}, {\"title\": \"Georgia\"}], \"label\": \"Georgia\", \"method\": \"update\"}, {\"args\": [{\"visible\": [false, false, false, false, false, false, false, false, false, false, false, true, false, false, false, false, false, false, false, false, false, false, false, false, false, false, false, false, false, false, false, false, false, false, false, false, false, false, false, false, false, false, false, false, false, false, false, false, false, false, false, false, false, false, false]}, {\"title\": \"Guam\"}], \"label\": \"Guam\", \"method\": \"update\"}, {\"args\": [{\"visible\": [false, false, false, false, false, false, false, false, false, false, false, false, true, false, false, false, false, false, false, false, false, false, false, false, false, false, false, false, false, false, false, false, false, false, false, false, false, false, false, false, false, false, false, false, false, false, false, false, false, false, false, false, false, false, false]}, {\"title\": \"Hawaii\"}], \"label\": \"Hawaii\", \"method\": \"update\"}, {\"args\": [{\"visible\": [false, false, false, false, false, false, false, false, false, false, false, false, false, true, false, false, false, false, false, false, false, false, false, false, false, false, false, false, false, false, false, false, false, false, false, false, false, false, false, false, false, false, false, false, false, false, false, false, false, false, false, false, false, false, false]}, {\"title\": \"Idaho\"}], \"label\": \"Idaho\", \"method\": \"update\"}, {\"args\": [{\"visible\": [false, false, false, false, false, false, false, false, false, false, false, false, false, false, true, false, false, false, false, false, false, false, false, false, false, false, false, false, false, false, false, false, false, false, false, false, false, false, false, false, false, false, false, false, false, false, false, false, false, false, false, false, false, false, false]}, {\"title\": \"Illinois\"}], \"label\": \"Illinois\", \"method\": \"update\"}, {\"args\": [{\"visible\": [false, false, false, false, false, false, false, false, false, false, false, false, false, false, false, true, false, false, false, false, false, false, false, false, false, false, false, false, false, false, false, false, false, false, false, false, false, false, false, false, false, false, false, false, false, false, false, false, false, false, false, false, false, false, false]}, {\"title\": \"Indiana\"}], \"label\": \"Indiana\", \"method\": \"update\"}, {\"args\": [{\"visible\": [false, false, false, false, false, false, false, false, false, false, false, false, false, false, false, false, true, false, false, false, false, false, false, false, false, false, false, false, false, false, false, false, false, false, false, false, false, false, false, false, false, false, false, false, false, false, false, false, false, false, false, false, false, false, false]}, {\"title\": \"Iowa\"}], \"label\": \"Iowa\", \"method\": \"update\"}, {\"args\": [{\"visible\": [false, false, false, false, false, false, false, false, false, false, false, false, false, false, false, false, false, true, false, false, false, false, false, false, false, false, false, false, false, false, false, false, false, false, false, false, false, false, false, false, false, false, false, false, false, false, false, false, false, false, false, false, false, false, false]}, {\"title\": \"Kansas\"}], \"label\": \"Kansas\", \"method\": \"update\"}, {\"args\": [{\"visible\": [false, false, false, false, false, false, false, false, false, false, false, false, false, false, false, false, false, false, true, false, false, false, false, false, false, false, false, false, false, false, false, false, false, false, false, false, false, false, false, false, false, false, false, false, false, false, false, false, false, false, false, false, false, false, false]}, {\"title\": \"Kentucky\"}], \"label\": \"Kentucky\", \"method\": \"update\"}, {\"args\": [{\"visible\": [false, false, false, false, false, false, false, false, false, false, false, false, false, false, false, false, false, false, false, true, false, false, false, false, false, false, false, false, false, false, false, false, false, false, false, false, false, false, false, false, false, false, false, false, false, false, false, false, false, false, false, false, false, false, false]}, {\"title\": \"Louisiana\"}], \"label\": \"Louisiana\", \"method\": \"update\"}, {\"args\": [{\"visible\": [false, false, false, false, false, false, false, false, false, false, false, false, false, false, false, false, false, false, false, false, true, false, false, false, false, false, false, false, false, false, false, false, false, false, false, false, false, false, false, false, false, false, false, false, false, false, false, false, false, false, false, false, false, false, false]}, {\"title\": \"Maine\"}], \"label\": \"Maine\", \"method\": \"update\"}, {\"args\": [{\"visible\": [false, false, false, false, false, false, false, false, false, false, false, false, false, false, false, false, false, false, false, false, false, true, false, false, false, false, false, false, false, false, false, false, false, false, false, false, false, false, false, false, false, false, false, false, false, false, false, false, false, false, false, false, false, false, false]}, {\"title\": \"Maryland\"}], \"label\": \"Maryland\", \"method\": \"update\"}, {\"args\": [{\"visible\": [false, false, false, false, false, false, false, false, false, false, false, false, false, false, false, false, false, false, false, false, false, false, true, false, false, false, false, false, false, false, false, false, false, false, false, false, false, false, false, false, false, false, false, false, false, false, false, false, false, false, false, false, false, false, false]}, {\"title\": \"Massachusetts\"}], \"label\": \"Massachusetts\", \"method\": \"update\"}, {\"args\": [{\"visible\": [false, false, false, false, false, false, false, false, false, false, false, false, false, false, false, false, false, false, false, false, false, false, false, true, false, false, false, false, false, false, false, false, false, false, false, false, false, false, false, false, false, false, false, false, false, false, false, false, false, false, false, false, false, false, false]}, {\"title\": \"Michigan\"}], \"label\": \"Michigan\", \"method\": \"update\"}, {\"args\": [{\"visible\": [false, false, false, false, false, false, false, false, false, false, false, false, false, false, false, false, false, false, false, false, false, false, false, false, true, false, false, false, false, false, false, false, false, false, false, false, false, false, false, false, false, false, false, false, false, false, false, false, false, false, false, false, false, false, false]}, {\"title\": \"Minnesota\"}], \"label\": \"Minnesota\", \"method\": \"update\"}, {\"args\": [{\"visible\": [false, false, false, false, false, false, false, false, false, false, false, false, false, false, false, false, false, false, false, false, false, false, false, false, false, true, false, false, false, false, false, false, false, false, false, false, false, false, false, false, false, false, false, false, false, false, false, false, false, false, false, false, false, false, false]}, {\"title\": \"Mississippi\"}], \"label\": \"Mississippi\", \"method\": \"update\"}, {\"args\": [{\"visible\": [false, false, false, false, false, false, false, false, false, false, false, false, false, false, false, false, false, false, false, false, false, false, false, false, false, false, true, false, false, false, false, false, false, false, false, false, false, false, false, false, false, false, false, false, false, false, false, false, false, false, false, false, false, false, false]}, {\"title\": \"Missouri\"}], \"label\": \"Missouri\", \"method\": \"update\"}, {\"args\": [{\"visible\": [false, false, false, false, false, false, false, false, false, false, false, false, false, false, false, false, false, false, false, false, false, false, false, false, false, false, false, true, false, false, false, false, false, false, false, false, false, false, false, false, false, false, false, false, false, false, false, false, false, false, false, false, false, false, false]}, {\"title\": \"Montana\"}], \"label\": \"Montana\", \"method\": \"update\"}, {\"args\": [{\"visible\": [false, false, false, false, false, false, false, false, false, false, false, false, false, false, false, false, false, false, false, false, false, false, false, false, false, false, false, false, true, false, false, false, false, false, false, false, false, false, false, false, false, false, false, false, false, false, false, false, false, false, false, false, false, false, false]}, {\"title\": \"Nebraska\"}], \"label\": \"Nebraska\", \"method\": \"update\"}, {\"args\": [{\"visible\": [false, false, false, false, false, false, false, false, false, false, false, false, false, false, false, false, false, false, false, false, false, false, false, false, false, false, false, false, false, true, false, false, false, false, false, false, false, false, false, false, false, false, false, false, false, false, false, false, false, false, false, false, false, false, false]}, {\"title\": \"Nevada\"}], \"label\": \"Nevada\", \"method\": \"update\"}, {\"args\": [{\"visible\": [false, false, false, false, false, false, false, false, false, false, false, false, false, false, false, false, false, false, false, false, false, false, false, false, false, false, false, false, false, false, true, false, false, false, false, false, false, false, false, false, false, false, false, false, false, false, false, false, false, false, false, false, false, false, false]}, {\"title\": \"New Hampshire\"}], \"label\": \"New Hampshire\", \"method\": \"update\"}, {\"args\": [{\"visible\": [false, false, false, false, false, false, false, false, false, false, false, false, false, false, false, false, false, false, false, false, false, false, false, false, false, false, false, false, false, false, false, true, false, false, false, false, false, false, false, false, false, false, false, false, false, false, false, false, false, false, false, false, false, false, false]}, {\"title\": \"New Jersey\"}], \"label\": \"New Jersey\", \"method\": \"update\"}, {\"args\": [{\"visible\": [false, false, false, false, false, false, false, false, false, false, false, false, false, false, false, false, false, false, false, false, false, false, false, false, false, false, false, false, false, false, false, false, true, false, false, false, false, false, false, false, false, false, false, false, false, false, false, false, false, false, false, false, false, false, false]}, {\"title\": \"New Mexico\"}], \"label\": \"New Mexico\", \"method\": \"update\"}, {\"args\": [{\"visible\": [false, false, false, false, false, false, false, false, false, false, false, false, false, false, false, false, false, false, false, false, false, false, false, false, false, false, false, false, false, false, false, false, false, true, false, false, false, false, false, false, false, false, false, false, false, false, false, false, false, false, false, false, false, false, false]}, {\"title\": \"New York\"}], \"label\": \"New York\", \"method\": \"update\"}, {\"args\": [{\"visible\": [false, false, false, false, false, false, false, false, false, false, false, false, false, false, false, false, false, false, false, false, false, false, false, false, false, false, false, false, false, false, false, false, false, false, true, false, false, false, false, false, false, false, false, false, false, false, false, false, false, false, false, false, false, false, false]}, {\"title\": \"North Carolina\"}], \"label\": \"North Carolina\", \"method\": \"update\"}, {\"args\": [{\"visible\": [false, false, false, false, false, false, false, false, false, false, false, false, false, false, false, false, false, false, false, false, false, false, false, false, false, false, false, false, false, false, false, false, false, false, false, true, false, false, false, false, false, false, false, false, false, false, false, false, false, false, false, false, false, false, false]}, {\"title\": \"North Dakota\"}], \"label\": \"North Dakota\", \"method\": \"update\"}, {\"args\": [{\"visible\": [false, false, false, false, false, false, false, false, false, false, false, false, false, false, false, false, false, false, false, false, false, false, false, false, false, false, false, false, false, false, false, false, false, false, false, false, true, false, false, false, false, false, false, false, false, false, false, false, false, false, false, false, false, false, false]}, {\"title\": \"Northern Mariana Islands\"}], \"label\": \"Northern Mariana Islands\", \"method\": \"update\"}, {\"args\": [{\"visible\": [false, false, false, false, false, false, false, false, false, false, false, false, false, false, false, false, false, false, false, false, false, false, false, false, false, false, false, false, false, false, false, false, false, false, false, false, false, true, false, false, false, false, false, false, false, false, false, false, false, false, false, false, false, false, false]}, {\"title\": \"Ohio\"}], \"label\": \"Ohio\", \"method\": \"update\"}, {\"args\": [{\"visible\": [false, false, false, false, false, false, false, false, false, false, false, false, false, false, false, false, false, false, false, false, false, false, false, false, false, false, false, false, false, false, false, false, false, false, false, false, false, false, true, false, false, false, false, false, false, false, false, false, false, false, false, false, false, false, false]}, {\"title\": \"Oklahoma\"}], \"label\": \"Oklahoma\", \"method\": \"update\"}, {\"args\": [{\"visible\": [false, false, false, false, false, false, false, false, false, false, false, false, false, false, false, false, false, false, false, false, false, false, false, false, false, false, false, false, false, false, false, false, false, false, false, false, false, false, false, true, false, false, false, false, false, false, false, false, false, false, false, false, false, false, false]}, {\"title\": \"Oregon\"}], \"label\": \"Oregon\", \"method\": \"update\"}, {\"args\": [{\"visible\": [false, false, false, false, false, false, false, false, false, false, false, false, false, false, false, false, false, false, false, false, false, false, false, false, false, false, false, false, false, false, false, false, false, false, false, false, false, false, false, false, true, false, false, false, false, false, false, false, false, false, false, false, false, false, false]}, {\"title\": \"Pennsylvania\"}], \"label\": \"Pennsylvania\", \"method\": \"update\"}, {\"args\": [{\"visible\": [false, false, false, false, false, false, false, false, false, false, false, false, false, false, false, false, false, false, false, false, false, false, false, false, false, false, false, false, false, false, false, false, false, false, false, false, false, false, false, false, false, true, false, false, false, false, false, false, false, false, false, false, false, false, false]}, {\"title\": \"Puerto Rico\"}], \"label\": \"Puerto Rico\", \"method\": \"update\"}, {\"args\": [{\"visible\": [false, false, false, false, false, false, false, false, false, false, false, false, false, false, false, false, false, false, false, false, false, false, false, false, false, false, false, false, false, false, false, false, false, false, false, false, false, false, false, false, false, false, true, false, false, false, false, false, false, false, false, false, false, false, false]}, {\"title\": \"Rhode Island\"}], \"label\": \"Rhode Island\", \"method\": \"update\"}, {\"args\": [{\"visible\": [false, false, false, false, false, false, false, false, false, false, false, false, false, false, false, false, false, false, false, false, false, false, false, false, false, false, false, false, false, false, false, false, false, false, false, false, false, false, false, false, false, false, false, true, false, false, false, false, false, false, false, false, false, false, false]}, {\"title\": \"South Carolina\"}], \"label\": \"South Carolina\", \"method\": \"update\"}, {\"args\": [{\"visible\": [false, false, false, false, false, false, false, false, false, false, false, false, false, false, false, false, false, false, false, false, false, false, false, false, false, false, false, false, false, false, false, false, false, false, false, false, false, false, false, false, false, false, false, false, true, false, false, false, false, false, false, false, false, false, false]}, {\"title\": \"South Dakota\"}], \"label\": \"South Dakota\", \"method\": \"update\"}, {\"args\": [{\"visible\": [false, false, false, false, false, false, false, false, false, false, false, false, false, false, false, false, false, false, false, false, false, false, false, false, false, false, false, false, false, false, false, false, false, false, false, false, false, false, false, false, false, false, false, false, false, true, false, false, false, false, false, false, false, false, false]}, {\"title\": \"Tennessee\"}], \"label\": \"Tennessee\", \"method\": \"update\"}, {\"args\": [{\"visible\": [false, false, false, false, false, false, false, false, false, false, false, false, false, false, false, false, false, false, false, false, false, false, false, false, false, false, false, false, false, false, false, false, false, false, false, false, false, false, false, false, false, false, false, false, false, false, true, false, false, false, false, false, false, false, false]}, {\"title\": \"Texas\"}], \"label\": \"Texas\", \"method\": \"update\"}, {\"args\": [{\"visible\": [false, false, false, false, false, false, false, false, false, false, false, false, false, false, false, false, false, false, false, false, false, false, false, false, false, false, false, false, false, false, false, false, false, false, false, false, false, false, false, false, false, false, false, false, false, false, false, true, false, false, false, false, false, false, false]}, {\"title\": \"Utah\"}], \"label\": \"Utah\", \"method\": \"update\"}, {\"args\": [{\"visible\": [false, false, false, false, false, false, false, false, false, false, false, false, false, false, false, false, false, false, false, false, false, false, false, false, false, false, false, false, false, false, false, false, false, false, false, false, false, false, false, false, false, false, false, false, false, false, false, false, true, false, false, false, false, false, false]}, {\"title\": \"Vermont\"}], \"label\": \"Vermont\", \"method\": \"update\"}, {\"args\": [{\"visible\": [false, false, false, false, false, false, false, false, false, false, false, false, false, false, false, false, false, false, false, false, false, false, false, false, false, false, false, false, false, false, false, false, false, false, false, false, false, false, false, false, false, false, false, false, false, false, false, false, false, true, false, false, false, false, false]}, {\"title\": \"Virgin Islands\"}], \"label\": \"Virgin Islands\", \"method\": \"update\"}, {\"args\": [{\"visible\": [false, false, false, false, false, false, false, false, false, false, false, false, false, false, false, false, false, false, false, false, false, false, false, false, false, false, false, false, false, false, false, false, false, false, false, false, false, false, false, false, false, false, false, false, false, false, false, false, false, false, true, false, false, false, false]}, {\"title\": \"Virginia\"}], \"label\": \"Virginia\", \"method\": \"update\"}, {\"args\": [{\"visible\": [false, false, false, false, false, false, false, false, false, false, false, false, false, false, false, false, false, false, false, false, false, false, false, false, false, false, false, false, false, false, false, false, false, false, false, false, false, false, false, false, false, false, false, false, false, false, false, false, false, false, false, true, false, false, false]}, {\"title\": \"Washington\"}], \"label\": \"Washington\", \"method\": \"update\"}, {\"args\": [{\"visible\": [false, false, false, false, false, false, false, false, false, false, false, false, false, false, false, false, false, false, false, false, false, false, false, false, false, false, false, false, false, false, false, false, false, false, false, false, false, false, false, false, false, false, false, false, false, false, false, false, false, false, false, false, true, false, false]}, {\"title\": \"West Virginia\"}], \"label\": \"West Virginia\", \"method\": \"update\"}, {\"args\": [{\"visible\": [false, false, false, false, false, false, false, false, false, false, false, false, false, false, false, false, false, false, false, false, false, false, false, false, false, false, false, false, false, false, false, false, false, false, false, false, false, false, false, false, false, false, false, false, false, false, false, false, false, false, false, false, false, true, false]}, {\"title\": \"Wisconsin\"}], \"label\": \"Wisconsin\", \"method\": \"update\"}, {\"args\": [{\"visible\": [false, false, false, false, false, false, false, false, false, false, false, false, false, false, false, false, false, false, false, false, false, false, false, false, false, false, false, false, false, false, false, false, false, false, false, false, false, false, false, false, false, false, false, false, false, false, false, false, false, false, false, false, false, false, true]}, {\"title\": \"Wyoming\"}], \"label\": \"Wyoming\", \"method\": \"update\"}], \"x\": 0.24, \"y\": 1.09}, {\"buttons\": [{\"args\": [{\"yaxis\": {\"type\": \"linear\"}}], \"label\": \"Linear\", \"method\": \"relayout\"}, {\"args\": [{\"yaxis\": {\"type\": \"log\"}}], \"label\": \"Log\", \"method\": \"relayout\"}], \"x\": 0.55, \"y\": 1.09}], \"width\": 1000, \"xaxis\": {\"range\": [\"2020-03-01T00:00:00\", \"2020-03-31T00:00:00\"], \"rangeslider\": {\"thickness\": 0.05, \"visible\": true}}},\n",
       "                        {\"responsive\": true}\n",
       "                    ).then(function(){\n",
       "                            \n",
       "var gd = document.getElementById('9e14a512-e891-4f43-9910-921840acce98');\n",
>>>>>>> temp-branch
       "var x = new MutationObserver(function (mutations, observer) {{\n",
       "        var display = window.getComputedStyle(gd).display;\n",
       "        if (!display || display === 'none') {{\n",
       "            console.log([gd, 'removed!']);\n",
       "            Plotly.purge(gd);\n",
       "            observer.disconnect();\n",
       "        }}\n",
       "}});\n",
       "\n",
       "// Listen for the removal of the full notebook cells\n",
       "var notebookContainer = gd.closest('#notebook-container');\n",
       "if (notebookContainer) {{\n",
       "    x.observe(notebookContainer, {childList: true});\n",
       "}}\n",
       "\n",
       "// Listen for the clearing of the current output cell\n",
       "var outputEl = gd.closest('.output');\n",
       "if (outputEl) {{\n",
       "    x.observe(outputEl, {childList: true});\n",
       "}}\n",
       "\n",
       "                        })\n",
       "                };\n",
       "                });\n",
       "            </script>\n",
       "        </div>"
      ]
     },
     "metadata": {},
     "output_type": "display_data"
    }
   ],
   "source": [
    "# make an interactive time series plot using plotly\n",
<<<<<<< HEAD
    "fig = go.Figure(\n",
    "        data=data,\n",
    "    layout={\n",
    "        'width':600,\n",
    "        'height':600\n",
    "    } \n",
    ")\n",
    "\n",
    "fig.update_layout(\n",
    "    title={\n",
    "        'text': statein.state.unique()[0],\n",
    "        'y':0.9,\n",
    "        'x':0.5,\n",
    "        'xanchor': 'center',\n",
    "        'yanchor': 'top'})\n",
=======
    "\n",
    "# first define a figure\n",
    "fig = go.Figure(\n",
    "#         data=data,\n",
    "    layout={\n",
    "        'width':1000,\n",
    "        'height':800,\n",
    "#         'xaxis':dict(\n",
    "#             range=['2020-03-01', 0.4]\n",
    "#         )\n",
    "    } \n",
    ")\n",
    "\n",
    "# this is where you actually add the lines to the plot\n",
    "for trace in data:\n",
    "    fig.add_trace(trace)\n",
    "\n",
    "# updates the title and font\n",
    "fig.update_layout(\n",
    "    title={\n",
    "        'text': 'All States',\n",
    "        'y':.92,\n",
    "        'x':0.7,\n",
    "        'xanchor': 'center',\n",
    "        'yanchor': 'top'},\n",
    "font=dict(\n",
    "        family=\"Gravitas one, monospace\",\n",
    "        size=12,\n",
    "#     weight='bold',\n",
    "        color=\"#232121\"\n",
    "    ))\n",
    "\n",
    "\n",
    "# sets the height we are putting the buttons in\n",
    "button_layer_1_height = 1.09\n",
    "\n",
    "# adding the two dropdown menus\n",
    "# to create dropdown menu you feed a dictionary for each menu you want\n",
    "# in this case we will have 2: one to pick states and one to change the yscale \n",
    "fig.update_layout(\n",
    "    updatemenus=[\n",
    "        # this dictionary is for the state choosing menu\n",
    "        dict(\n",
    "            active=0,\n",
    "            buttons=buttons,\n",
    "            y=button_layer_1_height,\n",
    "            x=.24\n",
    "            \n",
    "        ),\n",
    "        \n",
    "        # this dict is for the yscale changing options\n",
    "        dict(buttons=list([\n",
    "            dict(\n",
    "                label='Linear',\n",
    "                method='relayout',\n",
    "                args = [{'yaxis':{'type':'linear'}}]\n",
    "        ),\n",
    "             dict(\n",
    "                 label='Log',\n",
    "                 method='relayout',\n",
    "                 args = [{'yaxis':{'type':'log'}}]\n",
    "             )\n",
    "            \n",
    "                          ]),\n",
    "             x=0.55,\n",
    "             y=button_layer_1_height\n",
    "    )])\n",
    "\n",
    "# adds a time slider to the xaxis\n",
    "fig.update_xaxes(rangeslider_visible=True)\n",
    "fig.update_xaxes({'rangeslider':{'thickness':.05}})\n",
    "\n",
    "# labels for the dropdown menu\n",
    "fig.update_layout(\n",
    "    annotations=[\n",
    "        dict(text=\"State\", x=0, xref=\"paper\", y=1.12, yref=\"paper\",\n",
    "                             align=\"left\", showarrow=False),\n",
    "        dict(text=\"Y Scale\", x=.47, xref=\"paper\", y=1.12, yref=\"paper\",\n",
    "                             align=\"left\", showarrow=False)\n",
    "    ])\n",
    "\n",
    "# lets you set the xrange you want the plot to start in\n",
    "fig.update_layout(xaxis_range=[pd.to_datetime('2020-03-01'),\n",
    "                               pd.to_datetime(stateTot.date.max())])\n",
>>>>>>> temp-branch
    "\n",
    "fig.show()"
   ]
  },
  {
   "cell_type": "code",
   "execution_count": null,
   "metadata": {},
   "outputs": [],
<<<<<<< HEAD
   "source": [
    "# now add the dropdowns\n",
    "\n"
   ]
=======
   "source": []
  },
  {
   "cell_type": "code",
   "execution_count": null,
   "metadata": {},
   "outputs": [],
   "source": []
  },
  {
   "cell_type": "code",
   "execution_count": null,
   "metadata": {},
   "outputs": [],
   "source": []
  },
  {
   "cell_type": "code",
   "execution_count": null,
   "metadata": {},
   "outputs": [],
   "source": []
>>>>>>> temp-branch
  }
 ],
 "metadata": {
  "kernelspec": {
   "display_name": "Python 3",
   "language": "python",
   "name": "python3"
  },
  "language_info": {
   "codemirror_mode": {
    "name": "ipython",
    "version": 3
   },
   "file_extension": ".py",
   "mimetype": "text/x-python",
   "name": "python",
   "nbconvert_exporter": "python",
   "pygments_lexer": "ipython3",
   "version": "3.7.4"
  }
 },
 "nbformat": 4,
 "nbformat_minor": 4
}
